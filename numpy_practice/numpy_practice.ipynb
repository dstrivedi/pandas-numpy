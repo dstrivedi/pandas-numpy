{
 "cells": [
  {
   "cell_type": "markdown",
   "metadata": {},
   "source": [
    "# Numpy Basics"
   ]
  },
  {
   "cell_type": "code",
   "execution_count": 1,
   "metadata": {},
   "outputs": [
    {
     "name": "stdout",
     "output_type": "stream",
     "text": [
      "[0 1 2 3 4 5]\n"
     ]
    },
    {
     "data": {
      "text/plain": [
       "'1.26.4'"
      ]
     },
     "execution_count": 1,
     "metadata": {},
     "output_type": "execute_result"
    }
   ],
   "source": [
    "import numpy as np\n",
    "\n",
    "arr = np.array([0,1, 2, 3, 4, 5])\n",
    "print(arr)\n",
    "np.__version__\n"
   ]
  },
  {
   "cell_type": "code",
   "execution_count": 2,
   "metadata": {},
   "outputs": [
    {
     "name": "stdout",
     "output_type": "stream",
     "text": [
      "[1 2 3 4 5 6]\n",
      "[[1 2 3]\n",
      " [4 5 6]]\n",
      "[[1 2 3]\n",
      " [4 5 6]\n",
      " [7 8 9]]\n",
      "[[[1 2 3]\n",
      "  [4 5 6]\n",
      "  [7 8 9]]\n",
      "\n",
      " [[1 2 3]\n",
      "  [4 5 6]\n",
      "  [7 8 9]]]\n",
      "[[[1 2 3]\n",
      "  [4 5 6]\n",
      "  [7 8 9]]\n",
      "\n",
      " [[1 2 3]\n",
      "  [4 5 6]\n",
      "  [7 8 9]]\n",
      "\n",
      " [[1 2 3]\n",
      "  [4 5 6]\n",
      "  [7 8 9]]]\n",
      "[[[[[1 2 3 4 5]]]]]\n",
      "[[[[[[1 2 3 4 5]]]]]]\n"
     ]
    }
   ],
   "source": [
    "oned_arr = np.array([1, 2, 3, 4, 5, 6])\n",
    "print(oned_arr)\n",
    "\n",
    "twod_arr = np.array([[1, 2, 3], [4, 5, 6]])\n",
    "print(twod_arr)\n",
    "\n",
    "twod_arr1 = np.array([[1, 2, 3], [4, 5, 6], [7, 8, 9]])\n",
    "print(twod_arr1)\n",
    "\n",
    "threed_arr = np.array([[[1, 2, 3], [4, 5, 6], [7, 8, 9]], [[1, 2, 3], [4, 5, 6], [7, 8, 9]]])\n",
    "print(threed_arr)\n",
    "\n",
    "threed_arr1 = np.array([[[1, 2, 3], [4, 5, 6], [7, 8, 9]], [[1, 2, 3], [4, 5, 6], [7, 8, 9]], [[1, 2, 3], [4, 5, 6], [7, 8, 9]]])\n",
    "print(threed_arr1)\n",
    "\n",
    "dim_arr = np.array([1,2,3,4,5], ndmin = 5)\n",
    "print(dim_arr)\n",
    "\n",
    "dim_arr1 = np.array([1,2,3,4,5], ndmin = 6)\n",
    "print(dim_arr1)"
   ]
  },
  {
   "cell_type": "markdown",
   "metadata": {},
   "source": [
    "## numpy data types\n",
    "\n",
    "1. i - integer\n",
    "2. b - boolean\n",
    "3. u - unsigned integer\n",
    "4. f - float\n",
    "5. c - complex float\n",
    "6. m - timedelta\n",
    "7. M - datetime\n",
    "8. O - object\n",
    "9. S - string\n",
    "10. U - unicode string\n",
    "11. V - fixed chunk of memory for other type ( void )\n",
    "\n",
    "## checking the data type of an array  - arr.dtype"
   ]
  },
  {
   "cell_type": "code",
   "execution_count": 3,
   "metadata": {},
   "outputs": [
    {
     "name": "stdout",
     "output_type": "stream",
     "text": [
      "int32\n",
      "[b'1' b'2' b'3' b'4' b'5']\n",
      "|S1\n",
      "[1 2 3 4]\n",
      "int32\n"
     ]
    }
   ],
   "source": [
    "print(arr.dtype)\n",
    "\n",
    "s_arr = np.array([1,2,3,4,5], dtype= \"S\")\n",
    "print(s_arr)\n",
    "print(s_arr.dtype)\n",
    "\n",
    "i4_arr = np.array([1, 2, 3, 4], dtype='i4')\n",
    "\n",
    "print(i4_arr)\n",
    "print(i4_arr.dtype)\n",
    "\n",
    "# A non integer string like 'a' can not be converted to integer (will raise an error):\n",
    "# si4_arr = np.array(['a', 'b', 'c', 'd'], dtype='i4')\n",
    "# print(si4_arr)\n"
   ]
  },
  {
   "cell_type": "markdown",
   "metadata": {},
   "source": [
    "## astype() - change the data type of an existing array, is to make a copy of the array with the astype() method."
   ]
  },
  {
   "cell_type": "code",
   "execution_count": 4,
   "metadata": {},
   "outputs": [
    {
     "name": "stdout",
     "output_type": "stream",
     "text": [
      "[1. 2. 3. 4.]\n",
      "float32\n",
      "[1.1 2.2 3.1 4.  2. ]\n",
      "float64\n",
      "[1 2 3 4 2]\n",
      "int32\n",
      "[False  True  True  True  True  True]\n",
      "bool\n"
     ]
    }
   ],
   "source": [
    "newi4_arr = i4_arr.astype('f') # integer to float\n",
    "print( newi4_arr)\n",
    "print(newi4_arr.dtype)\n",
    "\n",
    "f_arr = np.array([1.1, 2.2, 3.1, 4,2])\n",
    "print(f_arr)\n",
    "print(f_arr.dtype)\n",
    "\n",
    "newf_arr = f_arr.astype('i') # float to integer using astype(int) too\n",
    "print(newf_arr)    \n",
    "print(newf_arr.dtype)\n",
    "\n",
    "bool_arr = arr.astype(bool) # integer to boolean\n",
    "print(bool_arr)\n",
    "print(bool_arr.dtype)\n"
   ]
  },
  {
   "cell_type": "markdown",
   "metadata": {},
   "source": [
    "## numpy copy vs view\n",
    "\n",
    "### The Difference Between Copy and View\n",
    "The main difference between a copy and a view of an array is that the copy is a new array, and the view is just a view of the original array.\n",
    "\n",
    "The copy owns the data and any changes made to the copy will not affect original array, and any changes made to the original array will not affect the copy.\n",
    "\n",
    "The view does not own the data and any changes made to the view will affect the original array, and any changes made to the original array will affect the view."
   ]
  },
  {
   "cell_type": "code",
   "execution_count": 5,
   "metadata": {},
   "outputs": [
    {
     "name": "stdout",
     "output_type": "stream",
     "text": [
      "[0 1 2 3 4 5]\n",
      "[0 1 2 3 4 6]\n",
      "[0 1 2 3 4 5]\n",
      "[0 1 2 3 4 7]\n",
      "[0 1 2 3 4 6]\n"
     ]
    }
   ],
   "source": [
    "copy_arr = np.copy(arr)\n",
    "print(copy_arr)\n",
    "\n",
    "# changes in copy_arr will not reflect in arr\n",
    "copy_arr[5] = 6\n",
    "print(copy_arr)\n",
    "print(arr)\n",
    "\n",
    "# changes in arr will reflect in copy_arr\n",
    "arr[5] = 7\n",
    "print(arr)\n",
    "print(copy_arr)"
   ]
  },
  {
   "cell_type": "code",
   "execution_count": 6,
   "metadata": {},
   "outputs": [
    {
     "name": "stdout",
     "output_type": "stream",
     "text": [
      "[0 1 2 3 4 7]\n",
      "[0 1 2 3 4 6]\n",
      "[0 1 2 3 4 6]\n",
      "[0 1 2 3 4 7]\n",
      "[0 1 2 3 4 7]\n"
     ]
    }
   ],
   "source": [
    "view_arr = arr.view()\n",
    "print(view_arr)\n",
    "\n",
    "# changes in view_arr will reflect in arr\n",
    "view_arr[5] = 6\n",
    "print(view_arr)\n",
    "print(arr)\n",
    "\n",
    "# changes in arr will reflect in view_arr\n",
    "arr[5] = 7\n",
    "print(arr)\n",
    "print(view_arr)\n"
   ]
  },
  {
   "cell_type": "markdown",
   "metadata": {},
   "source": [
    "### Check if Array Owns its Data\n",
    "As mentioned above, copies owns the data, and views does not own the data, but how can we check this?\n",
    "\n",
    "Every NumPy array has the attribute base that returns None if the array owns the data.\n",
    "\n",
    "Otherwise, the base  attribute refers to the original object."
   ]
  },
  {
   "cell_type": "code",
   "execution_count": 7,
   "metadata": {},
   "outputs": [
    {
     "name": "stdout",
     "output_type": "stream",
     "text": [
      "None\n",
      "[0 1 2 3 4 7]\n"
     ]
    }
   ],
   "source": [
    "print(copy_arr.base) # None as it is a copy and owns the data\n",
    "print(view_arr.base)  # arr as it is a view and does not own the data"
   ]
  },
  {
   "cell_type": "markdown",
   "metadata": {},
   "source": [
    "## numpy array shape"
   ]
  },
  {
   "cell_type": "code",
   "execution_count": 8,
   "metadata": {},
   "outputs": [
    {
     "name": "stdout",
     "output_type": "stream",
     "text": [
      "(6,)\n",
      "(2, 3)\n",
      "(3, 3)\n",
      "(2, 3, 3)\n",
      "(3, 3, 3)\n",
      "(1, 1, 1, 1, 5)\n",
      "(1, 1, 1, 1, 1, 5)\n"
     ]
    }
   ],
   "source": [
    "print(arr.shape) # (6,) as it is a 1D array\n",
    "\n",
    "print(twod_arr.shape) # (2, 3) as it is a 2D array\n",
    "\n",
    "print(twod_arr1.shape) # (3, 3) as it is a 2D array\n",
    "\n",
    "print(threed_arr.shape) # (2, 3, 3) as it is a 3D array\n",
    "\n",
    "print(threed_arr1.shape) # (3, 3, 3) as it is a 3D array\n",
    "\n",
    "print(dim_arr.shape) # (1, 1, 1, 1, 5) as it is a 5D array\n",
    "\n",
    "print(dim_arr1.shape) # (1, 1, 1, 1, 1, 5) as it is a 6D array"
   ]
  },
  {
   "cell_type": "markdown",
   "metadata": {},
   "source": [
    "## numpy array reshaping"
   ]
  },
  {
   "cell_type": "code",
   "execution_count": 9,
   "metadata": {},
   "outputs": [
    {
     "name": "stdout",
     "output_type": "stream",
     "text": [
      "[1 2 3 4 5 6]\n",
      "[[1 2 3]\n",
      " [4 5 6]]\n",
      "[[1 2]\n",
      " [3 4]\n",
      " [5 6]]\n",
      "[[1]\n",
      " [2]\n",
      " [3]\n",
      " [4]\n",
      " [5]\n",
      " [6]]\n",
      "[[1 2 3 4 5 6]]\n",
      "[[[1]\n",
      "  [2]]\n",
      "\n",
      " [[3]\n",
      "  [4]]\n",
      "\n",
      " [[5]\n",
      "  [6]]]\n",
      "[[[1 2]\n",
      "  [3 4]\n",
      "  [5 6]]]\n",
      "[[[1]\n",
      "  [2]\n",
      "  [3]]\n",
      "\n",
      " [[4]\n",
      "  [5]\n",
      "  [6]]]\n",
      "[[[1 2 3]]\n",
      "\n",
      " [[4 5 6]]]\n"
     ]
    }
   ],
   "source": [
    "arr1 = np.array([1, 2, 3, 4, 5, 6])\n",
    "print(arr1)\n",
    "\n",
    "# from 1-d to 2-d \n",
    "newarr1 = arr1.reshape(2,3)\n",
    "print(newarr1)\n",
    "\n",
    "# newarr2 = arr1.reshape(2,2)\n",
    "# print(newarr2)\n",
    "\n",
    "# 3 arrays with 2 elements\n",
    "newarr3 = arr1.reshape(3,2) # 1D to 2D\n",
    "print(newarr3)\n",
    "\n",
    "# 6 arrays with 1 element\n",
    "newarr4 = arr1.reshape(6,1) # 1D to +2D\n",
    "print(newarr4)\n",
    "\n",
    "# 1 array with 6 elements\n",
    "newarr5 = arr1.reshape(1,6)  # 1D to 2D\n",
    "print(newarr5)\n",
    "\n",
    "# 3 arrays then 2 arrays with 1 element\n",
    "newarr6 = arr1.reshape(3,2,1)  # 1D to 3D\n",
    "print(newarr6)\n",
    "\n",
    "# 1 array then 3 arrays with 2 elements\n",
    "newarr7 = arr1.reshape(1,3,2)  # 1D to 3D \n",
    "print(newarr7)\n",
    "\n",
    "# 2 arrays then 1 array with 1 element\n",
    "newarr8 = arr1.reshape(2,3,1)  # 1D to 3D\n",
    "print(newarr8)\n",
    "\n",
    "# 1 array then 2 arrays with 1 element\n",
    "newarr9 = arr1.reshape(2,1,3)  # 1D to 3D\n",
    "print(newarr9)"
   ]
  },
  {
   "cell_type": "code",
   "execution_count": 10,
   "metadata": {},
   "outputs": [
    {
     "name": "stdout",
     "output_type": "stream",
     "text": [
      "[1 2 3 4 5 6]\n",
      "[ 1 11  3  4  5  6]\n",
      "[[ 1 11  3]\n",
      " [ 4  5  6]]\n",
      "[10 11  3  4  5  6]\n",
      "[[10 11  3]\n",
      " [ 4  5  6]]\n"
     ]
    }
   ],
   "source": [
    "# check if the return array is a copy or a view\n",
    "\n",
    "print(newarr1.base) # [1,2 ,3, 4, 5, 6] as it is a view and owns the data\n",
    "newarr1[0][1] = 11\n",
    "print(arr1)\n",
    "print(newarr1)\n",
    "\n",
    "arr1[0] = 10\n",
    "print(arr1)\n",
    "print(newarr1)"
   ]
  },
  {
   "cell_type": "code",
   "execution_count": 11,
   "metadata": {},
   "outputs": [
    {
     "name": "stdout",
     "output_type": "stream",
     "text": [
      "[0 1 2 3 4 7]\n",
      "[[0 1 2]\n",
      " [3 4 7]]\n",
      "[[0 1]\n",
      " [2 3]\n",
      " [4 7]]\n",
      "[[0]\n",
      " [1]\n",
      " [2]\n",
      " [3]\n",
      " [4]\n",
      " [7]]\n",
      "[[[0]\n",
      "  [1]\n",
      "  [2]]\n",
      "\n",
      " [[3]\n",
      "  [4]\n",
      "  [7]]]\n",
      "[[[0]\n",
      "  [1]]\n",
      "\n",
      " [[2]\n",
      "  [3]]\n",
      "\n",
      " [[4]\n",
      "  [7]]]\n"
     ]
    }
   ],
   "source": [
    "# unknown dimension \n",
    "\n",
    "print(arr)\n",
    "\n",
    "# unknown dimension with 2d\n",
    "un_arr = arr.reshape(2, -1)\n",
    "print(un_arr)\n",
    "\n",
    "un_arr1 = arr.reshape(3, -1)\n",
    "print(un_arr1)\n",
    "\n",
    "un_arr4 = arr.reshape(6, -1)\n",
    "print(un_arr4)\n",
    "\n",
    "# unknown dimension with 3d\n",
    "un_arr5 = arr.reshape(2, 3, -1)\n",
    "print(un_arr5)\n",
    "\n",
    "un_arr6 = arr.reshape(3, 2, -1)\n",
    "print(un_arr6)\n"
   ]
  },
  {
   "cell_type": "code",
   "execution_count": 12,
   "metadata": {},
   "outputs": [
    {
     "name": "stdout",
     "output_type": "stream",
     "text": [
      "[1 2 3 4 5 6]\n",
      "[1 2 3 4 5 6]\n",
      "[1 2 3 4 5 6]\n"
     ]
    }
   ],
   "source": [
    "# Flattening the arrays with reshape\n",
    "flat_arr = np.array([[1, 2, 3], [4, 5, 6]])\n",
    "\n",
    "newflat_arr = flat_arr.reshape(-1)\n",
    "print(newflat_arr)\n",
    "\n",
    "# Flattening the arrays with ravel\n",
    "flat_arr1 = np.array([[1, 2, 3], [4, 5, 6]])\n",
    "\n",
    "newflat_arr1 = flat_arr1.ravel()\n",
    "print(newflat_arr1)\n",
    "\n",
    "# Flattening the arrays with flatten\n",
    "flat_arr2 = np.array([[1, 2, 3], [4, 5, 6]])\n",
    "\n",
    "newflat_arr2 = flat_arr2.flatten()\n",
    "print(newflat_arr2)"
   ]
  },
  {
   "cell_type": "markdown",
   "metadata": {},
   "source": [
    "## numpy array iterating"
   ]
  },
  {
   "cell_type": "code",
   "execution_count": 13,
   "metadata": {},
   "outputs": [
    {
     "name": "stdout",
     "output_type": "stream",
     "text": [
      "1\n",
      "2\n",
      "3\n",
      "4\n",
      "5\n",
      "6\n",
      "[1 2 3]\n",
      "[4 5 6]\n",
      "1\n",
      "2\n",
      "3\n",
      "4\n",
      "5\n",
      "6\n",
      "1\n",
      "2\n",
      "3\n",
      "4\n",
      "5\n",
      "6\n",
      "7\n",
      "8\n",
      "9\n",
      "1\n",
      "2\n",
      "3\n",
      "4\n",
      "5\n",
      "6\n",
      "7\n",
      "8\n",
      "9\n",
      "1\n",
      "2\n",
      "3\n",
      "4\n",
      "5\n",
      "6\n",
      "1\n",
      "2\n",
      "3\n",
      "4\n",
      "5\n",
      "6\n"
     ]
    }
   ],
   "source": [
    "# iterating 1D array\n",
    "\n",
    "arr1 = np.array([1, 2, 3, 4, 5, 6])\n",
    "for i in arr1:\n",
    "    print(i)\n",
    "    \n",
    "# iterating 2D array\n",
    "arr2 = np.array([[1, 2, 3], [4, 5, 6]])\n",
    "for i in arr2:\n",
    "    print(i)\n",
    "    \n",
    "for i in arr2:\n",
    "    for j in i:\n",
    "        print(j)\n",
    "        \n",
    "# iterating 3D array\n",
    "arr3 = np.array([[[1, 2, 3], [4, 5, 6], [7, 8, 9]], [[1, 2, 3], [4, 5, 6], [7, 8, 9]]])\n",
    "for i in arr3:\n",
    "    #print(i)\n",
    "    for j in i:\n",
    "        # print(j)\n",
    "        for k in j:\n",
    "            print(k)\n",
    "            \n",
    "# iterating 4D array\n",
    "arr4 = np.array([[[[1,2,3],[4, 5, 6]],[[1,2,3],[4,5,6]]]])\n",
    "# print(arr4)\n",
    "for i in arr4:\n",
    "    # print(i)\n",
    "    for j in i:\n",
    "        # print(j)  \n",
    "        for k in j:\n",
    "            # print(k)\n",
    "            for l in k:\n",
    "                print(l)\n",
    "    "
   ]
  },
  {
   "cell_type": "markdown",
   "metadata": {},
   "source": [
    "## Iterating Arrays Using nditer()"
   ]
  },
  {
   "cell_type": "code",
   "execution_count": 14,
   "metadata": {},
   "outputs": [
    {
     "name": "stdout",
     "output_type": "stream",
     "text": [
      "[[1 2 3]\n",
      " [4 5 6]]\n",
      "1\n",
      "2\n",
      "3\n",
      "4\n",
      "5\n",
      "6\n",
      "[[[1 2 3]\n",
      "  [4 5 6]\n",
      "  [7 8 9]]\n",
      "\n",
      " [[1 2 3]\n",
      "  [4 5 6]\n",
      "  [7 8 9]]]\n",
      "1\n",
      "2\n",
      "3\n",
      "4\n",
      "5\n",
      "6\n",
      "7\n",
      "8\n",
      "9\n",
      "1\n",
      "2\n",
      "3\n",
      "4\n",
      "5\n",
      "6\n",
      "7\n",
      "8\n",
      "9\n"
     ]
    }
   ],
   "source": [
    "print(arr2)\n",
    "for i in np.nditer(arr2):\n",
    "    print(i)\n",
    "    \n",
    "# same for 3D array\n",
    "print(arr3)\n",
    "for i in np.nditer(arr3):\n",
    "    print(i)"
   ]
  },
  {
   "cell_type": "code",
   "execution_count": 15,
   "metadata": {},
   "outputs": [
    {
     "name": "stdout",
     "output_type": "stream",
     "text": [
      "b'1'\n",
      "b'2'\n",
      "b'3'\n",
      "b'4'\n",
      "b'5'\n",
      "b'6'\n"
     ]
    }
   ],
   "source": [
    "# iterate through the array as string\n",
    "for i in np.nditer(arr2, flags = ['buffered'], op_dtypes = ['S']):\n",
    "    print(i)"
   ]
  },
  {
   "cell_type": "code",
   "execution_count": 16,
   "metadata": {},
   "outputs": [
    {
     "name": "stdout",
     "output_type": "stream",
     "text": [
      "1\n",
      "3\n",
      "4\n",
      "6\n",
      "1\n",
      "2\n",
      "3\n"
     ]
    }
   ],
   "source": [
    "# Iterating With Different Step Size\n",
    "for x in np.nditer(arr2[:, ::2]):   #select all rows and every second column starting with 0\n",
    "    print(x)\n",
    "    \n",
    "for x in np.nditer(arr2[::2]): #select every 2 row starting with 0\n",
    "    print(x)"
   ]
  },
  {
   "cell_type": "code",
   "execution_count": 17,
   "metadata": {},
   "outputs": [
    {
     "name": "stdout",
     "output_type": "stream",
     "text": [
      "(0,) 0\n",
      "(1,) 1\n",
      "(2,) 2\n",
      "(3,) 3\n",
      "(4,) 4\n",
      "(5,) 7\n",
      "(0, 0) 1\n",
      "(0, 1) 2\n",
      "(0, 2) 3\n",
      "(1, 0) 4\n",
      "(1, 1) 5\n",
      "(1, 2) 6\n",
      "(0, 0, 0) 1\n",
      "(0, 0, 1) 2\n",
      "(0, 0, 2) 3\n",
      "(0, 1, 0) 4\n",
      "(0, 1, 1) 5\n",
      "(0, 1, 2) 6\n",
      "(0, 2, 0) 7\n",
      "(0, 2, 1) 8\n",
      "(0, 2, 2) 9\n",
      "(1, 0, 0) 1\n",
      "(1, 0, 1) 2\n",
      "(1, 0, 2) 3\n",
      "(1, 1, 0) 4\n",
      "(1, 1, 1) 5\n",
      "(1, 1, 2) 6\n",
      "(1, 2, 0) 7\n",
      "(1, 2, 1) 8\n",
      "(1, 2, 2) 9\n",
      "(0, 0, 0, 0) 1\n",
      "(0, 0, 0, 1) 2\n",
      "(0, 0, 0, 2) 3\n",
      "(0, 0, 1, 0) 4\n",
      "(0, 0, 1, 1) 5\n",
      "(0, 0, 1, 2) 6\n",
      "(0, 1, 0, 0) 1\n",
      "(0, 1, 0, 1) 2\n",
      "(0, 1, 0, 2) 3\n",
      "(0, 1, 1, 0) 4\n",
      "(0, 1, 1, 1) 5\n",
      "(0, 1, 1, 2) 6\n"
     ]
    }
   ],
   "source": [
    "# ndemunerate\n",
    "for i, x in np.ndenumerate(arr):\n",
    "    print(i, x)\n",
    "    \n",
    "for i, x in np.ndenumerate(arr2):\n",
    "    print(i, x)\n",
    "    \n",
    "for i, x in np.ndenumerate(arr3):\n",
    "    print(i, x)\n",
    "    \n",
    "for i, x in np.ndenumerate(arr4):\n",
    "    print(i, x)"
   ]
  },
  {
   "cell_type": "markdown",
   "metadata": {},
   "source": [
    "## joining numpy arrays"
   ]
  },
  {
   "cell_type": "code",
   "execution_count": 18,
   "metadata": {},
   "outputs": [
    {
     "name": "stdout",
     "output_type": "stream",
     "text": [
      "[1 2 3 4 5 6]\n",
      "[[ 1  2  3]\n",
      " [ 4  5  6]\n",
      " [ 7  8  9]\n",
      " [10 11 12]]\n",
      "[[[ 1  2  3]\n",
      "  [ 4  5  6]]\n",
      "\n",
      " [[ 7  8  9]\n",
      "  [10 11 12]]\n",
      "\n",
      " [[13 14 15]\n",
      "  [16 17 18]]\n",
      "\n",
      " [[19 20 21]\n",
      "  [22 23 24]]]\n"
     ]
    }
   ],
   "source": [
    "# concatenating arrays\n",
    "\n",
    "arr1 = np.array([1, 2, 3])\n",
    "arr2 = np.array([4, 5, 6])\n",
    "arr3 = np.concatenate([arr1, arr2])\n",
    "print(arr3)\n",
    "\n",
    "arr4 = np.array([[1, 2, 3], [4, 5, 6]])\n",
    "arr5 = np.array([[7, 8, 9], [10, 11, 12]])\n",
    "arr6 = np.concatenate([arr4, arr5])\n",
    "print(arr6)\n",
    "\n",
    "arr7 = np.array([[[1, 2, 3], [4, 5, 6]], [[7, 8, 9], [10, 11, 12]]])\n",
    "arr8 = np.array([[[13, 14, 15], [16, 17, 18]], [[19, 20, 21], [22, 23, 24]]])\n",
    "arr9 = np.concatenate([arr7, arr8])\n",
    "print(arr9)\n",
    "\n"
   ]
  },
  {
   "cell_type": "code",
   "execution_count": 19,
   "metadata": {},
   "outputs": [
    {
     "name": "stdout",
     "output_type": "stream",
     "text": [
      "[[1 2 3]\n",
      " [4 5 6]]\n",
      "[[1 4]\n",
      " [2 5]\n",
      " [3 6]]\n"
     ]
    }
   ],
   "source": [
    "# using stack()\n",
    "\n",
    "arr1 = np.array([1, 2, 3])\n",
    "arr2 = np.array([4, 5, 6])\n",
    "arr3 = np.stack([arr1, arr2])\n",
    "print(arr3)\n",
    "\n",
    "arr4 = np.stack([arr1, arr2], axis=1)\n",
    "print(arr4)\n",
    "\n"
   ]
  },
  {
   "cell_type": "code",
   "execution_count": 20,
   "metadata": {},
   "outputs": [
    {
     "name": "stdout",
     "output_type": "stream",
     "text": [
      "[1 2 3 4 5 6]\n",
      "[[1 2 3]\n",
      " [4 5 6]]\n",
      "[[[1 4]\n",
      "  [2 5]\n",
      "  [3 6]]]\n",
      "[[1 2]\n",
      " [3 4]\n",
      " [5 6]\n",
      " [7 8]]\n",
      "[[1 2 5 6]\n",
      " [3 4 7 8]]\n",
      "[[[1 5]\n",
      "  [2 6]]\n",
      "\n",
      " [[3 7]\n",
      "  [4 8]]]\n"
     ]
    }
   ],
   "source": [
    "arr5 = np.hstack([arr1, arr2]) # horizontally\n",
    "print(arr5)\n",
    "\n",
    "arr6 = np.vstack([arr1, arr2])  # vertically\n",
    "print(arr6)\n",
    "\n",
    "arr7 = np.dstack([arr1, arr2])  # depth\n",
    "print(arr7)\n",
    "\n",
    "print(np.vstack(([[1,2], [3,4]], [[5,6], [7,8]])))\n",
    "print(np.hstack(([[1,2], [3,4]], [[5,6], [7,8]])))\n",
    "print(np.dstack(([[1,2], [3,4]], [[5,6], [7,8]])))\n"
   ]
  },
  {
   "cell_type": "code",
   "execution_count": 21,
   "metadata": {},
   "outputs": [
    {
     "name": "stdout",
     "output_type": "stream",
     "text": [
      "[[1 3 5]\n",
      " [2 4 6]]\n",
      "[[ 1  2  3  5  6  7]\n",
      " [ 4  5  6  8  9 10]]\n",
      "[[1 2 5 6]\n",
      " [3 4 7 8]]\n",
      "[[[1 5]\n",
      "  [2 6]]\n",
      "\n",
      " [[3 7]\n",
      "  [4 8]]]\n"
     ]
    }
   ],
   "source": [
    "a = np.array([1, 2])\n",
    "b = np.array([3, 4])\n",
    "c = np.array([5, 6])\n",
    "\n",
    "result = np.stack((a, b, c), axis=1)\n",
    "print(result)\n",
    "\n",
    "a = np.array([[1, 2, 3], [4, 5, 6]])\n",
    "b = np.array([[5, 6, 7], [8, 9, 10]])\n",
    "\n",
    "result = np.hstack((a, b))\n",
    "print(result)\n",
    "\n",
    "a = np.array([[1, 2], [3, 4]])\n",
    "b = np.array([[5, 6], [7, 8]])\n",
    "\n",
    "result = np.hstack((a, b))\n",
    "print(result)\n",
    "\n",
    "result = np.dstack((a, b))\n",
    "print(result)\n"
   ]
  },
  {
   "cell_type": "code",
   "execution_count": 22,
   "metadata": {},
   "outputs": [
    {
     "name": "stdout",
     "output_type": "stream",
     "text": [
      "[[1 4]\n",
      " [2 5]\n",
      " [3 6]]\n"
     ]
    }
   ],
   "source": [
    "a = np.array([1, 2, 3])\n",
    "b = np.array([4, 5, 6])\n",
    "\n",
    "print(np.stack((a, b), axis=1))\n"
   ]
  },
  {
   "cell_type": "code",
   "execution_count": 23,
   "metadata": {},
   "outputs": [
    {
     "name": "stdout",
     "output_type": "stream",
     "text": [
      "[[1 2]\n",
      " [3 4]]\n"
     ]
    }
   ],
   "source": [
    "a = np.array([[1, 2]])\n",
    "b = np.array([3, 4])\n",
    "\n",
    "result = np.vstack((a, b)) \n",
    "print(result)"
   ]
  },
  {
   "cell_type": "code",
   "execution_count": 24,
   "metadata": {},
   "outputs": [
    {
     "name": "stdout",
     "output_type": "stream",
     "text": [
      "[[[1. 1. 1.]\n",
      "  [1. 1. 1.]]\n",
      "\n",
      " [[0. 0. 0.]\n",
      "  [0. 0. 0.]]]\n"
     ]
    }
   ],
   "source": [
    "a = np.ones((2, 3))\n",
    "b = np.zeros((2, 3))\n",
    "\n",
    "stacked = np.stack((a, b), axis=0)\n",
    "print(stacked)"
   ]
  },
  {
   "cell_type": "code",
   "execution_count": 25,
   "metadata": {},
   "outputs": [
    {
     "name": "stdout",
     "output_type": "stream",
     "text": [
      "[[255 255]\n",
      " [255 255]]\n"
     ]
    }
   ],
   "source": [
    "r = np.full((2, 2), 255)\n",
    "g = np.ones((2, 2))\n",
    "b = np.zeros((2, 2))\n",
    "print(r)"
   ]
  },
  {
   "cell_type": "code",
   "execution_count": 26,
   "metadata": {},
   "outputs": [
    {
     "name": "stdout",
     "output_type": "stream",
     "text": [
      "[[[255. 255.]\n",
      "  [255. 255.]]\n",
      "\n",
      " [[  1.   1.]\n",
      "  [  1.   1.]]\n",
      "\n",
      " [[  0.   0.]\n",
      "  [  0.   0.]]]\n"
     ]
    }
   ],
   "source": [
    "print(np.stack((r, g, b), axis=0))"
   ]
  },
  {
   "cell_type": "code",
   "execution_count": 27,
   "metadata": {},
   "outputs": [
    {
     "name": "stdout",
     "output_type": "stream",
     "text": [
      "[[[255. 255.]\n",
      "  [  1.   1.]\n",
      "  [  0.   0.]]\n",
      "\n",
      " [[255. 255.]\n",
      "  [  1.   1.]\n",
      "  [  0.   0.]]]\n"
     ]
    }
   ],
   "source": [
    "print(np.stack((r, g, b), axis=1))"
   ]
  },
  {
   "cell_type": "code",
   "execution_count": 28,
   "metadata": {},
   "outputs": [
    {
     "name": "stdout",
     "output_type": "stream",
     "text": [
      "[[[255.   1.   0.]\n",
      "  [255.   1.   0.]]\n",
      "\n",
      " [[255.   1.   0.]\n",
      "  [255.   1.   0.]]]\n"
     ]
    }
   ],
   "source": [
    "print(np.stack((r, g, b), axis=2))"
   ]
  },
  {
   "cell_type": "markdown",
   "metadata": {},
   "source": [
    "## numpy array splits"
   ]
  },
  {
   "cell_type": "code",
   "execution_count": 29,
   "metadata": {},
   "outputs": [
    {
     "name": "stdout",
     "output_type": "stream",
     "text": [
      "[array([1, 2]), array([3, 4]), array([5]), array([6])]\n",
      "[array([1, 2]), array([3, 4]), array([5, 6])]\n",
      "[1 2]\n",
      "[3 4]\n",
      "[5 6]\n",
      "[array([1, 2, 3]), array([4, 5, 6])]\n",
      "[array([1]), array([2]), array([3]), array([4]), array([5]), array([6])]\n",
      "[array([1]), array([2]), array([3]), array([4]), array([5]), array([6]), array([], dtype=int32)]\n",
      "[array([1]), array([2]), array([3]), array([4]), array([5]), array([6]), array([], dtype=int32), array([], dtype=int32)]\n",
      "[array([1, 2, 3]), array([4, 5, 6])]\n"
     ]
    }
   ],
   "source": [
    "# split 1D array\n",
    "\n",
    "arr = np.array([1, 2, 3, 4, 5, 6])\n",
    "newarr = np.array_split(arr,4)\n",
    "print(newarr)\n",
    "\n",
    "newarr1 = np.array_split(arr,3)\n",
    "print(newarr1)\n",
    "print(newarr1[0])\n",
    "print(newarr1[1])\n",
    "print(newarr1[2])\n",
    "\n",
    "newarr2 = np.array_split(arr,2)\n",
    "print(newarr2)\n",
    "\n",
    "newarr3 = np.array_split(arr,6)\n",
    "print(newarr3)\n",
    "\n",
    "newarr4 = np.array_split(arr,7)\n",
    "print(newarr4)\n",
    "\n",
    "newarr5 = np.array_split(arr,8)\n",
    "print(newarr5)\n",
    "\n",
    "print(np.array_split(arr, 2, axis=0))\n"
   ]
  },
  {
   "cell_type": "code",
   "execution_count": 30,
   "metadata": {},
   "outputs": [
    {
     "name": "stdout",
     "output_type": "stream",
     "text": [
      "[array([[1, 2, 3],\n",
      "       [4, 5, 6],\n",
      "       [7, 8, 9]]), array([[10, 11, 12],\n",
      "       [13, 14, 15],\n",
      "       [16, 17, 18]])]\n",
      "[array([[1, 2, 3],\n",
      "       [4, 5, 6]]), array([[ 7,  8,  9],\n",
      "       [10, 11, 12]]), array([[13, 14, 15],\n",
      "       [16, 17, 18]])]\n",
      "[[1 2 3]\n",
      " [4 5 6]]\n",
      "[[ 7  8  9]\n",
      " [10 11 12]]\n",
      "[[13 14 15]\n",
      " [16 17 18]]\n",
      "[array([[1, 2, 3],\n",
      "       [4, 5, 6]]), array([[ 7,  8,  9],\n",
      "       [10, 11, 12]]), array([[13, 14, 15]]), array([[16, 17, 18]])]\n",
      "[array([[1, 2, 3],\n",
      "       [4, 5, 6]]), array([[7, 8, 9]]), array([[10, 11, 12]]), array([[13, 14, 15]]), array([[16, 17, 18]])]\n",
      "[array([[1, 2, 3]]), array([[4, 5, 6]]), array([[7, 8, 9]]), array([[10, 11, 12]]), array([[13, 14, 15]]), array([[16, 17, 18]])]\n",
      "[array([[1, 2, 3]]), array([[4, 5, 6]]), array([[7, 8, 9]]), array([[10, 11, 12]]), array([[13, 14, 15]]), array([[16, 17, 18]]), array([], shape=(0, 3), dtype=int32)]\n"
     ]
    }
   ],
   "source": [
    "# split 2D array\n",
    "\n",
    "arr = np.array([[1, 2, 3], [4, 5, 6], [7, 8, 9], [10, 11, 12], [13, 14, 15], [16, 17, 18]])\n",
    "newarr = np.array_split(arr,2)\n",
    "print(newarr)\n",
    "\n",
    "newarr1 = np.array_split(arr,3)\n",
    "print(newarr1)\n",
    "print(newarr1[0])   \n",
    "print(newarr1[1])\n",
    "print(newarr1[2])\n",
    "\n",
    "newarr2 = np.array_split(arr,4)\n",
    "print(newarr2)\n",
    "\n",
    "newarr3 = np.array_split(arr,5)\n",
    "print(newarr3)\n",
    "\n",
    "newarr4 = np.array_split(arr,6)\n",
    "print(newarr4)\n",
    "\n",
    "newarr5 = np.array_split(arr,7)\n",
    "print(newarr5)\n"
   ]
  },
  {
   "cell_type": "code",
   "execution_count": 31,
   "metadata": {},
   "outputs": [
    {
     "name": "stdout",
     "output_type": "stream",
     "text": [
      "[array([[ 1],\n",
      "       [ 4],\n",
      "       [ 7],\n",
      "       [10],\n",
      "       [13],\n",
      "       [16]]), array([[ 2],\n",
      "       [ 5],\n",
      "       [ 8],\n",
      "       [11],\n",
      "       [14],\n",
      "       [17]]), array([[ 3],\n",
      "       [ 6],\n",
      "       [ 9],\n",
      "       [12],\n",
      "       [15],\n",
      "       [18]])]\n",
      "[array([[1, 2, 3],\n",
      "       [4, 5, 6]]), array([[ 7,  8,  9],\n",
      "       [10, 11, 12]]), array([[13, 14, 15],\n",
      "       [16, 17, 18]])]\n",
      "[array([[ 1],\n",
      "       [ 4],\n",
      "       [ 7],\n",
      "       [10],\n",
      "       [13],\n",
      "       [16]]), array([[ 2],\n",
      "       [ 5],\n",
      "       [ 8],\n",
      "       [11],\n",
      "       [14],\n",
      "       [17]]), array([[ 3],\n",
      "       [ 6],\n",
      "       [ 9],\n",
      "       [12],\n",
      "       [15],\n",
      "       [18]]), array([], shape=(6, 0), dtype=int32)]\n"
     ]
    }
   ],
   "source": [
    "newarr8 = np.array_split(arr,3, axis=1)\n",
    "print(newarr8)\n",
    "\n",
    "newarr9 = np.array_split(arr,3, axis=0)\n",
    "print(newarr9)\n",
    "\n",
    "newarr10 = np.array_split(arr,4, axis=1)\n",
    "print(newarr10)\n",
    "\n"
   ]
  },
  {
   "cell_type": "code",
   "execution_count": 32,
   "metadata": {},
   "outputs": [
    {
     "name": "stdout",
     "output_type": "stream",
     "text": [
      "[array([[ 1],\n",
      "       [ 4],\n",
      "       [ 7],\n",
      "       [10],\n",
      "       [13],\n",
      "       [16]]), array([[ 2],\n",
      "       [ 5],\n",
      "       [ 8],\n",
      "       [11],\n",
      "       [14],\n",
      "       [17]]), array([[ 3],\n",
      "       [ 6],\n",
      "       [ 9],\n",
      "       [12],\n",
      "       [15],\n",
      "       [18]])]\n",
      "[array([[1, 2, 3],\n",
      "       [4, 5, 6]]), array([[ 7,  8,  9],\n",
      "       [10, 11, 12]]), array([[13, 14, 15],\n",
      "       [16, 17, 18]])]\n",
      "[array([1]), array([2]), array([3]), array([4]), array([5]), array([6])]\n"
     ]
    }
   ],
   "source": [
    "newarr11 = np.hsplit(arr,3)\n",
    "print(newarr11)\n",
    "\n",
    "newarr12 = np.vsplit(arr,3)\n",
    "print(newarr12)\n",
    "\n",
    "oned_arr = np.array([1, 2, 3, 4, 5, 6])\n",
    "print(np.array_split(oned_arr, 6))"
   ]
  },
  {
   "cell_type": "markdown",
   "metadata": {},
   "source": [
    "## Searching arrays"
   ]
  },
  {
   "cell_type": "code",
   "execution_count": 33,
   "metadata": {},
   "outputs": [
    {
     "name": "stdout",
     "output_type": "stream",
     "text": [
      "(array([4], dtype=int64),)\n",
      "(array([1, 3, 5], dtype=int64),)\n",
      "(array([5], dtype=int64),)\n",
      "(array([0, 1, 2, 3], dtype=int64),)\n"
     ]
    }
   ],
   "source": [
    "arr = np.array([1, 2, 3, 4, 5, 6])\n",
    "x = np.where(arr == 5)\n",
    "print(x)\n",
    "\n",
    "# arr = np.array([1, 2, 3, 4, 5, 4, 4])\n",
    "# x = np.where(arr == 4)\n",
    "# print(x)\n",
    "\n",
    "y = np.where(arr % 2 == 0)\n",
    "print(y)\n",
    "\n",
    "x1 = np.where(arr > 5)\n",
    "print(x1)\n",
    "\n",
    "x2 = np.where(arr < 5)\n",
    "print(x2)"
   ]
  },
  {
   "cell_type": "code",
   "execution_count": 34,
   "metadata": {},
   "outputs": [
    {
     "name": "stdout",
     "output_type": "stream",
     "text": [
      "3\n",
      "4\n"
     ]
    }
   ],
   "source": [
    "arr = np.array([1, 2, 3, 4, 5, 6])\n",
    "x = np.searchsorted(arr, 4)\n",
    "print(x)\n",
    "\n",
    "x1 = np.searchsorted(arr, 4, side='right')\n",
    "print(x1)\n"
   ]
  },
  {
   "cell_type": "markdown",
   "metadata": {},
   "source": [
    "## numpy sort\n"
   ]
  },
  {
   "cell_type": "code",
   "execution_count": 35,
   "metadata": {},
   "outputs": [
    {
     "name": "stdout",
     "output_type": "stream",
     "text": [
      "[0 1 2 3]\n",
      "[2 3 1 0]\n",
      "[[0 1 2 3]\n",
      " [1 2 4 6]]\n",
      "[[2 3 1 0]\n",
      " [3 2 1 0]]\n"
     ]
    }
   ],
   "source": [
    "# This method returns a copy of the array, leaving the original array unchanged.\n",
    "arr = np.array([3,2,0,1])\n",
    "sorted_arr = np.sort(arr)\n",
    "print(sorted_arr)\n",
    "\n",
    "print(arr.argsort())\n",
    "\n",
    "# 2d array\n",
    "arr = np.array([[3,2,0,1], [6,4,2,1]])\n",
    "sorted_arr = np.sort(arr)\n",
    "print(sorted_arr)\n",
    "print(arr.argsort())\n"
   ]
  },
  {
   "cell_type": "code",
   "execution_count": 36,
   "metadata": {},
   "outputs": [
    {
     "name": "stdout",
     "output_type": "stream",
     "text": [
      "[[2 1]\n",
      " [3 4]]\n"
     ]
    }
   ],
   "source": [
    "print(np.sort([[3,1], [2,4]], axis=0))"
   ]
  },
  {
   "cell_type": "code",
   "execution_count": 37,
   "metadata": {},
   "outputs": [
    {
     "name": "stdout",
     "output_type": "stream",
     "text": [
      "[[1 3]\n",
      " [2 4]]\n"
     ]
    }
   ],
   "source": [
    "print(np.sort([[3,1], [2,4]], axis=1))"
   ]
  },
  {
   "cell_type": "code",
   "execution_count": 38,
   "metadata": {},
   "outputs": [
    {
     "name": "stdout",
     "output_type": "stream",
     "text": [
      "[[2 1 0]\n",
      " [3 4 1]]\n"
     ]
    }
   ],
   "source": [
    "print(np.sort([[3,1,0], [2,4,1]], axis=0))"
   ]
  },
  {
   "cell_type": "code",
   "execution_count": 39,
   "metadata": {},
   "outputs": [
    {
     "name": "stdout",
     "output_type": "stream",
     "text": [
      "[[0 1 3]\n",
      " [1 2 4]]\n"
     ]
    }
   ],
   "source": [
    "print(np.sort([[3,1,0], [2,4,1]], axis=1))"
   ]
  },
  {
   "cell_type": "markdown",
   "metadata": {},
   "source": [
    "## numpy filter\n",
    "\n",
    "Getting some elements out of an existing array and creating a new array out of them is called filtering.\n",
    "\n",
    "In NumPy, you filter an array using a boolean index list.\n",
    "\n",
    "A boolean index list is a list of booleans corresponding to indexes in the array.\n",
    "\n",
    "If the value at an index is True that element is contained in the filtered array, if the value at that index is False that element is excluded from the filtered array."
   ]
  },
  {
   "cell_type": "code",
   "execution_count": 40,
   "metadata": {},
   "outputs": [
    {
     "name": "stdout",
     "output_type": "stream",
     "text": [
      "[3 0]\n"
     ]
    }
   ],
   "source": [
    "arr = np.array([3,2,0,1])\n",
    "x = [True, False, True, False]\n",
    "filtered_arr = arr[x]\n",
    "print(filtered_arr)"
   ]
  },
  {
   "cell_type": "code",
   "execution_count": 41,
   "metadata": {},
   "outputs": [
    {
     "name": "stdout",
     "output_type": "stream",
     "text": [
      "[12 34 90]\n"
     ]
    }
   ],
   "source": [
    "arr = np.array([12,45,34,67,89,90])\n",
    "filtered_arr = []\n",
    "\n",
    "for i in arr:\n",
    "    if i % 2 == 0:\n",
    "        filtered_arr.append(True)\n",
    "    else:\n",
    "        filtered_arr.append(False)\n",
    "\n",
    "newarr = arr[filtered_arr]\n",
    "print(newarr)"
   ]
  },
  {
   "cell_type": "code",
   "execution_count": 42,
   "metadata": {},
   "outputs": [
    {
     "name": "stdout",
     "output_type": "stream",
     "text": [
      "[12 34 90]\n"
     ]
    }
   ],
   "source": [
    "filtered_arr = arr % 2 == 0\n",
    "newarr = arr[filtered_arr]\n",
    "print(newarr)"
   ]
  },
  {
   "cell_type": "markdown",
   "metadata": {},
   "source": [
    "## numpy random"
   ]
  },
  {
   "cell_type": "code",
   "execution_count": 43,
   "metadata": {},
   "outputs": [
    {
     "name": "stdout",
     "output_type": "stream",
     "text": [
      "42\n",
      "0.4229350713231652\n",
      "1.756091139420568\n",
      "[61 11 57 32  2]\n",
      "[0.87613612 0.75913926 0.26978238 0.46197563 0.57015415]\n",
      "[[ 7 62 38 29 63]\n",
      " [82 85 53 44 20]\n",
      " [12 21 61 16 39]]\n",
      "[[[0.50597028 0.68386394 0.49228709 0.05259132]\n",
      "  [0.5470814  0.38222974 0.34974814 0.64546034]\n",
      "  [0.3869738  0.80974091 0.46530547 0.86313135]]\n",
      "\n",
      " [[0.09043703 0.92381584 0.86363    0.10980416]\n",
      "  [0.34412148 0.34142313 0.2835529  0.98044123]\n",
      "  [0.13011674 0.08977873 0.6968861  0.46063452]]]\n"
     ]
    }
   ],
   "source": [
    "import random\n",
    "\n",
    "# generate int\n",
    "x = random.randint(1, 100)\n",
    "print(x)\n",
    "\n",
    "# generate float from 0 to 1\n",
    "y = np.random.rand()\n",
    "print(y)\n",
    "\n",
    "# generate float from 0 to 100\n",
    "z = random.uniform(0, 100)\n",
    "print(z)\n",
    "\n",
    "# generate arr int\n",
    "arr = np.random.randint(1, 100, 5)\n",
    "print(arr)\n",
    "\n",
    "# generate floatarray\n",
    "arr = np.random.rand(5)\n",
    "print(arr)\n",
    "\n",
    "# generate 2d array\n",
    "arr1 = np.random.randint(1,100,(3, 5))\n",
    "print(arr1)\n",
    "\n",
    "# generate 3d array\n",
    "arr3 = np.random.rand(2, 3, 4)\n",
    "print(arr3)"
   ]
  },
  {
   "cell_type": "code",
   "execution_count": 44,
   "metadata": {},
   "outputs": [
    {
     "name": "stdout",
     "output_type": "stream",
     "text": [
      "7\n"
     ]
    }
   ],
   "source": [
    "# choice allows you to generate random values from a list\n",
    "\n",
    "y = np.random.choice([3, 5, 7, 9])\n",
    "print(y)"
   ]
  },
  {
   "cell_type": "code",
   "execution_count": 45,
   "metadata": {},
   "outputs": [
    {
     "name": "stdout",
     "output_type": "stream",
     "text": [
      "[[[[ 2]\n",
      "   [63]]\n",
      "\n",
      "  [[ 1]\n",
      "   [51]]\n",
      "\n",
      "  [[68]\n",
      "   [26]]]\n",
      "\n",
      "\n",
      " [[[26]\n",
      "   [ 2]]\n",
      "\n",
      "  [[75]\n",
      "   [50]]\n",
      "\n",
      "  [[ 6]\n",
      "   [ 7]]]]\n"
     ]
    }
   ],
   "source": [
    "# generate 4d array\n",
    "arr4 = np.random.randint(1, 100,(2,3,2,1))\n",
    "print(arr4)"
   ]
  },
  {
   "cell_type": "markdown",
   "metadata": {},
   "source": [
    "## arrange()"
   ]
  },
  {
   "cell_type": "code",
   "execution_count": 46,
   "metadata": {},
   "outputs": [
    {
     "name": "stdout",
     "output_type": "stream",
     "text": [
      "[0 1 2 3 4 5 6 7 8 9]\n",
      "[1 2 3 4 5 6 7 8 9]\n",
      "[1 3 5 7 9]\n",
      "[1 4 7]\n",
      "[10  9  8  7  6  5  4  3  2]\n",
      "[10  8  6  4  2]\n",
      "[1. 2. 3. 4. 5. 6. 7. 8. 9.]\n"
     ]
    }
   ],
   "source": [
    "# arange - (start, stop, step) - stop is exclusive\n",
    "arr = np.arange(10)\n",
    "print(arr)\n",
    "\n",
    "arr1 = np.arange(1, 10)\n",
    "print(arr1)\n",
    "\n",
    "arr2 = np.arange(1, 10, 2)\n",
    "print(arr2)\n",
    "\n",
    "arr3 = np.arange(1, 10, 3)\n",
    "print(arr3)\n",
    "\n",
    "arr4 = np.arange(10, 1, -1)\n",
    "print(arr4)\n",
    "\n",
    "arr5 = np.arange(10, 1, -2)\n",
    "print(arr5)\n",
    "\n",
    "print(np.arange(1, 10, dtype=float))"
   ]
  },
  {
   "cell_type": "markdown",
   "metadata": {},
   "source": [
    "## linspace(start, stop, number of elements)"
   ]
  },
  {
   "cell_type": "code",
   "execution_count": 47,
   "metadata": {},
   "outputs": [
    {
     "name": "stdout",
     "output_type": "stream",
     "text": [
      "[ 1.    3.25  5.5   7.75 10.  ]\n",
      "[ 1  2  3  4  5  6  7  8  9 10]\n",
      "[1 2 4 5 7 8]\n"
     ]
    }
   ],
   "source": [
    "print(np.linspace(1, 10, 5))\n",
    "print(np.linspace(1,10, 10, dtype=int))\n",
    "print(np.linspace(1, 10, 6,dtype=int, endpoint=False))"
   ]
  },
  {
   "cell_type": "markdown",
   "metadata": {},
   "source": [
    "## zeros()"
   ]
  },
  {
   "cell_type": "code",
   "execution_count": 48,
   "metadata": {},
   "outputs": [
    {
     "name": "stdout",
     "output_type": "stream",
     "text": [
      "[0. 0. 0. 0. 0.]\n",
      "[0 0 0 0 0 0 0 0 0 0]\n",
      "[[0 0 0]\n",
      " [0 0 0]]\n",
      "[[[0 0 0 0]\n",
      "  [0 0 0 0]\n",
      "  [0 0 0 0]]\n",
      "\n",
      " [[0 0 0 0]\n",
      "  [0 0 0 0]\n",
      "  [0 0 0 0]]]\n",
      "[[[[[0]\n",
      "    [0]\n",
      "    [0]\n",
      "    [0]]\n",
      "\n",
      "   [[0]\n",
      "    [0]\n",
      "    [0]\n",
      "    [0]]\n",
      "\n",
      "   [[0]\n",
      "    [0]\n",
      "    [0]\n",
      "    [0]]]\n",
      "\n",
      "\n",
      "  [[[0]\n",
      "    [0]\n",
      "    [0]\n",
      "    [0]]\n",
      "\n",
      "   [[0]\n",
      "    [0]\n",
      "    [0]\n",
      "    [0]]\n",
      "\n",
      "   [[0]\n",
      "    [0]\n",
      "    [0]\n",
      "    [0]]]]\n",
      "\n",
      "\n",
      "\n",
      " [[[[0]\n",
      "    [0]\n",
      "    [0]\n",
      "    [0]]\n",
      "\n",
      "   [[0]\n",
      "    [0]\n",
      "    [0]\n",
      "    [0]]\n",
      "\n",
      "   [[0]\n",
      "    [0]\n",
      "    [0]\n",
      "    [0]]]\n",
      "\n",
      "\n",
      "  [[[0]\n",
      "    [0]\n",
      "    [0]\n",
      "    [0]]\n",
      "\n",
      "   [[0]\n",
      "    [0]\n",
      "    [0]\n",
      "    [0]]\n",
      "\n",
      "   [[0]\n",
      "    [0]\n",
      "    [0]\n",
      "    [0]]]]]\n"
     ]
    }
   ],
   "source": [
    "print(np.zeros(5))\n",
    "print(np.zeros(10, dtype=int))\n",
    "print(np.zeros((2,3), dtype=int))\n",
    "print(np.zeros((2,3,4), dtype=int))\n",
    "print(np.zeros((2,2,3,4,1), dtype=int))"
   ]
  },
  {
   "cell_type": "markdown",
   "metadata": {},
   "source": [
    "## ones()"
   ]
  },
  {
   "cell_type": "code",
   "execution_count": 49,
   "metadata": {},
   "outputs": [
    {
     "name": "stdout",
     "output_type": "stream",
     "text": [
      "[1 1 1 1 1]\n",
      "[[[1 1 1 1]\n",
      "  [1 1 1 1]\n",
      "  [1 1 1 1]]\n",
      "\n",
      " [[1 1 1 1]\n",
      "  [1 1 1 1]\n",
      "  [1 1 1 1]]]\n"
     ]
    }
   ],
   "source": [
    "print(np.ones(5, dtype=int))\n",
    "print(np.ones((2,3,4), dtype=int))"
   ]
  },
  {
   "cell_type": "markdown",
   "metadata": {},
   "source": [
    "## create an empty array"
   ]
  },
  {
   "cell_type": "code",
   "execution_count": 50,
   "metadata": {},
   "outputs": [
    {
     "name": "stdout",
     "output_type": "stream",
     "text": [
      "[1 1 1 1 1]\n",
      "[[[1 1 1 1]\n",
      "  [1 1 1 1]\n",
      "  [1 1 1 1]]\n",
      "\n",
      " [[1 1 1 1]\n",
      "  [1 1 1 1]\n",
      "  [1 1 1 1]]]\n",
      "[ 1.  2.  3.  4.  5.  6.  7.  8.  9. 10.]\n"
     ]
    }
   ],
   "source": [
    "print(np.empty(5, dtype=int))\n",
    "print(np.empty((2,3,4), dtype=int))\n",
    "print(np.empty(10))"
   ]
  },
  {
   "cell_type": "markdown",
   "metadata": {},
   "source": [
    "## oprations on array   "
   ]
  },
  {
   "cell_type": "code",
   "execution_count": 51,
   "metadata": {},
   "outputs": [
    {
     "name": "stdout",
     "output_type": "stream",
     "text": [
      "[ 6  7  8  9 10]\n",
      "[-4 -3 -2 -1  0]\n",
      "[ 5 10 15 20 25]\n",
      "[0.2 0.4 0.6 0.8 1. ]\n",
      "[0 0 0 0 1]\n",
      "[1 2 3 4 0]\n",
      "[   1   32  243 1024 3125]\n",
      "[False False False False False]\n",
      "[ True  True  True  True False]\n",
      "[False False False False  True]\n",
      "[ True  True  True  True  True]\n",
      "[False False False False  True]\n",
      "[ True  True  True  True False]\n"
     ]
    }
   ],
   "source": [
    "# operations on 1d array    \n",
    "arr = np.array([1, 2, 3, 4, 5])\n",
    "print(arr + 5)\n",
    "print(arr - 5)\n",
    "print(arr * 5)\n",
    "print(arr / 5)\n",
    "print(arr // 5)\n",
    "print(arr % 5)\n",
    "print(arr ** 5)\n",
    "print(arr > 5)\n",
    "print(arr < 5)\n",
    "print(arr >= 5)\n",
    "print(arr <= 5)\n",
    "print(arr == 5)\n",
    "print(arr != 5)"
   ]
  },
  {
   "cell_type": "markdown",
   "metadata": {},
   "source": [
    "## broadcasting"
   ]
  },
  {
   "cell_type": "code",
   "execution_count": 52,
   "metadata": {},
   "outputs": [
    {
     "name": "stdout",
     "output_type": "stream",
     "text": [
      "[[ 6  7  8]\n",
      " [ 9 10 11]]\n"
     ]
    }
   ],
   "source": [
    "arr = np.array([[1, 2, 3], [4, 5, 6]])\n",
    "print(arr + 5)"
   ]
  },
  {
   "cell_type": "code",
   "execution_count": 53,
   "metadata": {},
   "outputs": [
    {
     "name": "stdout",
     "output_type": "stream",
     "text": [
      "[[11 12 13]\n",
      " [14 15 16]]\n"
     ]
    }
   ],
   "source": [
    "a = np.array([10,10,10])\n",
    "b = np.array([[1, 2, 3], [4, 5, 6]])\n",
    "print(a + b)"
   ]
  },
  {
   "cell_type": "code",
   "execution_count": 54,
   "metadata": {},
   "outputs": [
    {
     "name": "stdout",
     "output_type": "stream",
     "text": [
      "[[11 21 31]\n",
      " [12 22 32]\n",
      " [13 23 33]]\n"
     ]
    }
   ],
   "source": [
    "a = np.array([[1], [2], [3]])\n",
    "b = np.array([10,20,30])\n",
    "print(a + b)"
   ]
  },
  {
   "cell_type": "code",
   "execution_count": 55,
   "metadata": {},
   "outputs": [
    {
     "name": "stdout",
     "output_type": "stream",
     "text": [
      "[[[1 1 1 1]\n",
      "  [1 1 1 1]\n",
      "  [1 1 1 1]]\n",
      "\n",
      " [[1 1 1 1]\n",
      "  [1 1 1 1]\n",
      "  [1 1 1 1]]]\n",
      "[0 1 2 3]\n",
      "[[[1 2 3 4]\n",
      "  [1 2 3 4]\n",
      "  [1 2 3 4]]\n",
      "\n",
      " [[1 2 3 4]\n",
      "  [1 2 3 4]\n",
      "  [1 2 3 4]]]\n",
      "[[[1 2 3 4]\n",
      "  [1 2 3 4]\n",
      "  [1 2 3 4]]\n",
      "\n",
      " [[1 2 3 4]\n",
      "  [1 2 3 4]\n",
      "  [1 2 3 4]]]\n"
     ]
    }
   ],
   "source": [
    "a = np.ones((2,3,4), dtype=int)\n",
    "print(a)\n",
    "b = np.arange(4)\n",
    "print(b)\n",
    "print(a + b)\n",
    "print(b + a)\n"
   ]
  },
  {
   "cell_type": "code",
   "execution_count": 56,
   "metadata": {},
   "outputs": [
    {
     "name": "stdout",
     "output_type": "stream",
     "text": [
      "[[11 22 33]\n",
      " [14 25 36]]\n"
     ]
    }
   ],
   "source": [
    "A = np.array([[1, 2, 3], [4, 5, 6]])  # Shape (2,3)\n",
    "B = np.array([10, 20, 30])            # Shape (3,)\n",
    "\n",
    "result = A + B\n",
    "print(result)"
   ]
  },
  {
   "cell_type": "code",
   "execution_count": 57,
   "metadata": {},
   "outputs": [
    {
     "name": "stdout",
     "output_type": "stream",
     "text": [
      "(3, 2) (1, 2)\n",
      "[[3 4]\n",
      " [5 6]\n",
      " [7 8]]\n"
     ]
    }
   ],
   "source": [
    "a = np.array([[1,2], [3,4], [5,6]])\n",
    "b = np.array([[2,2]])\n",
    "print(a.shape, b.shape)\n",
    "c = a + b\n",
    "print(c)"
   ]
  },
  {
   "cell_type": "markdown",
   "metadata": {},
   "source": [
    "## array() vs asarray()\n",
    "\n",
    "np.array() creates a new array and copies data by default.\n",
    "\n",
    "np.asarray() converts an object to an array but avoids copying if it's already an array."
   ]
  },
  {
   "cell_type": "code",
   "execution_count": 58,
   "metadata": {},
   "outputs": [
    {
     "name": "stdout",
     "output_type": "stream",
     "text": [
      "[1 2 3]\n",
      "[1. 2. 3.]\n",
      "True\n",
      "False\n",
      "None\n",
      "None\n",
      "[10  2  3]\n",
      "[10  2  3]\n",
      "[10  2  3]\n",
      "[20.  2.  3.]\n"
     ]
    }
   ],
   "source": [
    "arr1 = np.array([1, 2, 3])\n",
    "arr2 = np.asarray(arr1) # shallow copy\n",
    "arr3 = np.asarray(arr1, dtype=float) # deep copy\n",
    "print(arr2)\n",
    "print(arr3)\n",
    "print(arr1 is arr2)\n",
    "print(arr1 is arr3)\n",
    "print(arr2.base) # returns the original array\n",
    "print(arr3.base) # returns None\n",
    "arr2[0] = 10\n",
    "print(arr1) # original array is also changed\n",
    "print(arr2) # modified array is also changed\n",
    "arr3[0] = 20\n",
    "print(arr1) # original array is not changed\n",
    "print(arr3) # modified array is only changed"
   ]
  },
  {
   "cell_type": "code",
   "execution_count": 59,
   "metadata": {},
   "outputs": [
    {
     "name": "stdout",
     "output_type": "stream",
     "text": [
      "3087962497328 3087962497328 3087962153744\n"
     ]
    }
   ],
   "source": [
    "print(id(arr1), id(arr2), id(arr3))"
   ]
  },
  {
   "cell_type": "code",
   "execution_count": 60,
   "metadata": {},
   "outputs": [
    {
     "name": "stdout",
     "output_type": "stream",
     "text": [
      "(2, 3)\n",
      "6\n"
     ]
    }
   ],
   "source": [
    "print(arr.shape)\n",
    "print(arr.size)"
   ]
  },
  {
   "cell_type": "markdown",
   "metadata": {},
   "source": [
    "## Transpose\n",
    "The .T in b.T stands for transpose in NumPy.\n",
    "\n",
    "It swaps the rows and columns of a matrix."
   ]
  },
  {
   "cell_type": "code",
   "execution_count": 61,
   "metadata": {},
   "outputs": [
    {
     "name": "stdout",
     "output_type": "stream",
     "text": [
      "[[1 2]\n",
      " [3 4]\n",
      " [5 6]]\n",
      "[[1 2 5]\n",
      " [3 4 6]]\n",
      "[[1 2]\n",
      " [3 4]\n",
      " [5 6]\n",
      " [7 8]]\n",
      "[[1 2 5 6]\n",
      " [3 4 7 8]]\n"
     ]
    }
   ],
   "source": [
    "a = np.array([[1,2], [3,4]])\n",
    "b = np.array([[5,6]])\n",
    "print(np.vstack((a,b)))\n",
    "print(np.hstack((a,b.T)))\n",
    "\n",
    "b = np.array([[5,6], [7,8]])\n",
    "print(np.vstack((a,b)))\n",
    "print(np.hstack((a,b)))"
   ]
  },
  {
   "cell_type": "markdown",
   "metadata": {},
   "source": [
    "## What is the difference between ravel() and flatten()?\n",
    "\n",
    ".ravel() returns a view (changes affect the original array).\n",
    "\n",
    ".flatten() returns a copy (independent array)."
   ]
  },
  {
   "cell_type": "code",
   "execution_count": 62,
   "metadata": {},
   "outputs": [
    {
     "name": "stdout",
     "output_type": "stream",
     "text": [
      "[1 2 3 4]\n",
      "[1 2 3 4]\n",
      "[[1 2]\n",
      " [3 4]]\n",
      "None\n",
      "[[10  2]\n",
      " [ 3  4]]\n",
      "[10  2  3  4]\n",
      "[[10  2]\n",
      " [ 3  4]]\n",
      "[20  2  3  4]\n"
     ]
    }
   ],
   "source": [
    "arr = np.array([[1,2], [3,4]])\n",
    "newarr = arr.ravel()\n",
    "newarr1 = arr.flatten()\n",
    "print(newarr)\n",
    "print(newarr1)\n",
    "print(newarr.base) \n",
    "print(newarr1.base)\n",
    "newarr[0] = 10\n",
    "print(arr)\n",
    "print(newarr)\n",
    "newarr1[0] = 20\n",
    "print(arr)\n",
    "print(newarr1)"
   ]
  },
  {
   "cell_type": "markdown",
   "metadata": {},
   "source": [
    "## nonzero element\n"
   ]
  },
  {
   "cell_type": "code",
   "execution_count": 63,
   "metadata": {},
   "outputs": [
    {
     "name": "stdout",
     "output_type": "stream",
     "text": [
      "(array([0, 1, 4], dtype=int64),)\n"
     ]
    }
   ],
   "source": [
    "arr = np.array([1,5,0,0,9])\n",
    "print(np.nonzero(arr))"
   ]
  },
  {
   "cell_type": "markdown",
   "metadata": {},
   "source": [
    "## dot operation in matrices"
   ]
  },
  {
   "cell_type": "code",
   "execution_count": 64,
   "metadata": {},
   "outputs": [
    {
     "name": "stdout",
     "output_type": "stream",
     "text": [
      "[[19 22]\n",
      " [43 50]]\n"
     ]
    }
   ],
   "source": [
    "A = np.array([[1, 2], [3, 4]])\n",
    "B = np.array([[5, 6], [7, 8]])\n",
    "dot_product = np.dot(A, B)\n",
    "print(dot_product)"
   ]
  },
  {
   "cell_type": "markdown",
   "metadata": {},
   "source": [
    "## swapaxes() - interchanging two axes"
   ]
  },
  {
   "cell_type": "code",
   "execution_count": 65,
   "metadata": {},
   "outputs": [
    {
     "name": "stdout",
     "output_type": "stream",
     "text": [
      "[[1 3]\n",
      " [2 4]]\n",
      "[[1 3]\n",
      " [2 4]]\n",
      "[[1]\n",
      " [2]\n",
      " [3]\n",
      " [4]]\n",
      "[[1]\n",
      " [2]\n",
      " [3]\n",
      " [4]]\n"
     ]
    }
   ],
   "source": [
    "arr = np.array([[1, 2], [3, 4]])\n",
    "print(arr.T)\n",
    "swapped = arr.swapaxes(0, 1)\n",
    "print(swapped)\n",
    "# print(np.swapaxes([1,2,3,4], 0, 1))\n",
    "print(np.swapaxes([[1,2,3,4]], 0 , 1))  \n",
    "print(np.swapaxes([[1,2,3,4]],1,0))"
   ]
  },
  {
   "cell_type": "markdown",
   "metadata": {},
   "source": [
    "## add zero arount the border of the array"
   ]
  },
  {
   "cell_type": "code",
   "execution_count": 66,
   "metadata": {},
   "outputs": [
    {
     "name": "stdout",
     "output_type": "stream",
     "text": [
      "[[1 1 1 1]\n",
      " [1 1 1 1]\n",
      " [1 1 1 1]\n",
      " [1 1 1 1]]\n"
     ]
    }
   ],
   "source": [
    "arr0 = np.ones((4,4), dtype=int)\n",
    "print(arr0)"
   ]
  },
  {
   "cell_type": "code",
   "execution_count": 67,
   "metadata": {},
   "outputs": [
    {
     "name": "stdout",
     "output_type": "stream",
     "text": [
      "[[0 0 0 0 0 0]\n",
      " [0 1 1 1 1 0]\n",
      " [0 1 1 1 1 0]\n",
      " [0 1 1 1 1 0]\n",
      " [0 1 1 1 1 0]\n",
      " [0 0 0 0 0 0]]\n"
     ]
    }
   ],
   "source": [
    "transformed_array = np.pad(arr0, pad_width=1, mode='constant', constant_values=0)\n",
    "print(transformed_array)"
   ]
  },
  {
   "cell_type": "markdown",
   "metadata": {},
   "source": [
    "## pad() - np.pad(array, pad_width, mode='constant', constant_values=0)\n",
    "\n",
    "pad_width: Number of values padded to the edges (can be int or tuple)\n",
    "\n",
    "mode: How to pad ('constant', 'edge', 'reflect', 'symmetric', etc.)\n",
    "\n",
    "constant_values: (Only used in 'constant' mode)\n",
    "  \n",
    "Padding arrays in NumPy is super useful when you want to:\n",
    "\n",
    "Add borders (e.g., for image processing)\n",
    "\n",
    "Resize arrays\n",
    "\n",
    "Align arrays for broadcasting"
   ]
  },
  {
   "cell_type": "code",
   "execution_count": 68,
   "metadata": {},
   "outputs": [
    {
     "name": "stdout",
     "output_type": "stream",
     "text": [
      "[0 0 1 2 3 4 5 6 0 0]\n",
      "[1 1 1 2 3 4 5 6 6 6]\n",
      "[3 2 1 2 3 4 5 6 5 4]\n",
      "[2 1 1 2 3 4 5 6 6 5]\n"
     ]
    }
   ],
   "source": [
    "ar = np.array([1,2,3,4,5,6])\n",
    "padded = np.pad(ar, pad_width=2, mode='constant', constant_values=0)\n",
    "print(padded)\n",
    "\n",
    "padded = np.pad(ar, pad_width=2, mode='edge')\n",
    "print(padded)\n",
    "\n",
    "padded = np.pad(ar, pad_width=2, mode='reflect')\n",
    "print(padded)\n",
    "\n",
    "padded = np.pad(ar, pad_width=2, mode='symmetric')\n",
    "print(padded)"
   ]
  },
  {
   "cell_type": "code",
   "execution_count": 69,
   "metadata": {},
   "outputs": [
    {
     "name": "stdout",
     "output_type": "stream",
     "text": [
      "[[0 0 0 0 0]\n",
      " [0 1 2 3 0]\n",
      " [0 4 5 6 0]\n",
      " [0 0 0 0 0]]\n",
      "[[1 1 2 3 3]\n",
      " [1 1 2 3 3]\n",
      " [4 4 5 6 6]\n",
      " [4 4 5 6 6]]\n",
      "[[3 2 1 2 3 2 1]\n",
      " [6 5 4 5 6 5 4]\n",
      " [3 2 1 2 3 2 1]\n",
      " [6 5 4 5 6 5 4]\n",
      " [3 2 1 2 3 2 1]\n",
      " [6 5 4 5 6 5 4]]\n",
      "[[1 1 2 3 3]\n",
      " [1 1 2 3 3]\n",
      " [4 4 5 6 6]\n",
      " [4 4 5 6 6]]\n"
     ]
    }
   ],
   "source": [
    "arr = np.array([[1, 2, 3], [4, 5, 6]])\n",
    "padded = np.pad(arr, pad_width=1, mode='constant', constant_values=0)\n",
    "print(padded)\n",
    "\n",
    "padded = np.pad(arr, pad_width=1, mode='edge')\n",
    "print(padded)\n",
    "\n",
    "padded = np.pad(arr, pad_width=2, mode='reflect')\n",
    "print(padded)\n",
    "\n",
    "padded = np.pad(arr, pad_width=1, mode='symmetric')\n",
    "print(padded)"
   ]
  },
  {
   "cell_type": "code",
   "execution_count": 70,
   "metadata": {},
   "outputs": [
    {
     "name": "stdout",
     "output_type": "stream",
     "text": [
      "[[[0 0 0 0]\n",
      "  [0 0 0 0]\n",
      "  [0 0 0 0]\n",
      "  [0 0 0 0]]\n",
      "\n",
      " [[0 0 0 0]\n",
      "  [0 1 2 0]\n",
      "  [0 3 4 0]\n",
      "  [0 0 0 0]]\n",
      "\n",
      " [[0 0 0 0]\n",
      "  [0 5 6 0]\n",
      "  [0 7 8 0]\n",
      "  [0 0 0 0]]\n",
      "\n",
      " [[0 0 0 0]\n",
      "  [0 0 0 0]\n",
      "  [0 0 0 0]\n",
      "  [0 0 0 0]]]\n"
     ]
    }
   ],
   "source": [
    "arr = np.array([[[1,2], [3,4]], [[5,6], [7,8]]])\n",
    "padded = np.pad(arr, pad_width=1, mode='constant', constant_values=0)\n",
    "print(padded)"
   ]
  },
  {
   "cell_type": "code",
   "execution_count": 71,
   "metadata": {},
   "outputs": [
    {
     "name": "stdout",
     "output_type": "stream",
     "text": [
      "[[9 9 9 9 9]\n",
      " [9 9 1 2 9]\n",
      " [9 9 3 4 9]\n",
      " [9 9 9 9 9]\n",
      " [9 9 9 9 9]]\n"
     ]
    }
   ],
   "source": [
    "arr = np.array([[1, 2], [3, 4]])\n",
    "padded = np.pad(arr, pad_width=((1, 2), (2, 1)), mode='constant', constant_values=9)\n",
    "print(padded)\n"
   ]
  },
  {
   "cell_type": "markdown",
   "metadata": {},
   "source": [
    "## repeat char 5 times in an array"
   ]
  },
  {
   "cell_type": "code",
   "execution_count": 72,
   "metadata": {},
   "outputs": [
    {
     "name": "stdout",
     "output_type": "stream",
     "text": [
      "['i' 'love' 'NumPy' 'AND' 'interviewbit']\n"
     ]
    }
   ],
   "source": [
    "arr = np.array(['i', 'love', 'NumPy', 'AND', 'interviewbit'], dtype=str)\n",
    "print(arr)"
   ]
  },
  {
   "cell_type": "code",
   "execution_count": 73,
   "metadata": {},
   "outputs": [
    {
     "name": "stdout",
     "output_type": "stream",
     "text": [
      "['i' 'i' 'i' 'i' 'i' 'love' 'love' 'love' 'love' 'love' 'NumPy' 'NumPy'\n",
      " 'NumPy' 'NumPy' 'NumPy' 'AND' 'AND' 'AND' 'AND' 'AND' 'interviewbit'\n",
      " 'interviewbit' 'interviewbit' 'interviewbit' 'interviewbit']\n"
     ]
    }
   ],
   "source": [
    "str_arr = np.repeat(arr, 5)\n",
    "print(str_arr)"
   ]
  },
  {
   "cell_type": "markdown",
   "metadata": {},
   "source": [
    "## for inserting space b/w array"
   ]
  },
  {
   "cell_type": "code",
   "execution_count": 74,
   "metadata": {},
   "outputs": [
    {
     "name": "stdout",
     "output_type": "stream",
     "text": [
      "['i' 'l o v e' 'N u m P y' 'A N D' 'i n t e r v i e w b i t']\n"
     ]
    }
   ],
   "source": [
    "space_arr = np.char.join(\" \", arr)\n",
    "print(space_arr)"
   ]
  },
  {
   "cell_type": "markdown",
   "metadata": {},
   "source": [
    "## String operations"
   ]
  },
  {
   "cell_type": "code",
   "execution_count": 75,
   "metadata": {},
   "outputs": [
    {
     "name": "stdout",
     "output_type": "stream",
     "text": [
      "['I' 'LOVE' 'NUMPY' 'AND' 'INTERVIEWBIT']\n",
      "['i' 'love' 'numpy' 'and' 'interviewbit']\n",
      "['I' 'Love' 'Numpy' 'And' 'Interviewbit']\n",
      "['I' 'Love' 'Numpy' 'And' 'Interviewbit']\n",
      "['I' 'LOVE' 'nUMpY' 'and' 'INTERVIEWBIT']\n",
      "['*********i**********' '********love********' '*******NumPy********'\n",
      " '********AND*********' '****interviewbit****']\n",
      "['i*******************' 'love****************' 'NumPy***************'\n",
      " 'AND*****************' 'interviewbit********']\n",
      "['*******************i' '****************love' '***************NumPy'\n",
      " '*****************AND' '********interviewbit']\n",
      "['' 'love' 'NumPy' 'AND' 'nterviewbit']\n"
     ]
    }
   ],
   "source": [
    "print(np.char.upper(arr))\n",
    "print(np.char.lower(arr))\n",
    "print(np.char.title(arr))\n",
    "print(np.char.capitalize(arr))\n",
    "print(np.char.swapcase(arr))\n",
    "print(np.char.center(arr, 20, fillchar=\"*\"))\n",
    "print(np.char.ljust(arr, 20, fillchar=\"*\"))\n",
    "print(np.char.rjust(arr, 20, fillchar=\"*\"))\n",
    "print(np.char.lstrip(arr, 'i'))"
   ]
  },
  {
   "cell_type": "code",
   "execution_count": 76,
   "metadata": {},
   "outputs": [
    {
     "name": "stdout",
     "output_type": "stream",
     "text": [
      "[[[1]]\n",
      "\n",
      " [[2]]\n",
      "\n",
      " [[3]]\n",
      "\n",
      " [[4]]]\n",
      "[[[5]\n",
      "  [6]\n",
      "  [7]]]\n",
      "[[[ 8  9 10 11 12]]]\n"
     ]
    }
   ],
   "source": [
    "a = np.array([1, 2, 3, 4])\n",
    "b = np.array([5, 6, 7])\n",
    "c = np.array([8, 9, 10, 11, 12])\n",
    "p, q, r = np.ix_(a, b, c)\n",
    "print(p)\n",
    "print(q)\n",
    "print(r)"
   ]
  },
  {
   "cell_type": "code",
   "execution_count": 77,
   "metadata": {},
   "outputs": [
    {
     "name": "stdout",
     "output_type": "stream",
     "text": [
      "4\n"
     ]
    }
   ],
   "source": [
    "a = np.array([(1,2,50)])\n",
    "\n",
    "print(a.itemsize)"
   ]
  },
  {
   "cell_type": "code",
   "execution_count": 78,
   "metadata": {},
   "outputs": [
    {
     "name": "stdout",
     "output_type": "stream",
     "text": [
      "[1. 1. 1. 1. 1.]\n",
      "8\n"
     ]
    }
   ],
   "source": [
    "fives = np.ones(5)\n",
    "print(fives)\n",
    "print(fives.itemsize)"
   ]
  },
  {
   "cell_type": "code",
   "execution_count": 79,
   "metadata": {},
   "outputs": [
    {
     "name": "stdout",
     "output_type": "stream",
     "text": [
      "[  1.   1.   1. 200.   1.]\n"
     ]
    }
   ],
   "source": [
    "fives[3] = 200\n",
    "print(fives)"
   ]
  },
  {
   "cell_type": "markdown",
   "metadata": {},
   "source": [
    "## The main difference is that array will make a copy of the original data and using different object we can modify the data in the original array.\n",
    "\n"
   ]
  },
  {
   "cell_type": "code",
   "execution_count": 80,
   "metadata": {},
   "outputs": [
    {
     "name": "stdout",
     "output_type": "stream",
     "text": [
      "[  1.   1.   1. 200.   1.]\n"
     ]
    }
   ],
   "source": [
    "np.array(fives)[1] = 100\n",
    "print(fives)"
   ]
  },
  {
   "cell_type": "code",
   "execution_count": 81,
   "metadata": {},
   "outputs": [
    {
     "name": "stdout",
     "output_type": "stream",
     "text": [
      "[  1. 100.   1. 200.   1.]\n"
     ]
    }
   ],
   "source": [
    "np.asarray(fives)[1] = 100\n",
    "print(fives)"
   ]
  },
  {
   "cell_type": "code",
   "execution_count": 82,
   "metadata": {},
   "outputs": [
    {
     "data": {
      "text/plain": [
       "False"
      ]
     },
     "execution_count": 82,
     "metadata": {},
     "output_type": "execute_result"
    }
   ],
   "source": [
    "np_fives = np.array(fives)\n",
    "fives is np_fives"
   ]
  },
  {
   "cell_type": "code",
   "execution_count": 83,
   "metadata": {},
   "outputs": [
    {
     "data": {
      "text/plain": [
       "True"
      ]
     },
     "execution_count": 83,
     "metadata": {},
     "output_type": "execute_result"
    }
   ],
   "source": [
    "as_fives = np.asarray(fives)\n",
    "fives is as_fives"
   ]
  },
  {
   "cell_type": "markdown",
   "metadata": {},
   "source": [
    "## How do you save and load a NumPy array to/from a file?\n",
    "\n",
    "save a single array with .npy\n",
    "\n",
    "save multiple array with .npz and savez()"
   ]
  },
  {
   "cell_type": "code",
   "execution_count": 84,
   "metadata": {},
   "outputs": [
    {
     "name": "stdout",
     "output_type": "stream",
     "text": [
      "[  1. 100.   1. 200.   1.]\n"
     ]
    }
   ],
   "source": [
    "np.save('fives', fives)\n",
    "\n",
    "# load single array from file\n",
    "load_arr  = np.load('fives.npy')\n",
    "print(load_arr)"
   ]
  },
  {
   "cell_type": "code",
   "execution_count": 85,
   "metadata": {},
   "outputs": [
    {
     "name": "stdout",
     "output_type": "stream",
     "text": [
      "[  1. 100.   1. 200.   1.]\n",
      "[  1. 100.   1. 200.   1.]\n"
     ]
    }
   ],
   "source": [
    "np.savez(\"my_arrays.npz\", arr1=fives, arr2=np_fives)\n",
    "\n",
    "# load multiple arrays from file\n",
    "load_dict = np.load(\"my_arrays.npz\")\n",
    "print(load_dict['arr1'])\n",
    "print(load_dict['arr2'])\n"
   ]
  },
  {
   "cell_type": "code",
   "execution_count": 86,
   "metadata": {},
   "outputs": [
    {
     "name": "stdout",
     "output_type": "stream",
     "text": [
      "[  1. 100.   1. 200.   1.]\n"
     ]
    }
   ],
   "source": [
    "# save as text file\n",
    "np.savetxt('fives.txt', fives, delimiter=',', fmt=\"%d\")\n",
    "\n",
    "# load text file\n",
    "load_arr = np.loadtxt('fives.txt', delimiter=',')\n",
    "print(load_arr)"
   ]
  },
  {
   "cell_type": "markdown",
   "metadata": {},
   "source": [
    "## How to Normalize a NumPy Array to the [0, 1] Range\n",
    "Normalization is the process of scaling the values of an array so that they fall within a specific range—typically [0, 1]. This is commonly used in data preprocessing for machine learning, image processing, etc.\n",
    "\n"
   ]
  },
  {
   "cell_type": "code",
   "execution_count": 87,
   "metadata": {},
   "outputs": [
    {
     "name": "stdout",
     "output_type": "stream",
     "text": [
      "[0.   0.25 0.5  0.75 1.  ]\n"
     ]
    }
   ],
   "source": [
    "arr = np.array([10,20,30,40,50])\n",
    "normalized_arr = (arr - min(arr)) / (max(arr) - min(arr))\n",
    "print(normalized_arr)"
   ]
  },
  {
   "cell_type": "markdown",
   "metadata": {},
   "source": [
    "## np.vectorise()"
   ]
  },
  {
   "cell_type": "code",
   "execution_count": 88,
   "metadata": {},
   "outputs": [
    {
     "name": "stdout",
     "output_type": "stream",
     "text": [
      "[ 2  5 10 17 26]\n"
     ]
    }
   ],
   "source": [
    "def custom_fuc(x):\n",
    "    return x**2 + 1\n",
    "\n",
    "vectorized_fuc = np.vectorize(custom_fuc)\n",
    "\n",
    "arr = np.array([1, 2, 3, 4, 5])\n",
    "result = vectorized_fuc(arr)\n",
    "print(result)"
   ]
  },
  {
   "cell_type": "code",
   "execution_count": 89,
   "metadata": {},
   "outputs": [
    {
     "name": "stdout",
     "output_type": "stream",
     "text": [
      "['odd' 'even' 'odd' 'even' 'odd']\n"
     ]
    }
   ],
   "source": [
    "def classify(x):\n",
    "    return 'even' if x % 2 == 0 else 'odd'\n",
    "\n",
    "arr = np.array([1, 2, 3, 4, 5])\n",
    "result = np.vectorize(classify)(arr)\n",
    "print(result)"
   ]
  },
  {
   "cell_type": "markdown",
   "metadata": {},
   "source": [
    "## How do you compute the outer product of two vectors?"
   ]
  },
  {
   "cell_type": "code",
   "execution_count": 90,
   "metadata": {},
   "outputs": [
    {
     "name": "stdout",
     "output_type": "stream",
     "text": [
      "[[ 4  5  6]\n",
      " [ 8 10 12]\n",
      " [12 15 18]]\n",
      "[[ 4]\n",
      " [ 8]\n",
      " [12]]\n",
      "[[ 4  8 12]]\n",
      "[[20]]\n",
      "[[ 4  5  6  7]\n",
      " [ 8 10 12 14]\n",
      " [12 15 18 21]]\n"
     ]
    }
   ],
   "source": [
    "print(np.outer([1, 2, 3], [4, 5, 6]))\n",
    "print(np.outer([1, 2, 3], 4))\n",
    "print(np.outer(4, [1, 2, 3]))\n",
    "print(np.outer(4, 5))\n",
    "print(np.outer([1, 2, 3], [4, 5, 6, 7]))"
   ]
  },
  {
   "cell_type": "markdown",
   "metadata": {},
   "source": [
    "## How do you measure the execution time of a NumPy operation?"
   ]
  },
  {
   "cell_type": "code",
   "execution_count": 91,
   "metadata": {},
   "outputs": [
    {
     "name": "stdout",
     "output_type": "stream",
     "text": [
      "0.0\n"
     ]
    }
   ],
   "source": [
    "import time\n",
    "start = time.time()\n",
    "result = np.dot([[1, 2], [3, 4]], [[5, 6], [7, 8]])\n",
    "end = time.time()\n",
    "print(end - start)\n",
    "\n"
   ]
  },
  {
   "cell_type": "code",
   "execution_count": 92,
   "metadata": {},
   "outputs": [
    {
     "name": "stdout",
     "output_type": "stream",
     "text": [
      "[1, 4, 9, 16, 25]\n",
      "0.0\n"
     ]
    }
   ],
   "source": [
    "start = time.time()\n",
    "def sqaure(x):\n",
    "    return x**2\n",
    "arr = np.array([1, 2, 3, 4, 5])\n",
    "result = list(map(sqaure, arr))\n",
    "print(result)\n",
    "end = time.time()\n",
    "print(end - start)"
   ]
  },
  {
   "cell_type": "code",
   "execution_count": 93,
   "metadata": {},
   "outputs": [
    {
     "name": "stdout",
     "output_type": "stream",
     "text": [
      "[ 1  4  9 16 25]\n",
      "0.0\n"
     ]
    }
   ],
   "source": [
    "start = time.time()\n",
    "result = np.power(arr, 2)\n",
    "print(result)\n",
    "end = time.time()\n",
    "print(end - start)"
   ]
  },
  {
   "cell_type": "markdown",
   "metadata": {},
   "source": [
    "## Swap arrays"
   ]
  },
  {
   "cell_type": "code",
   "execution_count": 94,
   "metadata": {},
   "outputs": [
    {
     "name": "stdout",
     "output_type": "stream",
     "text": [
      "[[5 6]\n",
      " [3 4]\n",
      " [1 2]]\n"
     ]
    }
   ],
   "source": [
    "arr = np.array([[1, 2], [3, 4], [5, 6]])\n",
    "arr[[0,2]] = arr[[2,0]]\n",
    "print(arr)"
   ]
  },
  {
   "cell_type": "markdown",
   "metadata": {},
   "source": [
    "## Given a 2D array, how do you replace all rows with their mean?"
   ]
  },
  {
   "cell_type": "code",
   "execution_count": 95,
   "metadata": {},
   "outputs": [
    {
     "name": "stdout",
     "output_type": "stream",
     "text": [
      "[3 3 3 3 3]\n"
     ]
    }
   ],
   "source": [
    "arr = np.array([1, 2, 3, 4, 5])\n",
    "arr[:] = np.mean(arr)\n",
    "print(arr)"
   ]
  },
  {
   "cell_type": "code",
   "execution_count": 96,
   "metadata": {},
   "outputs": [
    {
     "name": "stdout",
     "output_type": "stream",
     "text": [
      "[[1 1]\n",
      " [3 3]\n",
      " [5 5]]\n"
     ]
    }
   ],
   "source": [
    "arr = np.array([[1, 2], [3, 4], [5, 6]])\n",
    "arr[:] = np.mean(arr, axis=1, keepdims=True)\n",
    "print(arr)"
   ]
  },
  {
   "cell_type": "code",
   "execution_count": 97,
   "metadata": {},
   "outputs": [
    {
     "name": "stdout",
     "output_type": "stream",
     "text": [
      "4.5\n",
      "[[2. 3.]\n",
      " [6. 7.]]\n",
      "[[3. 4.]\n",
      " [5. 6.]]\n",
      "[[1.5 3.5]\n",
      " [5.5 7.5]]\n"
     ]
    }
   ],
   "source": [
    "print(np.mean([[[1, 2], [3, 4]], [[5, 6], [7, 8]]]))\n",
    "print(np.mean([[[1, 2], [3, 4]], [[5, 6], [7, 8]]], axis=1))\n",
    "print(np.mean([[[1, 2], [3, 4]], [[5, 6], [7, 8]]], axis=0))\n",
    "print(np.mean([[[1, 2], [3, 4]], [[5, 6], [7, 8]]], axis=2))"
   ]
  },
  {
   "cell_type": "markdown",
   "metadata": {},
   "source": [
    "## How do you count occurrences of each value in an array?"
   ]
  },
  {
   "cell_type": "code",
   "execution_count": 98,
   "metadata": {},
   "outputs": [
    {
     "name": "stdout",
     "output_type": "stream",
     "text": [
      "[0 3 2 3 1]\n"
     ]
    }
   ],
   "source": [
    "print(np.bincount([1,1,2,1,2,3,3,4,3]))\n",
    "# this prints the frequency of each number in the array starting from 0 to 4\n",
    "# 0 → 0 times\n",
    "\n",
    "# 1 → 3 times\n",
    "\n",
    "# 2 → 2 times\n",
    "\n",
    "# 3 → 3 times\n",
    "\n",
    "# 4 → 1 time"
   ]
  },
  {
   "cell_type": "markdown",
   "metadata": {},
   "source": [
    "## lexsort() - Sorts arrays based on multiple keys:"
   ]
  },
  {
   "cell_type": "code",
   "execution_count": 99,
   "metadata": {},
   "outputs": [
    {
     "name": "stdout",
     "output_type": "stream",
     "text": [
      "[1 2 3 6 4 0 5]\n",
      "['Joe' 'Will' 'Bob' 'Joe' 'Will' 'Bob' 'Joe']\n",
      "[19 19 20 20 20 21 21]\n",
      "[['Joe', 19], ['Will', 19], ['Bob', 20], ['Joe', 20], ['Will', 20], ['Bob', 21], ['Joe', 21]]\n"
     ]
    }
   ],
   "source": [
    "name = np.array(['Bob', 'Joe', 'Will', 'Bob', 'Will', 'Joe', 'Joe'])\n",
    "ages = np.array([21, 19, 19, 20, 20, 21, 20])\n",
    "idx = np.lexsort((name,ages)) # first will sort by name and then by age\n",
    "print(idx)\n",
    "print(name[idx])\n",
    "print(ages[idx])\n",
    "new_arr = [[name[i], ages[i]] for i in idx]\n",
    "print(new_arr)"
   ]
  },
  {
   "cell_type": "markdown",
   "metadata": {},
   "source": [
    "## How does NumPy handle division by zero?"
   ]
  },
  {
   "cell_type": "code",
   "execution_count": 100,
   "metadata": {},
   "outputs": [
    {
     "name": "stdout",
     "output_type": "stream",
     "text": [
      "[ 2.   1.5  inf -3.   0.2]\n"
     ]
    },
    {
     "name": "stderr",
     "output_type": "stream",
     "text": [
      "C:\\Users\\Drashti Trivedi\\AppData\\Local\\Temp\\ipykernel_24476\\3407500405.py:2: RuntimeWarning: divide by zero encountered in divide\n",
      "  result = np.array([2,3,4, 3, 1]) / arr\n"
     ]
    }
   ],
   "source": [
    "arr = np.array([1, 2, 0, -1, 5])\n",
    "result = np.array([2,3,4, 3, 1]) / arr\n",
    "print(result)"
   ]
  },
  {
   "cell_type": "markdown",
   "metadata": {},
   "source": [
    "## What is the output of np.array([1, 2, 3], dtype=np.float32) * np.array([1, 2, 3], dtype=np.int32)?"
   ]
  },
  {
   "cell_type": "code",
   "execution_count": 101,
   "metadata": {},
   "outputs": [
    {
     "name": "stdout",
     "output_type": "stream",
     "text": [
      "[ 2.  6.  0. -3.  5.]\n"
     ]
    }
   ],
   "source": [
    "arr = np.array([1, 2, 0, -1, 5])\n",
    "flaot_arr = np.array([2.0, 3.0, 4.0, 3.0, 1.0])\n",
    "print(arr * flaot_arr)"
   ]
  },
  {
   "cell_type": "markdown",
   "metadata": {},
   "source": [
    "## How do you handle non-finite values (inf, nan) in an array?"
   ]
  },
  {
   "cell_type": "code",
   "execution_count": 102,
   "metadata": {},
   "outputs": [
    {
     "name": "stdout",
     "output_type": "stream",
     "text": [
      "[1. 2. 1.]\n"
     ]
    }
   ],
   "source": [
    "arr = np.array([1, np.inf, np.nan, 2, 1])\n",
    "cleaned = arr[np.isfinite(arr)] \n",
    "print(cleaned)"
   ]
  },
  {
   "cell_type": "code",
   "execution_count": 103,
   "metadata": {},
   "outputs": [
    {
     "name": "stdout",
     "output_type": "stream",
     "text": [
      "[ 1  4  8 12 16 20]\n",
      "[ 1  3  5  7  9 11 13 15 17 19]\n"
     ]
    }
   ],
   "source": [
    "print(np.linspace(1,20,6,dtype=int))\n",
    "print(np.arange(1,20,2,dtype=int))"
   ]
  },
  {
   "cell_type": "markdown",
   "metadata": {},
   "source": [
    "## asarray vs array\n",
    "\n",
    "### np.array(arr1):\n",
    "\n",
    "Always creates a new copy of the data, unless you pass copy=False explicitly.\n",
    "\n",
    "So arr2 is not the same object as arr1.\n",
    "\n",
    "### np.asarray(arr1):\n",
    "\n",
    "Avoids copying if arr1 is already a NumPy array.\n",
    "\n",
    "It returns the original array if no copy is needed.\n",
    "\n",
    "So arr3 is the same object as arr1."
   ]
  },
  {
   "cell_type": "code",
   "execution_count": 104,
   "metadata": {},
   "outputs": [
    {
     "name": "stdout",
     "output_type": "stream",
     "text": [
      "[1 2 3 4 5]\n",
      "[1 2 3 4 5]\n",
      "<class 'numpy.ndarray'>\n",
      "<class 'numpy.ndarray'>\n",
      "[10  2  3  4  5]\n",
      "[10  2  3  4  5]\n",
      "False\n",
      "False\n",
      "True\n"
     ]
    }
   ],
   "source": [
    "list1 = [1, 2, 3, 4, 5]\n",
    "arr = np.array(list1)\n",
    "asarr = np.asarray(list1)\n",
    "print(arr)\n",
    "print(asarr)\n",
    "print(type(arr))\n",
    "print(type(asarr))\n",
    "arr[0] = 10\n",
    "print(arr)\n",
    "asarr[0] = 10\n",
    "print(asarr)\n",
    "print(asarr is arr)\n",
    "\n",
    "arr1 = np.array([1, 2, 3, 4, 5])\n",
    "arr2 = np.array(arr1)\n",
    "arr3 = np.asarray(arr1) \n",
    "\n",
    "print(arr1 is arr2)\n",
    "print(arr1 is arr3)\n"
   ]
  },
  {
   "cell_type": "code",
   "execution_count": 105,
   "metadata": {},
   "outputs": [
    {
     "name": "stdout",
     "output_type": "stream",
     "text": [
      "(2, 2, 3)\n",
      "(3,)\n",
      "[[[  2  12 103]\n",
      "  [  5  15 106]]\n",
      "\n",
      " [[  8  18 109]\n",
      "  [ 11  21 112]]]\n"
     ]
    }
   ],
   "source": [
    "arr = np.array([[[1,2,3], [4,5,6]], [[7,8,9], [10,11,12]]]) \n",
    "print(arr.shape)\n",
    "arr1 = np.array([1,10,100])\n",
    "print(arr1.shape)\n",
    "print(arr + arr1)"
   ]
  },
  {
   "cell_type": "code",
   "execution_count": 106,
   "metadata": {},
   "outputs": [
    {
     "name": "stdout",
     "output_type": "stream",
     "text": [
      "[1 2 3 4 5]\n",
      "[2 3 4]\n",
      "False\n",
      "True\n",
      "[10  3  4]\n",
      "[ 1 10  3  4  5]\n",
      "[ 1 10  3  4  5]\n"
     ]
    }
   ],
   "source": [
    "arr = np.array([1, 2, 3, 4, 5])\n",
    "print(arr)\n",
    "arr1 = arr[1:4] # slicing is a view\n",
    "print(arr1)\n",
    "print(arr1 is arr)\n",
    "print(arr1.base is arr)\n",
    "arr1[0] = 10\n",
    "print(arr1)\n",
    "print(arr)\n",
    "print(arr1.base) \n"
   ]
  },
  {
   "cell_type": "markdown",
   "metadata": {},
   "source": [
    "## share_memory()"
   ]
  },
  {
   "cell_type": "code",
   "execution_count": 107,
   "metadata": {},
   "outputs": [
    {
     "name": "stdout",
     "output_type": "stream",
     "text": [
      "True\n"
     ]
    }
   ],
   "source": [
    "print(np.shares_memory(arr, arr1))"
   ]
  },
  {
   "cell_type": "markdown",
   "metadata": {},
   "source": [
    "### reverse 2d array"
   ]
  },
  {
   "cell_type": "code",
   "execution_count": 108,
   "metadata": {},
   "outputs": [
    {
     "name": "stdout",
     "output_type": "stream",
     "text": [
      "[[7 8 9]\n",
      " [4 5 6]\n",
      " [1 2 3]]\n",
      "[[3 2 1]\n",
      " [6 5 4]\n",
      " [9 8 7]]\n",
      "[[9 8 7]\n",
      " [6 5 4]\n",
      " [3 2 1]]\n",
      "[[1 4 7]\n",
      " [2 5 8]\n",
      " [3 6 9]]\n"
     ]
    }
   ],
   "source": [
    "arr_2d = np.array([[1, 2, 3], [4, 5, 6], [7, 8, 9]])\n",
    "print(arr_2d[::-1,:]) # reverse rows and same as arr_2d[::-1]\n",
    "print(arr_2d[:,::-1]) # reverse columns and same as arr_2d[:,::-1]\n",
    "print(arr_2d[::-1,::-1]) # reverse both rows and columns\n",
    "print(arr_2d.T) # transpose"
   ]
  },
  {
   "cell_type": "markdown",
   "metadata": {},
   "source": [
    "## np.flip()"
   ]
  },
  {
   "cell_type": "code",
   "execution_count": 109,
   "metadata": {},
   "outputs": [
    {
     "name": "stdout",
     "output_type": "stream",
     "text": [
      "[5 4 3 2 1]\n",
      "[[9 8 7]\n",
      " [6 5 4]\n",
      " [3 2 1]]\n",
      "[[7 8 9]\n",
      " [4 5 6]\n",
      " [1 2 3]]\n",
      "[[3 2 1]\n",
      " [6 5 4]\n",
      " [9 8 7]]\n",
      "[[3 2 1]\n",
      " [6 5 4]\n",
      " [9 8 7]]\n"
     ]
    }
   ],
   "source": [
    "print(np.flip(np.array([1, 2, 3, 4, 5])))\n",
    "print(np.flip(arr_2d)) # reverse rows and columns\n",
    "print(np.flip(arr_2d, axis=0)) # reverse rows\n",
    "print(np.flip(arr_2d, axis=1)) # reverse columns\n",
    "print(np.flip(arr_2d, axis=-1)) # reverse columns"
   ]
  },
  {
   "cell_type": "markdown",
   "metadata": {},
   "source": [
    "## Boolean indexing"
   ]
  },
  {
   "cell_type": "code",
   "execution_count": 110,
   "metadata": {},
   "outputs": [
    {
     "name": "stdout",
     "output_type": "stream",
     "text": [
      "[False False False  True  True]\n",
      "[4 5]\n",
      "[4 5]\n"
     ]
    }
   ],
   "source": [
    "arr = np.array([1, 2, 3, 4, 5])\n",
    "mask = arr > 3\n",
    "print(mask) # This will return a boolean array\n",
    "print(arr[mask]) # This will return a new array containing only the elements that are True in the mask\n",
    "print(arr[arr > 3]) # This will also return a new array containing only the elements that are True in the mask"
   ]
  },
  {
   "cell_type": "code",
   "execution_count": 111,
   "metadata": {},
   "outputs": [
    {
     "name": "stdout",
     "output_type": "stream",
     "text": [
      "(array([3, 4], dtype=int64),)\n",
      "[4 5]\n"
     ]
    }
   ],
   "source": [
    "print(np.where(arr > 3)) # This will return a tuple containing the indices of the elements that are True in the mask\n",
    "print(arr[np.where(arr > 3)]) # This will return a new array containing only the elements that are True in the mask"
   ]
  },
  {
   "cell_type": "code",
   "execution_count": 112,
   "metadata": {},
   "outputs": [
    {
     "name": "stdout",
     "output_type": "stream",
     "text": [
      "[[1 2 3]\n",
      " [4 5 6]\n",
      " [7 8 9]]\n",
      "[1 4 7]\n",
      "[1 2 3]\n",
      "[[1 2 3]]\n",
      "[[1]\n",
      " [4]\n",
      " [7]]\n",
      "[[1 3]\n",
      " [4 6]\n",
      " [7 9]]\n"
     ]
    }
   ],
   "source": [
    "print(arr_2d)\n",
    "print(arr_2d[:,0])\n",
    "print(arr_2d[0,:])\n",
    "\n",
    "print(arr_2d[[0],:])\n",
    "print(arr_2d[:,[0]])\n",
    "print(arr_2d[:,[0,2]])\n",
    "\n"
   ]
  },
  {
   "cell_type": "markdown",
   "metadata": {},
   "source": [
    "## Code\tMeaning\n",
    "\n",
    "np.where(condition, x, y)\tElement-wise conditional (ternary op)\n",
    "\n",
    "np.where(condition)\tReturns indices where condition is True\n",
    "\n",
    "arr[condition]\tFilters array using boolean mask\n",
    "\n",
    "arr[np.where(condition)]\tSame as above (returns filtered values)\n",
    "\n",
    "arr[np.where(condition, x, y)]\t❌ Invalid indexing — gives wrong result"
   ]
  },
  {
   "cell_type": "code",
   "execution_count": 113,
   "metadata": {},
   "outputs": [
    {
     "name": "stdout",
     "output_type": "stream",
     "text": [
      "[4 5]\n",
      "False\n",
      "[4 5]\n",
      "False\n",
      "[False False False  True  True]\n",
      "False\n"
     ]
    }
   ],
   "source": [
    "arr1 = arr[np.where(arr > 3)]\n",
    "print(arr1)\n",
    "print(arr1 is arr)\n",
    "arr2 = arr[arr > 3]\n",
    "print(arr2)\n",
    "print(arr2 is arr)\n",
    "arr3 = np.where(arr > 3, True, False)\n",
    "print(arr3)\n",
    "print(arr3 is arr)\n",
    "\n",
    "# arr2[0] = 10\n",
    "# print(arr2)\n",
    "# print(arr)"
   ]
  },
  {
   "cell_type": "code",
   "execution_count": 114,
   "metadata": {},
   "outputs": [
    {
     "name": "stdout",
     "output_type": "stream",
     "text": [
      "[0 2 4 6 8]\n",
      "[1 3 5 7 9]\n",
      "[9 8 7 6 5 4 3 2 1 0]\n",
      "[9 7 5 3 1]\n"
     ]
    }
   ],
   "source": [
    "print(np.arange(10)[::2])\n",
    "print(np.arange(10)[1::2])\n",
    "print(np.arange(10)[::-1])\n",
    "print(np.arange(10)[::-2])"
   ]
  },
  {
   "cell_type": "markdown",
   "metadata": {},
   "source": [
    "## Percentile"
   ]
  },
  {
   "cell_type": "code",
   "execution_count": 115,
   "metadata": {},
   "outputs": [
    {
     "name": "stdout",
     "output_type": "stream",
     "text": [
      "[1 2 3 4 5]\n",
      "3.0\n",
      "[2. 3. 4.]\n",
      "[2 3 4]\n",
      "[2. 3. 4.]\n",
      "[2. 3. 4.]\n"
     ]
    }
   ],
   "source": [
    "print(arr)\n",
    "print(np.percentile(arr, 50))\n",
    "print(np.percentile(arr, [25, 50, 75]))\n",
    "print(np.percentile(arr, [25, 50, 75], interpolation='nearest'))\n",
    "print(np.percentile(arr, [25, 50, 75], interpolation='midpoint'))\n",
    "print(np.percentile(arr, [25, 50, 75], interpolation='linear'))"
   ]
  },
  {
   "cell_type": "code",
   "execution_count": 116,
   "metadata": {},
   "outputs": [
    {
     "name": "stdout",
     "output_type": "stream",
     "text": [
      "[25. 35. 45.] [20. 50.]\n"
     ]
    }
   ],
   "source": [
    "arr_2d = np.array([[10, 20, 30], [40, 50, 60]])\n",
    "\n",
    "# Compute 50th percentile along rows (axis=0)\n",
    "# ➡ For each column, compute the 50th percentile (which is the median).\n",
    "# Columns:\n",
    "\n",
    "# 1st column: [10, 40] → median = 25\n",
    "\n",
    "# 2nd column: [20, 50] → median = 35\n",
    "\n",
    "# 3rd column: [30, 60] → median = 45\n",
    "p50_cols = np.percentile(arr_2d, 50, axis=0)  # [25. 35. 45.]\n",
    "\n",
    "# Compute 50th percentile along columns (axis=1)\n",
    "# For each row, compute the 50th percentile (median).\n",
    "\n",
    "# Rows:\n",
    "\n",
    "# 1st row: [10, 20, 30] → median = 20\n",
    "\n",
    "# 2nd row: [40, 50, 60] → median = 50\n",
    "p50_rows = np.percentile(arr_2d, 50, axis=1)  # [20. 50.]\n",
    "\n",
    "print(p50_cols, p50_rows)"
   ]
  },
  {
   "cell_type": "markdown",
   "metadata": {},
   "source": [
    "## var() and std()"
   ]
  },
  {
   "cell_type": "code",
   "execution_count": 117,
   "metadata": {},
   "outputs": [
    {
     "name": "stdout",
     "output_type": "stream",
     "text": [
      "Variance: 2.0\n",
      "Standard Deviation: 1.4142135623730951\n",
      "Variance along rows: [2.25 2.25 2.25]\n",
      "Standard Deviation along columns: [0.81649658 0.81649658]\n"
     ]
    }
   ],
   "source": [
    "import numpy as np\n",
    "\n",
    "arr = np.array([1, 2, 3, 4, 5])\n",
    "\n",
    "var = np.var(arr)\n",
    "std = np.std(arr)\n",
    "\n",
    "print(\"Variance:\", var)  # Output: 2.0\n",
    "print(\"Standard Deviation:\", std)  # Output: 1.4142...\n",
    "\n",
    "arr_2d = np.array([[1, 2, 3], [4, 5, 6]])\n",
    "\n",
    "var_2d = np.var(arr_2d, axis=0)\n",
    "std_2d = np.std(arr_2d, axis=1)\n",
    "\n",
    "print(\"Variance along rows:\", var_2d)  # Output: [1. 1.]\n",
    "print(\"Standard Deviation along columns:\", std_2d)  # Output: [1.4142... 1.4142...]"
   ]
  },
  {
   "cell_type": "markdown",
   "metadata": {},
   "source": [
    "## correlation coefficient - np.corrcoef(x,y)\n",
    "\n",
    "corr_matrix[0, 1] or corr_matrix[1, 0] gives the correlation coefficient between x and y.\n",
    "\n",
    "Value will be between -1 and 1:\n",
    "\n",
    "1: Perfect positive correlation\n",
    "\n",
    "0: No correlation\n",
    "\n",
    "-1: Perfect negative correlation"
   ]
  },
  {
   "cell_type": "code",
   "execution_count": 118,
   "metadata": {},
   "outputs": [
    {
     "name": "stdout",
     "output_type": "stream",
     "text": [
      "[[1. 1.]\n",
      " [1. 1.]]\n"
     ]
    }
   ],
   "source": [
    "\n",
    "\n",
    "x = np.array([1, 2, 3, 4, 5])\n",
    "y = np.array([10, 20, 30, 40, 50])\n",
    "\n",
    "corr_matrix = np.corrcoef(x, y)\n",
    "print(corr_matrix)\n"
   ]
  },
  {
   "cell_type": "code",
   "execution_count": 119,
   "metadata": {},
   "outputs": [
    {
     "name": "stdout",
     "output_type": "stream",
     "text": [
      "[[1. 1.]\n",
      " [1. 1.]]\n"
     ]
    }
   ],
   "source": [
    "arr = np.array([[1, 2, 3], [10, 20, 30]])\n",
    "print(np.corrcoef(arr))\n"
   ]
  },
  {
   "cell_type": "code",
   "execution_count": 120,
   "metadata": {},
   "outputs": [
    {
     "data": {
      "text/plain": [
       "array([[1., 1., 1.],\n",
       "       [1., 1., 1.],\n",
       "       [1., 1., 1.]])"
      ]
     },
     "execution_count": 120,
     "metadata": {},
     "output_type": "execute_result"
    }
   ],
   "source": [
    "np.corrcoef(arr.T)\n"
   ]
  },
  {
   "cell_type": "code",
   "execution_count": 121,
   "metadata": {},
   "outputs": [
    {
     "name": "stdout",
     "output_type": "stream",
     "text": [
      "[[ 1.          0.99437671 -1.        ]\n",
      " [ 0.99437671  1.         -0.99437671]\n",
      " [-1.         -0.99437671  1.        ]]\n"
     ]
    }
   ],
   "source": [
    "\n",
    "\n",
    "arr = np.array([\n",
    "    [1,  2,  3,  4],    # Variable A (increasing)\n",
    "    [2,  4,  6,  9],    # Variable B (roughly 2×A, but not perfectly)\n",
    "    [10, 8,  6,  4]     # Variable C (decreasing, negatively correlated with A)\n",
    "])\n",
    "\n",
    "# Correlation between variables (rows)\n",
    "print(np.corrcoef(arr))\n"
   ]
  },
  {
   "cell_type": "markdown",
   "metadata": {},
   "source": [
    "## Python vs Numpy"
   ]
  },
  {
   "cell_type": "code",
   "execution_count": 122,
   "metadata": {},
   "outputs": [
    {
     "name": "stdout",
     "output_type": "stream",
     "text": [
      "Pure Python time: 0.2300434112548828\n",
      "NumPy time: 0.043265581130981445\n"
     ]
    }
   ],
   "source": [
    "import time\n",
    "\n",
    "# Pure Python\n",
    "start = time.time()\n",
    "arr1 = [i for i in range(1000000)]\n",
    "arr2 = [i for i in range(1000000)]\n",
    "result = [a + b for a, b in zip(arr1, arr2)]\n",
    "end = time.time()\n",
    "print(f\"Pure Python time: {end - start}\")\n",
    "\n",
    "# NumPy\n",
    "start = time.time()\n",
    "arr1 = np.arange(1000000)\n",
    "arr2 = np.arange(1000000)\n",
    "result = arr1 + arr2  # Vectorized operation\n",
    "end = time.time()\n",
    "print(f\"NumPy time: {end - start}\")\n"
   ]
  },
  {
   "cell_type": "markdown",
   "metadata": {},
   "source": [
    "## strides"
   ]
  },
  {
   "cell_type": "code",
   "execution_count": 123,
   "metadata": {},
   "outputs": [
    {
     "name": "stdout",
     "output_type": "stream",
     "text": [
      "(4,)\n",
      "(20, 4)\n",
      "(20, 4)\n",
      "(20, 4)\n"
     ]
    }
   ],
   "source": [
    "arr = np.array([1,2,3,4,5])\n",
    "print(arr.strides)\n",
    "\n",
    "arr = np.array([[1,2,3,4,5]])\n",
    "print(arr.strides)\n",
    "\n",
    "arr = np.array([[1,2,3,4,5], [1,2,3,4,5]])\n",
    "print(arr.strides)\n",
    "\n",
    "arr = np.array([[1,2,3,4,5], [1,2,3,4,5], [1,2,3,4,5]])\n",
    "print(arr.strides)"
   ]
  },
  {
   "cell_type": "code",
   "execution_count": 124,
   "metadata": {},
   "outputs": [
    {
     "name": "stdout",
     "output_type": "stream",
     "text": [
      "[[[1 2]\n",
      "  [3 4]]\n",
      "\n",
      " [[5 6]\n",
      "  [7 8]]]\n",
      "(16, 8, 4)\n",
      "[[[[1 2]\n",
      "   [3 4]]\n",
      "\n",
      "  [[5 6]\n",
      "   [7 8]]]\n",
      "\n",
      "\n",
      " [[[1 2]\n",
      "   [3 4]]\n",
      "\n",
      "  [[5 6]\n",
      "   [7 8]]]]\n",
      "(32, 16, 8, 4)\n"
     ]
    }
   ],
   "source": [
    "arr_3d = np.array([[[1, 2], [3, 4]], [[5, 6], [7, 8]]])\n",
    "print(arr_3d)\n",
    "print(arr_3d.strides)\n",
    "\n",
    "arr_4d = np.array([[[[1, 2], [3, 4]], [[5, 6], [7, 8]]], [[[1, 2], [3, 4]], [[5, 6], [7, 8]]]])\n",
    "print(arr_4d)\n",
    "print(arr_4d.strides)\n"
   ]
  },
  {
   "cell_type": "markdown",
   "metadata": {},
   "source": [
    "## Memory size of array"
   ]
  },
  {
   "cell_type": "code",
   "execution_count": 125,
   "metadata": {},
   "outputs": [
    {
     "name": "stdout",
     "output_type": "stream",
     "text": [
      "Memory size of arr: 20 bytes\n",
      "5 4\n",
      "Manual memory size calculation: 20 bytes\n"
     ]
    }
   ],
   "source": [
    "# Create a NumPy array\n",
    "arr = np.array([1, 2, 3, 4, 5])\n",
    "\n",
    "# Check the memory size using .nbytes\n",
    "print(f\"Memory size of arr: {arr.nbytes} bytes\")\n",
    "\n",
    "print(arr.size, arr.itemsize)\n",
    "\n",
    "# Alternatively, calculate manually\n",
    "print(f\"Manual memory size calculation: {arr.size * arr.itemsize} bytes\")"
   ]
  },
  {
   "cell_type": "markdown",
   "metadata": {},
   "source": [
    "## in place operations\n",
    "\n",
    "In-place operations in NumPy are extremely efficient for both memory usage and performance, especially when working with large arrays or performing repeated computations. They avoid unnecessary data copying, reduce memory overhead, and speed up computations, making them a key tool when optimizing numerical and scientific computations."
   ]
  },
  {
   "cell_type": "code",
   "execution_count": 126,
   "metadata": {},
   "outputs": [
    {
     "name": "stdout",
     "output_type": "stream",
     "text": [
      "[ 6  7  8  9 10]\n",
      "[1 2 3 4 5]\n",
      "[ 2  4  6  8 10]\n",
      "[ 2  4  6  8 10]\n"
     ]
    }
   ],
   "source": [
    "arr = np.array([1, 2, 3, 4, 5])\n",
    "arr += 5\n",
    "print(arr)\n",
    "\n",
    "arr -= 5\n",
    "print(arr)\n",
    "\n",
    "arr *= 2\n",
    "print(arr)\n",
    "\n",
    "# arr %= 2\n",
    "# print(arr)\n",
    "\n",
    "np.sort(arr, axis=0, kind='quicksort')\n",
    "print(arr)"
   ]
  },
  {
   "cell_type": "code",
   "execution_count": 127,
   "metadata": {},
   "outputs": [
    {
     "name": "stdout",
     "output_type": "stream",
     "text": [
      "8\n",
      "4\n"
     ]
    }
   ],
   "source": [
    "arr = np.array([1.5, 2.5, 3.5], dtype=np.float64)  # 8 bytes per element\n",
    "print(arr.itemsize)\n",
    "arr = arr.astype(np.float32)  # Downcast to 4 bytes per element\n",
    "print(arr.itemsize)\n"
   ]
  },
  {
   "cell_type": "markdown",
   "metadata": {},
   "source": [
    "Slicing and reshaping often result in views of the original array, maintaining similar strides.\n",
    "\n",
    "Transposing modifies the strides to match the new memory layout after swapping axes.\n",
    "\n",
    "Fancy and boolean indexing can change the strides since the selected elements may no longer be contiguous in memory."
   ]
  },
  {
   "cell_type": "code",
   "execution_count": 128,
   "metadata": {},
   "outputs": [
    {
     "name": "stdout",
     "output_type": "stream",
     "text": [
      "Original array strides: (12, 4)\n",
      "[2 5]\n",
      "Sliced array strides: (12,)\n",
      "Reshaped array strides: (8, 4)\n",
      "Transposed array strides: (4, 12)\n"
     ]
    }
   ],
   "source": [
    "import numpy as np\n",
    "\n",
    "# Create a 2x3 array\n",
    "arr = np.array([[1, 2, 3], [4, 5, 6]])\n",
    "\n",
    "# Print strides\n",
    "print(\"Original array strides:\", arr.strides)\n",
    "\n",
    "# Slice the array\n",
    "sliced_arr = arr[:, 1]  # Taking all rows and only the second column\n",
    "print(sliced_arr)\n",
    "print(\"Sliced array strides:\", sliced_arr.strides)\n",
    "\n",
    "# Reshape the array\n",
    "reshaped_arr = arr.reshape(3, 2)\n",
    "print(\"Reshaped array strides:\", reshaped_arr.strides)\n",
    "\n",
    "# Transpose the array\n",
    "transposed_arr = arr.T\n",
    "print(\"Transposed array strides:\", transposed_arr.strides)\n"
   ]
  },
  {
   "cell_type": "code",
   "execution_count": 129,
   "metadata": {},
   "outputs": [
    {
     "name": "stdout",
     "output_type": "stream",
     "text": [
      "(12, 4)\n",
      "[[1 2]\n",
      " [4 5]]\n",
      "(12, 4)\n",
      "[[1 2]\n",
      " [3 4]\n",
      " [5 6]]\n",
      "(8, 4)\n",
      "[[1 4]\n",
      " [2 5]\n",
      " [3 6]]\n",
      "(4, 12)\n"
     ]
    }
   ],
   "source": [
    "arr = np.array([[1,2,3],[4,5,6]])\n",
    "print(arr.strides)\n",
    "\n",
    "arr1 = arr[: , 0:2]\n",
    "print(arr1)\n",
    "print(arr1.strides)\n",
    "\n",
    "arr2 = arr.reshape(3,2)\n",
    "print(arr2)\n",
    "print(arr2.strides)\n",
    "\n",
    "arr3 = arr.T\n",
    "print(arr3)\n",
    "print(arr3.strides)"
   ]
  },
  {
   "cell_type": "markdown",
   "metadata": {},
   "source": [
    "## Record array in numpy"
   ]
  },
  {
   "cell_type": "code",
   "execution_count": 130,
   "metadata": {},
   "outputs": [
    {
     "name": "stdout",
     "output_type": "stream",
     "text": [
      "[('Alice', 25, 1.7, 60.) ('Bob', 30, 1.8, 70.) ('Charlie', 35, 1.9, 80.)]\n",
      "[('Alice', 25, 1.7, 60.) ('Bob', 30, 1.8, 70.) ('Charlie', 35, 1.9, 80.)]\n",
      "['Alice' 'Bob' 'Charlie']\n",
      "[25 30 35]\n",
      "[1.7 1.8 1.9]\n",
      "[60. 70. 80.]\n",
      "['Alice' 'Bob' 'Charlie']\n",
      "[25 30 35]\n",
      "[1.7 1.8 1.9]\n",
      "[60. 70. 80.]\n",
      "['Alice' 'Bob' 'Charlie']\n",
      "[25 30 35]\n",
      "[1.7 1.8 1.9]\n",
      "[60. 70. 80.]\n",
      "[('Alice', 25, 1.7, 60.) ('Bob', 30, 1.8, 70.) ('Charlie', 35, 1.9, 80.)]\n",
      "[('Alice', 25, 1.7, 60.) ('Bob', 30, 1.8, 70.)]\n",
      "[('Alice', 25, 3.4, 60.) ('Bob', 30, 3.6, 70.) ('Charlie', 35, 3.8, 80.)]\n",
      "[('John', 25, 3.4, 60.) ('Bob', 30, 3.6, 70.) ('Charlie', 35, 3.8, 80.)]\n",
      "('Bob', 30, 3.6, 70.)\n"
     ]
    }
   ],
   "source": [
    "\n",
    "# Define a structured data type with names for each field\n",
    "dtype = [('name', 'U10'), ('age', 'i4'), ('height', 'f4'), ('weight', 'f4')]\n",
    "\n",
    "data = np.array([('Alice', 25, 1.7, 60), ('Bob', 30, 1.8, 70), ('Charlie', 35, 1.9, 80)], dtype=dtype)\n",
    "print(data)\n",
    "\n",
    "# convert to recarray\n",
    "rec_data = data.view(np.recarray)\n",
    "print(rec_data)\n",
    "\n",
    "# accessing fields using dot notation\n",
    "print(rec_data.name)\n",
    "print(rec_data.age)\n",
    "print(rec_data.height)\n",
    "print(rec_data.weight)\n",
    "\n",
    "# accessing fields using indexing\n",
    "print(data['name'])\n",
    "print(data['age'])\n",
    "print(data['height'])\n",
    "print(data['weight'])\n",
    "\n",
    "# accessing fields using indexing\n",
    "print(rec_data['name'])\n",
    "print(rec_data['age'])\n",
    "print(rec_data['height'])\n",
    "print(rec_data['weight'])\n",
    "\n",
    "# accessing fields using indexing\n",
    "print(data[['name', 'age', 'height', 'weight']])\n",
    "\n",
    "# accessing fields using slicing\n",
    "print(data[:2])\n",
    "\n",
    "# modifying fields\n",
    "rec_data['height'] *= 2\n",
    "print(rec_data)\n",
    "\n",
    "rec_data.name[0] = \"John\"\n",
    "print(rec_data)\n",
    "print(rec_data[1])"
   ]
  },
  {
   "cell_type": "markdown",
   "metadata": {},
   "source": [
    "## Creating masked array\n",
    "\n",
    "A masked array in NumPy is a type of array where some of its elements are masked, meaning they are marked as invalid or missing. You can \"mask\" elements in the array using a condition (e.g., setting specific elements to be ignored during operations). This allows you to handle missing or invalid data in your analysis without having to modify the original array or remove the values entirely.\n",
    "\n",
    "Masked arrays are part of the numpy.ma module, which provides tools for working with arrays containing missing or invalid data."
   ]
  },
  {
   "cell_type": "code",
   "execution_count": 131,
   "metadata": {},
   "outputs": [
    {
     "name": "stdout",
     "output_type": "stream",
     "text": [
      "[1 2 3 -- -- 4 5]\n",
      "3.0\n",
      "[-- -- 3 -- -- 4 5]\n",
      "(array([0, 1, 3, 4], dtype=int64),)\n"
     ]
    }
   ],
   "source": [
    "arr = np.array([1,2,3,-1,-2,4,5])\n",
    "\n",
    "# create a mask where the values are less than 0\n",
    "mask = arr < 0\n",
    "\n",
    "masked_arr = np.ma.masked_array(arr, mask=mask)\n",
    "\n",
    "print(masked_arr)\n",
    "\n",
    "masked_mean = np.ma.mean(masked_arr)\n",
    "\n",
    "print(masked_mean)\n",
    "\n",
    "masked_arr1 = np.ma.masked_where(arr < 3, arr)\n",
    "\n",
    "print(masked_arr1)\n",
    "print(np.where(arr < 3)) # This will return a tuple containing the indices of the elements that are True in the mask\n",
    "\n"
   ]
  },
  {
   "cell_type": "code",
   "execution_count": 132,
   "metadata": {},
   "outputs": [
    {
     "name": "stdout",
     "output_type": "stream",
     "text": [
      "[[1 2 3]\n",
      " [4 -- 6]\n",
      " [7 -- 9]]\n"
     ]
    }
   ],
   "source": [
    "arr_2d = np.array([[1, 2, 3], [4, -1, 6], [7, -2, 9]])\n",
    "\n",
    "mask = arr_2d < 0\n",
    "\n",
    "masked_arr = np.ma.masked_array(arr_2d, mask=mask)\n",
    "# this will mask the negative values\n",
    "print(masked_arr)"
   ]
  },
  {
   "cell_type": "markdown",
   "metadata": {},
   "source": [
    "## identity matrix using eye() and identity()"
   ]
  },
  {
   "cell_type": "code",
   "execution_count": 133,
   "metadata": {},
   "outputs": [
    {
     "name": "stdout",
     "output_type": "stream",
     "text": [
      "[[1. 0. 0.]\n",
      " [0. 1. 0.]\n",
      " [0. 0. 1.]]\n",
      "[[1. 0. 0.]\n",
      " [0. 1. 0.]\n",
      " [0. 0. 1.]]\n"
     ]
    }
   ],
   "source": [
    "identity_matrix = np.eye(3)\n",
    "print(identity_matrix)\n",
    "\n",
    "identity_matrix = np.identity(3)\n",
    "print(identity_matrix)"
   ]
  },
  {
   "cell_type": "markdown",
   "metadata": {},
   "source": [
    "## np.convolve() - np.convolve(a, v, mode='full')\n",
    "\n",
    "It slides one array (called a kernel or filter) across another and computes the dot product at each position.\n",
    "\n",
    "a: Input array (like your signal or data)\n",
    "\n",
    "v: The kernel or filter (usually small, like a window)\n",
    "\n",
    "mode:\n",
    "\n",
    "'full' → returns the full convolution (default)\n",
    "\n",
    "'same' → output is the same length as a\n",
    "\n",
    "'valid' → only includes values where v fully overlaps with a"
   ]
  },
  {
   "cell_type": "code",
   "execution_count": 134,
   "metadata": {},
   "outputs": [
    {
     "name": "stdout",
     "output_type": "stream",
     "text": [
      "[0.33333333 1.         2.         3.         4.         3.\n",
      " 1.66666667]\n",
      "[2. 3. 4.]\n",
      "[0.33333333 1.         2.         3.         4.         3.\n",
      " 1.66666667]\n",
      "[1. 2. 3. 4. 3.]\n"
     ]
    }
   ],
   "source": [
    "arr = np.array([1, 2, 3, 4, 5])\n",
    "kernal = np.ones(3) / 3\n",
    "result = np.convolve(arr, kernal)\n",
    "print(result)\n",
    "\n",
    "result = np.convolve(arr, kernal, mode='valid')\n",
    "print(result)\n",
    "\n",
    "result = np.convolve(arr, kernal, mode='full')\n",
    "print(result)\n",
    "\n",
    "result = np.convolve(arr, kernal, mode='same')\n",
    "print(result)"
   ]
  },
  {
   "cell_type": "code",
   "execution_count": 135,
   "metadata": {},
   "outputs": [
    {
     "name": "stdout",
     "output_type": "stream",
     "text": [
      "[[1 8 5]\n",
      " [9 9 5]\n",
      " [1 6 2]]\n",
      "[[0.    0.875 0.5  ]\n",
      " [1.    1.    0.5  ]\n",
      " [0.    0.625 0.125]]\n"
     ]
    }
   ],
   "source": [
    "arr = np.random.randint(1, 10, (3, 3))\n",
    "print(arr)\n",
    "\n",
    "normalized_arr = (arr - arr.min()) / (arr.max() - arr.min())\n",
    "print(normalized_arr)"
   ]
  },
  {
   "cell_type": "code",
   "execution_count": 136,
   "metadata": {},
   "outputs": [
    {
     "name": "stdout",
     "output_type": "stream",
     "text": [
      "[ 1  3  5  7  9 11 13 15 17 19]\n"
     ]
    }
   ],
   "source": [
    "arr = np.array([1, 2, 3, 4, 5, 6, 7, 8, 9, 10, 11, 12, 13, 14, 15, 16, 17, 18, 19, 20])\n",
    "odd_idx = arr % 2 != 0\n",
    "odd_arr = arr[odd_idx]\n",
    "print(odd_arr)"
   ]
  },
  {
   "cell_type": "code",
   "execution_count": 137,
   "metadata": {},
   "outputs": [
    {
     "name": "stdout",
     "output_type": "stream",
     "text": [
      "[[1 2]\n",
      " [4 5]]\n",
      "[[1 2]\n",
      " [3 4]\n",
      " [5 6]]\n",
      "[[ 1  2  3  4  5  6]\n",
      " [ 2  4  6  8 10 12]\n",
      " [ 4  8 12 16 20 24]\n",
      " [ 5 10 15 20 25 30]]\n"
     ]
    }
   ],
   "source": [
    "outer = np.outer(arr1, arr2)\n",
    "print(arr1)\n",
    "print(arr2)\n",
    "print(outer)"
   ]
  },
  {
   "cell_type": "markdown",
   "metadata": {},
   "source": [
    "Outer Product: The outer product produces a matrix by multiplying every element of the first vector with every element of the second vector. This gives you a 2D matrix, which can be quite useful in various scenarios like feature transformations.\n",
    "\n",
    "\n",
    "Dot Product: The dot product, on the other hand, takes two vectors of the same size and returns a single number. It’s the sum of the products of corresponding elements in the vectors. So, instead of expanding into a matrix, the result is just a scalar value"
   ]
  },
  {
   "cell_type": "code",
   "execution_count": 138,
   "metadata": {},
   "outputs": [
    {
     "name": "stdout",
     "output_type": "stream",
     "text": [
      "Outer Product:\n",
      " [[3 4]\n",
      " [6 8]]\n",
      "Dot Product: 11\n"
     ]
    }
   ],
   "source": [
    "a = np.array([1, 2])\n",
    "b = np.array([3, 4])\n",
    "\n",
    "outer_product = np.outer(a, b)\n",
    "dot_product = np.dot(a, b)\n",
    "\n",
    "print(\"Outer Product:\\n\", outer_product)\n",
    "print(\"Dot Product:\", dot_product)"
   ]
  },
  {
   "cell_type": "markdown",
   "metadata": {},
   "source": [
    "## This might surprise you, but numpy.outer() only works with 1D arrays. It’s designed to compute the outer product of two vectors, not matrices. If you try to pass a 2D array, you’ll get an error."
   ]
  },
  {
   "cell_type": "markdown",
   "metadata": {},
   "source": [
    "## so np.outer(a, b) is not same as np.outer(b, a)"
   ]
  },
  {
   "cell_type": "code",
   "execution_count": 139,
   "metadata": {},
   "outputs": [
    {
     "name": "stdout",
     "output_type": "stream",
     "text": [
      "[[3 6]\n",
      " [4 8]]\n"
     ]
    }
   ],
   "source": [
    "outer_product = np.outer(b, a)\n",
    "print(outer_product)"
   ]
  },
  {
   "cell_type": "code",
   "execution_count": 140,
   "metadata": {},
   "outputs": [
    {
     "name": "stdout",
     "output_type": "stream",
     "text": [
      "[[1 2 3]\n",
      " [4 5 0]\n",
      " [0 0 0]]\n"
     ]
    }
   ],
   "source": [
    "import numpy as np\n",
    "\n",
    "# Create a NumPy array\n",
    "arr = np.array([[1, 2, 3], [4, 5, 6], [7, 8, 9]])\n",
    "\n",
    "# Define the threshold and the replacement value\n",
    "threshold = 5\n",
    "replacement_value = 0\n",
    "\n",
    "# Replace elements greater than the threshold with the replacement value\n",
    "arr[arr > threshold] = replacement_value\n",
    "\n",
    "# Print the modified array\n",
    "print(arr)\n"
   ]
  },
  {
   "cell_type": "markdown",
   "metadata": {},
   "source": [
    "##  Identifying NaN and Infinite Values\n",
    "np.isnan(): Identifies NaN values in the array.\n",
    "\n",
    "np.isinf(): Identifies infinite values in the array.\n",
    "\n",
    "np.isfinite(): Identifies finite values (i.e., values that are neither NaN nor infinite).\n",
    "\n",
    "np.nanmean(): Calculates the mean of the array, ignoring NaN values.\n",
    "\n",
    "np.nanstd(): Computes the standard deviation, ignoring NaN values.\n",
    "\n",
    "np.nanmin() and np.nanmax(): Find the minimum or maximum values, ignoring NaN values.\n",
    "\n",
    "np.nan_to_num(): Replaces NaN with 0, positive infinity with a large number, and negative infinity with a small number."
   ]
  },
  {
   "cell_type": "code",
   "execution_count": 141,
   "metadata": {},
   "outputs": [
    {
     "name": "stdout",
     "output_type": "stream",
     "text": [
      "Check for Nan [False False  True False False]\n",
      "Check for Infinite [False False False  True False]\n",
      "Check fror Finite [ True  True False False  True]\n",
      "[1. 2. 0. 0. 5.]\n"
     ]
    }
   ],
   "source": [
    "# Create an array with NaN and infinite values\n",
    "arr = np.array([1, 2, np.nan, np.inf, 5])\n",
    "\n",
    "print(\"Check for Nan\", np.isnan(arr))\n",
    "print(\"Check for Infinite\", np.isinf(arr))\n",
    "print(\"Check fror Finite\", np.isfinite(arr))\n",
    "\n",
    "# arr[np.isnan(arr)] = 0\n",
    "arr_cleaned = np.nan_to_num(arr, nan=0, posinf=0, neginf=0)\n",
    "print(arr_cleaned)"
   ]
  },
  {
   "cell_type": "code",
   "execution_count": 142,
   "metadata": {},
   "outputs": [
    {
     "name": "stdout",
     "output_type": "stream",
     "text": [
      "[ 1.  2. nan  4.  5.]\n",
      "[1. 2. 3. 4. 5.]\n"
     ]
    }
   ],
   "source": [
    "arr[np.isinf(arr)] = 4\n",
    "print(arr)\n",
    "\n",
    "arr[np.isnan(arr)] = np.nanmean(arr)\n",
    "print(arr)"
   ]
  },
  {
   "cell_type": "markdown",
   "metadata": {},
   "source": [
    "## remove rows with any nan value"
   ]
  },
  {
   "cell_type": "code",
   "execution_count": 143,
   "metadata": {},
   "outputs": [
    {
     "name": "stdout",
     "output_type": "stream",
     "text": [
      "[[1. 2. 3.]\n",
      " [7. 8. 9.]]\n"
     ]
    }
   ],
   "source": [
    "arr = np.array([[1, 2, 3], [4, np.nan, 6], [7, 8, 9]])\n",
    "arr_cleaned = arr[~np.isnan(arr).any(axis=1)]\n",
    "print(arr_cleaned)\n"
   ]
  },
  {
   "cell_type": "code",
   "execution_count": 144,
   "metadata": {},
   "outputs": [
    {
     "name": "stdout",
     "output_type": "stream",
     "text": [
      "[False  True False]\n",
      "[[1. 3.]\n",
      " [4. 6.]\n",
      " [7. 9.]]\n"
     ]
    }
   ],
   "source": [
    "arr = np.array([[1, 2, 3], [4, np.nan, 6], [7, 8, 9]])\n",
    "\n",
    "col_with_nan = np.isnan(arr).any(axis=0)\n",
    "print(col_with_nan)\n",
    "\n",
    "arr_cleaned = arr[:, ~col_with_nan]\n",
    "print(arr_cleaned)\n",
    "\n"
   ]
  },
  {
   "cell_type": "code",
   "execution_count": 145,
   "metadata": {},
   "outputs": [
    {
     "name": "stdout",
     "output_type": "stream",
     "text": [
      "[1 2 3 4 5]\n",
      "[0 3 2 2 2 1]\n"
     ]
    }
   ],
   "source": [
    "arr = np.array([1,1,2,3,4,5,1,2,3,4])\n",
    "print(np.unique(arr))\n",
    "print(np.bincount(arr))"
   ]
  },
  {
   "cell_type": "markdown",
   "metadata": {},
   "source": [
    "## Advanced Indexing in NumPy\n",
    "Advanced indexing in NumPy allows you to select elements from an array using:\n",
    "\n",
    "Integer arrays (fancy indexing)\n",
    "\n",
    "Boolean masks (boolean indexing)\n",
    "\n",
    "Unlike basic slicing (which returns views), advanced indexing always returns a copy of the data."
   ]
  },
  {
   "cell_type": "code",
   "execution_count": 146,
   "metadata": {},
   "outputs": [
    {
     "name": "stdout",
     "output_type": "stream",
     "text": [
      "[10 30 50]\n"
     ]
    }
   ],
   "source": [
    "arr = np.array([10, 20, 30, 40, 50])\n",
    "indices = [0, 2, 4]  # Select 1st, 3rd, and 5th elements\n",
    "print(arr[indices])  # Output: [10 30 50]"
   ]
  },
  {
   "cell_type": "code",
   "execution_count": 147,
   "metadata": {},
   "outputs": [
    {
     "name": "stdout",
     "output_type": "stream",
     "text": [
      "[2 3 6]\n"
     ]
    }
   ],
   "source": [
    "arr = np.array([[1, 2], [3, 4], [5, 6]])\n",
    "row_indices = [0, 1, 2]  # Select all rows\n",
    "col_indices = [1, 0, 1]  #Select columns [1, 0, 1] for each row\n",
    "print(arr[row_indices,col_indices]) # [2, 3,6]"
   ]
  },
  {
   "cell_type": "code",
   "execution_count": 148,
   "metadata": {},
   "outputs": [
    {
     "name": "stdout",
     "output_type": "stream",
     "text": [
      "[False False  True  True]\n",
      "[15 20]\n"
     ]
    }
   ],
   "source": [
    "arr = np.array([5, 10, 15, 20])\n",
    "mask = arr > 10\n",
    "print(mask) # [False, False, True, True]\n",
    "print(arr[mask]) # [10,15,20]"
   ]
  },
  {
   "cell_type": "code",
   "execution_count": 149,
   "metadata": {},
   "outputs": [
    {
     "name": "stdout",
     "output_type": "stream",
     "text": [
      "[ 1 -1  3 -1  5]\n"
     ]
    }
   ],
   "source": [
    "arr = np.array([1, 2, 3, 4, 5])\n",
    "arr[arr % 2 == 0] = -1\n",
    "print(arr) # [1,-1,3,-1,5]"
   ]
  },
  {
   "cell_type": "markdown",
   "metadata": {},
   "source": [
    "## Unravel_index() - Converts a flat index → (row, col)\n",
    "\n",
    "- “If I flattened this 2D (or nD) array into 1D, what would be the original row and column of a specific element?”\n",
    "\n",
    "np.unravel_index(flat_index, shape)\n",
    "flat_index: the position in the flattened array\n",
    "\n",
    "shape: the shape of the original multi-dimensional array"
   ]
  },
  {
   "cell_type": "code",
   "execution_count": 150,
   "metadata": {},
   "outputs": [
    {
     "name": "stdout",
     "output_type": "stream",
     "text": [
      "(1, 1)\n"
     ]
    }
   ],
   "source": [
    "arr = np.array([[10, 20, 30],\n",
    "                [40, 50, 60]])\n",
    "\n",
    "flat_index = 4\n",
    "print(np.unravel_index(flat_index, arr.shape))\n",
    "\n",
    "# Flattened view: [10, 20, 30, 40, 50, 60]\n",
    "# Index 0 → (0,0)\n",
    "# Index 1 → (0,1)\n",
    "# Index 2 → (0,2)\n",
    "# Index 3 → (1,0)\n",
    "# Index 4 → (1,1) ✅\n",
    "# Index 5 → (1,2)"
   ]
  },
  {
   "cell_type": "code",
   "execution_count": 155,
   "metadata": {},
   "outputs": [
    {
     "data": {
      "text/plain": [
       "array([[7, 7, 7, 7, 7],\n",
       "       [7, 7, 7, 7, 7],\n",
       "       [7, 7, 7, 7, 7],\n",
       "       [7, 7, 7, 7, 7],\n",
       "       [7, 7, 7, 7, 7]])"
      ]
     },
     "execution_count": 155,
     "metadata": {},
     "output_type": "execute_result"
    }
   ],
   "source": [
    "# Create a 5x5 array with 7 on the border and 0 inside\n",
    "arr = np.ones((5,5), dtype=int) * 7\n",
    "arr"
   ]
  },
  {
   "cell_type": "code",
   "execution_count": 157,
   "metadata": {},
   "outputs": [
    {
     "data": {
      "text/plain": [
       "array([[7, 7, 7, 7, 7],\n",
       "       [7, 0, 0, 0, 7],\n",
       "       [7, 0, 0, 0, 7],\n",
       "       [7, 0, 0, 0, 7],\n",
       "       [7, 7, 7, 7, 7]])"
      ]
     },
     "execution_count": 157,
     "metadata": {},
     "output_type": "execute_result"
    }
   ],
   "source": [
    "arr[1:-1, 1:-1] = 0\n",
    "arr"
   ]
  },
  {
   "cell_type": "code",
   "execution_count": 160,
   "metadata": {},
   "outputs": [
    {
     "name": "stdout",
     "output_type": "stream",
     "text": [
      "[[1. 1. 1.]\n",
      " [1. 1. 1.]] [[0. 0. 0.]\n",
      " [0. 0. 0.]]\n"
     ]
    },
    {
     "data": {
      "text/plain": [
       "array([[1., 1., 1.],\n",
       "       [1., 1., 1.],\n",
       "       [0., 0., 0.],\n",
       "       [0., 0., 0.]])"
      ]
     },
     "execution_count": 160,
     "metadata": {},
     "output_type": "execute_result"
    }
   ],
   "source": [
    "a = np.ones((2, 3))\n",
    "b = np.zeros((2, 3))\n",
    "print(a, b)\n",
    "v_stacked = np.vstack((a, b))\n",
    "v_stacked"
   ]
  },
  {
   "cell_type": "code",
   "execution_count": 162,
   "metadata": {},
   "outputs": [
    {
     "data": {
      "text/plain": [
       "array([[1., 1., 1., 0., 0., 0.],\n",
       "       [1., 1., 1., 0., 0., 0.]])"
      ]
     },
     "execution_count": 162,
     "metadata": {},
     "output_type": "execute_result"
    }
   ],
   "source": [
    "h_stacked = np.hstack((a,b))\n",
    "h_stacked"
   ]
  }
 ],
 "metadata": {
  "kernelspec": {
   "display_name": "base",
   "language": "python",
   "name": "python3"
  },
  "language_info": {
   "codemirror_mode": {
    "name": "ipython",
    "version": 3
   },
   "file_extension": ".py",
   "mimetype": "text/x-python",
   "name": "python",
   "nbconvert_exporter": "python",
   "pygments_lexer": "ipython3",
   "version": "3.12.4"
  }
 },
 "nbformat": 4,
 "nbformat_minor": 2
}
