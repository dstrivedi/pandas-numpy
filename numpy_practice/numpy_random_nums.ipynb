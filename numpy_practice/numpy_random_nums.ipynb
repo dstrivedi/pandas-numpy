{
 "cells": [
  {
   "cell_type": "markdown",
   "metadata": {},
   "source": [
    "# Basic random numbers\n",
    "\n",
    "Summary Table\n",
    "\n",
    "np.random.rand() -  Uniform floats in [0, 1]  -\tnp.random.rand(5)\n",
    "\n",
    "np.random.uniform()\t-  Custom uniform range\t -   np.random.uniform(5, 10, 5)\n",
    "\n",
    "np.random.randint()\t-  Random integers\t   -     np.random.randint(0, 10, 5)\n",
    "\n",
    "np.random.normal() -\t  Gaussian distribution\t  -  np.random.normal(0, 1, 1000)\n",
    "\n",
    "np.random.choice()\t-  Random samples from array -\tnp.random.choice([1,2,3], 2)\n",
    "\n",
    "np.random.shuffle() -\t  Shuffle array in-place -\tnp.random.shuffle(arr)\n",
    "\n",
    "np.random.seed()  -\t  Fix random seed\t  -      np.random.seed(42)\n",
    "\n",
    "np.random.binomial() -  Binomial distribution\t -   np.random.binomial(10, 0.5)\n",
    "\n",
    "Key Takeaways\n",
    "\n",
    "np.random.rand() / np.random.uniform(): For uniform random floats.\n",
    "\n",
    "np.random.randint(): For random integers.\n",
    "\n",
    "np.random.normal(): For Gaussian (normal) distributions.\n",
    "\n",
    "np.random.choice(): For sampling from existing data.\n",
    "\n",
    "np.random.seed(): Ensures reproducibility.\n",
    "\n",
    "Modern approach: Use rng = np.random.default_rng() for better randomness control."
   ]
  },
  {
   "cell_type": "code",
   "execution_count": 1,
   "metadata": {},
   "outputs": [],
   "source": [
    "import numpy as np"
   ]
  },
  {
   "cell_type": "markdown",
   "metadata": {},
   "source": [
    "## Random float"
   ]
  },
  {
   "cell_type": "code",
   "execution_count": null,
   "metadata": {},
   "outputs": [
    {
     "name": "stdout",
     "output_type": "stream",
     "text": [
      "0.9418670664845257\n",
      "[0.14282832 0.33441805 0.35375643 0.88231107 0.57118748 0.26549357\n",
      " 0.91665462 0.71531246 0.28595168 0.10612937]\n",
      "[[0.73602461 0.30161224 0.17427372 0.27497916 0.16965569]\n",
      " [0.49496649 0.85676602 0.42023072 0.90843968 0.31267381]\n",
      " [0.20528091 0.66187513 0.12677713 0.59389269 0.85996507]\n",
      " [0.98229641 0.75993151 0.54341516 0.48976973 0.77173556]\n",
      " [0.97939095 0.00332726 0.26765729 0.588089   0.50991763]\n",
      " [0.74949239 0.08370825 0.83627908 0.26973335 0.51838714]\n",
      " [0.14068646 0.63074657 0.02305814 0.26059918 0.07412484]\n",
      " [0.37105856 0.43559482 0.69215063 0.18762224 0.41002872]\n",
      " [0.4676726  0.2454504  0.92124932 0.8993542  0.39479169]\n",
      " [0.04991057 0.64140373 0.30643034 0.13742667 0.09820051]]\n",
      "[[[2.26972939e-01 6.75139331e-01 3.58510784e-01]\n",
      "  [6.48003114e-01 9.39178712e-01 2.24234121e-01]\n",
      "  [1.92460750e-01 1.56552775e-01 2.18130375e-01]\n",
      "  [9.86597499e-01 7.99644006e-01 1.53738147e-01]\n",
      "  [8.24073497e-01 4.94428227e-01 5.64493467e-01]]\n",
      "\n",
      " [[8.67869982e-01 8.57591097e-01 7.61766990e-01]\n",
      "  [5.67640421e-02 1.40291349e-01 2.66385694e-01]\n",
      "  [6.20976949e-01 4.70618235e-01 2.69354272e-01]\n",
      "  [8.31593151e-01 9.30192853e-01 9.96424403e-01]\n",
      "  [3.32928429e-02 6.80399756e-01 5.39534993e-01]]\n",
      "\n",
      " [[5.00180154e-01 8.34421497e-01 6.76387461e-01]\n",
      "  [5.99369254e-01 9.04764020e-01 4.51929016e-01]\n",
      "  [8.78092824e-01 9.10142321e-01 3.98664524e-01]\n",
      "  [2.85776359e-01 7.87787586e-02 9.29723696e-01]\n",
      "  [6.75734809e-01 4.12493248e-01 6.41371545e-01]]\n",
      "\n",
      " [[2.57190929e-01 5.14336119e-01 7.42449041e-01]\n",
      "  [5.85736109e-01 1.42866086e-01 9.32190862e-01]\n",
      "  [3.01878646e-01 8.46070258e-01 5.19349991e-01]\n",
      "  [5.88823680e-02 3.40099734e-01 8.72464905e-01]\n",
      "  [6.19970929e-01 3.84656906e-01 1.12323330e-01]]\n",
      "\n",
      " [[4.95044758e-01 2.60161185e-01 2.98464452e-01]\n",
      "  [9.44999457e-01 1.36051170e-01 3.01991571e-01]\n",
      "  [9.73927469e-02 7.92541369e-01 8.90457017e-02]\n",
      "  [2.75586630e-01 1.58346770e-04 1.92601765e-01]\n",
      "  [9.35652944e-01 2.56049124e-01 9.48351577e-01]]\n",
      "\n",
      " [[9.30388102e-01 1.53195150e-01 1.61740313e-01]\n",
      "  [4.64149226e-01 5.85667954e-01 4.71034426e-01]\n",
      "  [4.86331908e-01 9.41722817e-01 9.76668497e-01]\n",
      "  [7.40675290e-01 2.98610393e-01 9.36911381e-01]\n",
      "  [7.83649768e-01 5.76900998e-01 2.01707439e-01]]\n",
      "\n",
      " [[3.18864955e-01 3.50564105e-01 7.30641579e-01]\n",
      "  [2.77200333e-02 4.47813856e-01 5.16528847e-01]\n",
      "  [8.78371902e-01 8.04024685e-01 6.75949840e-01]\n",
      "  [9.56122502e-01 3.55426832e-01 9.51641334e-01]\n",
      "  [5.98708966e-01 2.82049707e-01 7.49619023e-01]]\n",
      "\n",
      " [[4.99947541e-01 3.33362369e-01 5.41345480e-01]\n",
      "  [9.55128971e-01 8.58166062e-02 6.59708209e-01]\n",
      "  [6.94004517e-02 3.31037035e-01 8.43604067e-01]\n",
      "  [5.05150950e-01 2.95368002e-01 9.73751751e-01]\n",
      "  [5.92407397e-01 5.17778223e-01 3.89643173e-01]]\n",
      "\n",
      " [[3.54459530e-02 1.28440047e-01 9.84965503e-01]\n",
      "  [9.69449588e-01 7.64895896e-01 3.06915346e-01]\n",
      "  [4.55195728e-01 1.59379966e-01 4.98979131e-01]\n",
      "  [3.26837593e-01 7.89074431e-02 2.25032264e-01]\n",
      "  [1.14957722e-01 9.14239765e-01 9.11272286e-01]]\n",
      "\n",
      " [[9.98224203e-01 9.88642191e-01 5.27303359e-01]\n",
      "  [5.87102855e-01 1.80620149e-01 7.70651420e-01]\n",
      "  [3.29435822e-01 6.92789753e-01 4.95939942e-01]\n",
      "  [1.74319859e-01 8.61854339e-01 5.54955437e-01]\n",
      "  [1.97933548e-01 4.38389312e-01 5.28450776e-01]]]\n"
     ]
    }
   ],
   "source": [
    "rand_float = np.random.rand() # this will return random float between 0 and 1\n",
    "print(rand_float)\n",
    "\n",
    "rand_float = np.random.rand(10) # this will return 10 random floats between 0 and 1\n",
    "print(rand_float)\n",
    "\n",
    "rand_float = np.random.rand(10,5) # this will return 10x5 random floats between 0 and 1\n",
    "print(rand_float) # 10 rows and 5 columns\n",
    "\n",
    "rand_float = np.random.rand(10,5,3) # this will return 10x5x3 random floats between 0 and 1\n",
    "print(rand_float) # 10 rows for first block, each block has 5 rows, each row has 3 columns"
   ]
  },
  {
   "cell_type": "markdown",
   "metadata": {},
   "source": [
    "## Random integer"
   ]
  },
  {
   "cell_type": "code",
   "execution_count": 15,
   "metadata": {},
   "outputs": [
    {
     "name": "stdout",
     "output_type": "stream",
     "text": [
      "4\n",
      "12\n",
      "[19 12 13 10 12]\n"
     ]
    }
   ],
   "source": [
    "# rand_int = np.random.randint() # this throws an error because of no arguments-\n",
    "\n",
    "rand_int_num = np.random.randint(10) # this will return random integer between 0 and 9\n",
    "print(rand_int_num)\n",
    "\n",
    "rand_int_range = np.random.randint(10,20) # this will return random integer between 10 and 19\n",
    "print(rand_int_range)\n",
    "\n",
    "rand_int_range2 = np.random.randint(10,20,5) # this will return 5 random integers between 10 and 19\n",
    "print(rand_int_range2)\n"
   ]
  },
  {
   "cell_type": "markdown",
   "metadata": {},
   "source": [
    "## Uniform"
   ]
  },
  {
   "cell_type": "code",
   "execution_count": 40,
   "metadata": {},
   "outputs": [
    {
     "name": "stdout",
     "output_type": "stream",
     "text": [
      "74.76891914733896\n",
      "[89.01430746 47.28797866 42.89423715 66.28457957  1.26318235]\n"
     ]
    }
   ],
   "source": [
    "rand_uniform_float = np.random.uniform(low=0, high=100) # this will return random float between 0 and 100\n",
    "print(rand_uniform_float)\n",
    "\n",
    "rand_uniform_float_5 = np.random.uniform(low=0, high=100, size=5) # this will return 5 random floats between 0 and 100\n",
    "print(rand_uniform_float_5)"
   ]
  },
  {
   "cell_type": "markdown",
   "metadata": {},
   "source": [
    "## Choice"
   ]
  },
  {
   "cell_type": "code",
   "execution_count": null,
   "metadata": {},
   "outputs": [
    {
     "name": "stdout",
     "output_type": "stream",
     "text": [
      "7\n",
      "[5 5 7 5 5]\n",
      "[5 3 7]\n"
     ]
    }
   ],
   "source": [
    "rand_choice = np.random.choice([3, 5, 7, 9]) # this will return a random value from the list\n",
    "print(rand_choice)\n",
    "\n",
    "rand_choice = np.random.choice([3, 5, 7, 9], 5) # this will return 5 random values from the list\n",
    "print(rand_choice)\n",
    "\n",
    "rand_choice = np.random.choice([3, 5, 7, 9], 3, replace=False) # this will return 3 unique random values from the list\n",
    "print(rand_choice)"
   ]
  },
  {
   "cell_type": "markdown",
   "metadata": {},
   "source": [
    "## Shuffle - So it doesn't return a new shuffled array — it just shuffles the original one directly."
   ]
  },
  {
   "cell_type": "code",
   "execution_count": null,
   "metadata": {},
   "outputs": [
    {
     "name": "stdout",
     "output_type": "stream",
     "text": [
      "[5 3 2 4 1]\n",
      "None\n"
     ]
    }
   ],
   "source": [
    "arr = np.array([1, 2, 3, 4, 5])\n",
    "np.random.shuffle(arr)  # In-place shuffling\n",
    "print(arr)  # e.g., [3, 1, 5, 2, 4]\n",
    "\n",
    "print(np.random.shuffle(arr)) # So it doesn't return a new shuffled array — it just shuffles the original one directly."
   ]
  },
  {
   "cell_type": "markdown",
   "metadata": {},
   "source": [
    "## Permutation\n",
    "\n",
    "Returns a new shuffled copy\n",
    "\n",
    "Does NOT modify the original array\n",
    "\n",
    "Can work on integers too"
   ]
  },
  {
   "cell_type": "code",
   "execution_count": 83,
   "metadata": {},
   "outputs": [
    {
     "name": "stdout",
     "output_type": "stream",
     "text": [
      "[1 2 3 5 4]\n",
      "[1 3 2 5 4]\n",
      "False\n"
     ]
    }
   ],
   "source": [
    "permuated = np.random.permutation(arr)\n",
    "print(permuated)\n",
    "print(arr)\n",
    "print(permuated is arr)"
   ]
  },
  {
   "cell_type": "code",
   "execution_count": 86,
   "metadata": {},
   "outputs": [
    {
     "name": "stdout",
     "output_type": "stream",
     "text": [
      "[6 4 3 2 5 8 9 0 7 1]\n"
     ]
    }
   ],
   "source": [
    "permuated_range = np.random.permutation(10) # this will return 10 random integers between 0 and 9\n",
    "print(permuated_range)"
   ]
  }
 ],
 "metadata": {
  "kernelspec": {
   "display_name": "base",
   "language": "python",
   "name": "python3"
  },
  "language_info": {
   "codemirror_mode": {
    "name": "ipython",
    "version": 3
   },
   "file_extension": ".py",
   "mimetype": "text/x-python",
   "name": "python",
   "nbconvert_exporter": "python",
   "pygments_lexer": "ipython3",
   "version": "3.12.4"
  }
 },
 "nbformat": 4,
 "nbformat_minor": 2
}
