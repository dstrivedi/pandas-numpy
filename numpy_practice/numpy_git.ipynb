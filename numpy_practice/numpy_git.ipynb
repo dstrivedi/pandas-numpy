{
 "cells": [
  {
   "cell_type": "markdown",
   "id": "280faa8d",
   "metadata": {},
   "source": [
    "## Source https://github.com/RoyiAvital/Julia100Exercises"
   ]
  },
  {
   "cell_type": "code",
   "execution_count": 89,
   "id": "df2f5840",
   "metadata": {},
   "outputs": [],
   "source": [
    "import numpy as np"
   ]
  },
  {
   "cell_type": "code",
   "execution_count": 90,
   "id": "92744e5e",
   "metadata": {},
   "outputs": [
    {
     "name": "stdout",
     "output_type": "stream",
     "text": [
      "[ 7  8  9 10 11]\n"
     ]
    }
   ],
   "source": [
    "# Create a vector with values ranging from 7 to 12\n",
    "arr = np.arange(7,12,1)\n",
    "print(arr)"
   ]
  },
  {
   "cell_type": "code",
   "execution_count": 91,
   "id": "a1a791c6",
   "metadata": {},
   "outputs": [
    {
     "name": "stdout",
     "output_type": "stream",
     "text": [
      "4\n",
      "20\n",
      "80\n"
     ]
    }
   ],
   "source": [
    "# How to find the memory size of any array\n",
    "print(arr.itemsize) # bytes per element\n",
    "print(arr.nbytes) # total bytes\n",
    "print(arr.itemsize * arr.nbytes) # total memory "
   ]
  },
  {
   "cell_type": "code",
   "execution_count": 92,
   "id": "86100efd",
   "metadata": {},
   "outputs": [],
   "source": [
    "#  How to get the documentation of the numpy add function from the command line? (★☆☆)\n",
    "# python -c \"import numpy as np; help(np.add)\"\n",
    "#  pydoc numpy.add"
   ]
  },
  {
   "cell_type": "code",
   "execution_count": 93,
   "id": "0b91283e",
   "metadata": {},
   "outputs": [
    {
     "name": "stdout",
     "output_type": "stream",
     "text": [
      "[0. 0. 0. 0. 1. 0. 0. 0. 0. 0.]\n"
     ]
    }
   ],
   "source": [
    "#  Create a null vector of size 10 but the fifth value which is 1\n",
    "zeros10 = np.zeros(10)\n",
    "zeros10[4] = 1\n",
    "print(zeros10)"
   ]
  },
  {
   "cell_type": "code",
   "execution_count": 94,
   "id": "647e01d7",
   "metadata": {},
   "outputs": [
    {
     "name": "stdout",
     "output_type": "stream",
     "text": [
      "[10 11 12 13 14 15 16 17 18 19 20 21 22 23 24 25 26 27 28 29 30 31 32 33\n",
      " 34 35 36 37 38 39 40 41 42 43 44 45 46 47 48]\n",
      "[48 47 46 45 44 43 42 41 40 39 38 37 36 35 34 33 32 31 30 29 28 27 26 25\n",
      " 24 23 22 21 20 19 18 17 16 15 14 13 12 11 10]\n"
     ]
    }
   ],
   "source": [
    "# Create a vector with values ranging from 10 to 49 \n",
    "v1 = np.arange(10, 49, 1)\n",
    "print(v1)\n",
    "\n",
    "# Reverse a vector (first element becomes last)\n",
    "print(v1[::-1])"
   ]
  },
  {
   "cell_type": "code",
   "execution_count": 95,
   "id": "328091b8",
   "metadata": {},
   "outputs": [
    {
     "name": "stdout",
     "output_type": "stream",
     "text": [
      "[[0 1 2]\n",
      " [3 4 5]\n",
      " [6 7 8]]\n"
     ]
    }
   ],
   "source": [
    "# Create a 3x3 matrix with values ranging from 0 to 8\n",
    "mat3 = np.arange(9).reshape(3,3)\n",
    "print(mat3)"
   ]
  },
  {
   "cell_type": "code",
   "execution_count": 96,
   "id": "a7aeea4b",
   "metadata": {},
   "outputs": [
    {
     "name": "stdout",
     "output_type": "stream",
     "text": [
      "(array([0, 1, 4], dtype=int64),)\n"
     ]
    }
   ],
   "source": [
    "#  Find indices of non-zero elements from [1,2,0,0,4,0] \n",
    "arr = np.array([1,2,0,0,4,0])\n",
    "nonzero = np.nonzero(arr)\n",
    "print(nonzero)"
   ]
  },
  {
   "cell_type": "code",
   "execution_count": 97,
   "id": "71e9b54d",
   "metadata": {},
   "outputs": [
    {
     "name": "stdout",
     "output_type": "stream",
     "text": [
      "[[1. 0. 0.]\n",
      " [0. 1. 0.]\n",
      " [0. 0. 1.]]\n"
     ]
    }
   ],
   "source": [
    "#  Create a 3x3 identity matrix\n",
    "mat33 = np.eye(3)\n",
    "print(mat33)"
   ]
  },
  {
   "cell_type": "code",
   "execution_count": 98,
   "id": "debad04d",
   "metadata": {},
   "outputs": [
    {
     "name": "stdout",
     "output_type": "stream",
     "text": [
      "[[[0.37796288 0.31897724 0.18001486]\n",
      "  [0.80697294 0.85732671 0.67423392]\n",
      "  [0.1974487  0.68811935 0.26584441]]\n",
      "\n",
      " [[0.06298324 0.07821962 0.58723519]\n",
      "  [0.6265854  0.87537014 0.77655012]\n",
      "  [0.79367469 0.42529052 0.25673065]]\n",
      "\n",
      " [[0.96470164 0.64095508 0.17882454]\n",
      "  [0.46717425 0.22037127 0.44765164]\n",
      "  [0.20105388 0.49848709 0.57245867]]]\n"
     ]
    }
   ],
   "source": [
    "# Create a 3x3x3 array with random values (★☆☆)\n",
    "arr = np.random.random((3,3,3))\n",
    "print(arr)"
   ]
  },
  {
   "cell_type": "code",
   "execution_count": 99,
   "id": "410594f6",
   "metadata": {},
   "outputs": [
    {
     "name": "stdout",
     "output_type": "stream",
     "text": [
      "[[0 0 5 8 4 0 5 0 4 3]\n",
      " [3 6 4 1 6 0 5 6 8 9]\n",
      " [5 5 4 6 8 1 2 6 5 1]\n",
      " [8 5 9 0 4 2 2 0 3 1]\n",
      " [1 8 2 1 7 3 0 0 8 5]\n",
      " [6 5 3 3 3 4 8 8 0 9]\n",
      " [6 4 8 7 7 3 4 5 6 6]\n",
      " [9 9 6 9 2 0 6 5 0 5]\n",
      " [4 6 7 0 1 0 5 9 9 2]\n",
      " [4 9 8 8 3 3 4 6 3 4]]\n",
      "0\n",
      "9\n"
     ]
    }
   ],
   "source": [
    "#  Create a 10x10 array with random values and find the minimum and maximum values\n",
    "arr10 = np.random.randint(10,size= (10,10))\n",
    "print(arr10)\n",
    "print(arr10.min())\n",
    "print(arr10.max())"
   ]
  },
  {
   "cell_type": "code",
   "execution_count": 100,
   "id": "d8476ba3",
   "metadata": {},
   "outputs": [
    {
     "name": "stdout",
     "output_type": "stream",
     "text": [
      "[58 36 34 69 39 46 39 85 39 28 11  6 20 36 33 18 86 95 24  3 40 79 59 61\n",
      " 14  9 28 69 26  6]\n",
      "39.86666666666667\n"
     ]
    }
   ],
   "source": [
    "# Create a random vector of size 30 and find the mean value\n",
    "arr30 = np.random.randint(1, 101, size=(30))\n",
    "print(arr30)\n",
    "print(arr30.mean())"
   ]
  },
  {
   "cell_type": "code",
   "execution_count": 101,
   "id": "d2a3c7f8",
   "metadata": {},
   "outputs": [
    {
     "name": "stdout",
     "output_type": "stream",
     "text": [
      "using np.pad() [[1 1 1 1]\n",
      " [1 0 0 1]\n",
      " [1 0 0 1]\n",
      " [1 1 1 1]]\n",
      "[[1. 1. 1. 1.]\n",
      " [1. 0. 0. 1.]\n",
      " [1. 0. 0. 1.]\n",
      " [1. 1. 1. 1.]]\n"
     ]
    }
   ],
   "source": [
    "#  Create a 2d array with 1 on the border and 0 inside\n",
    "arr = np.zeros((2,2), dtype=int)\n",
    "arr = np.pad(arr, pad_width=1,mode=\"constant\", constant_values=1)\n",
    "\n",
    "print(\"using np.pad()\",arr)\n",
    "\n",
    "Z = np.ones((4,4))\n",
    "Z[1:-1,1:-1] = 0 # Start at index 1 (second element) and Go up to but not including the last element (-1)\n",
    "print(Z)"
   ]
  },
  {
   "cell_type": "code",
   "execution_count": 102,
   "id": "83e14358",
   "metadata": {},
   "outputs": [
    {
     "data": {
      "text/plain": [
       "False"
      ]
     },
     "execution_count": 102,
     "metadata": {},
     "output_type": "execute_result"
    }
   ],
   "source": [
    "# What is the result of the following expression? (★☆☆)\n",
    "\n",
    "0 * np.nan # nan\n",
    "np.nan == np.nan # False\n",
    "np.inf > np.nan # False\n",
    "np.nan - np.nan # nan\n",
    "np.nan in set([np.nan]) # True\n",
    "0.3 == 3 * 0.1 # False\n",
    "\n"
   ]
  },
  {
   "cell_type": "code",
   "execution_count": 103,
   "id": "ac5a76aa",
   "metadata": {},
   "outputs": [
    {
     "data": {
      "text/plain": [
       "array([[0, 0, 0, 0, 0],\n",
       "       [1, 0, 0, 0, 0],\n",
       "       [0, 2, 0, 0, 0],\n",
       "       [0, 0, 3, 0, 0],\n",
       "       [0, 0, 0, 4, 0]])"
      ]
     },
     "execution_count": 103,
     "metadata": {},
     "output_type": "execute_result"
    }
   ],
   "source": [
    "# Create a 5x5 matrix with values 1,2,3,4 just below the diagonal\n",
    "\n",
    "Z = np.diag(1+np.arange(4), k=-1) \n",
    "# if above diagonal, then k = 1\n",
    "Z"
   ]
  },
  {
   "cell_type": "code",
   "execution_count": 104,
   "id": "b425e7b4",
   "metadata": {},
   "outputs": [
    {
     "data": {
      "text/plain": [
       "array([[1, 0, 1, 0, 1, 0, 1, 0],\n",
       "       [0, 1, 0, 1, 0, 1, 0, 1],\n",
       "       [1, 0, 1, 0, 1, 0, 1, 0],\n",
       "       [0, 1, 0, 1, 0, 1, 0, 1],\n",
       "       [1, 0, 1, 0, 1, 0, 1, 0],\n",
       "       [0, 1, 0, 1, 0, 1, 0, 1],\n",
       "       [1, 0, 1, 0, 1, 0, 1, 0],\n",
       "       [0, 1, 0, 1, 0, 1, 0, 1]])"
      ]
     },
     "execution_count": 104,
     "metadata": {},
     "output_type": "execute_result"
    }
   ],
   "source": [
    "#  Create a 8x8 matrix and fill it with a checkerboard pattern\n",
    "Z = np.zeros((8,8), dtype=int)\n",
    "Z[::2,::2] = 1\n",
    "Z[1::2, 1::2] = 1\n",
    "# Z[::2, 1::2] = 1\n",
    "Z"
   ]
  },
  {
   "cell_type": "code",
   "execution_count": 105,
   "id": "493cefd3",
   "metadata": {},
   "outputs": [
    {
     "name": "stdout",
     "output_type": "stream",
     "text": [
      "(1, 5, 3)\n"
     ]
    }
   ],
   "source": [
    "# Consider a (6,7,8) shape array, what is the index (x,y,z) of the 100th element?\n",
    "print(np.unravel_index(99,(6,7,8)))"
   ]
  },
  {
   "cell_type": "code",
   "execution_count": 106,
   "id": "87595d53",
   "metadata": {},
   "outputs": [
    {
     "name": "stdout",
     "output_type": "stream",
     "text": [
      "[[0.19179586 0.48045965 0.7092033  0.9452938  0.07912095]\n",
      " [0.63163438 0.67114653 0.36394346 0.87123936 0.517683  ]\n",
      " [0.51229065 0.12319236 0.5448486  0.82086751 0.78558303]\n",
      " [0.58099377 0.21567777 0.05944407 0.78074406 0.15271533]\n",
      " [0.10511776 0.97247179 0.44958664 0.19590998 0.74182604]]\n",
      "[[0.14495922 0.46112026 0.71165335 0.97023311 0.02155125]\n",
      " [0.62669545 0.66997141 0.3335051  0.88912448 0.5018894 ]\n",
      " [0.49598338 0.06982077 0.53164271 0.83395435 0.79530878]\n",
      " [0.57123096 0.17111606 0.         0.79000887 0.10215601]\n",
      " [0.05002444 1.         0.42730639 0.14946525 0.74738363]]\n"
     ]
    }
   ],
   "source": [
    "# Normalize a 5x5 random matrix\n",
    "arr = np.random.random((5,5))\n",
    "print(arr)\n",
    "normalized = (arr - arr.min()) / (arr.max() - arr.min())\n",
    "print(normalized)"
   ]
  },
  {
   "cell_type": "code",
   "execution_count": 107,
   "id": "778935d7",
   "metadata": {},
   "outputs": [
    {
     "name": "stdout",
     "output_type": "stream",
     "text": [
      "[[-1.0740555  -0.06845994  0.72839652  1.55084659 -1.46657229]\n",
      " [ 0.45817572  0.59582112 -0.47435828  1.29286893  0.06121218]\n",
      " [ 0.04242724 -1.31304415  0.15584683  1.11739243  0.99447463]\n",
      " [ 0.28176297 -0.99085992 -1.53511912  0.97761751 -1.21019727]\n",
      " [-1.37600922  1.64552445 -0.17600981 -1.05972343  0.84204183]]\n"
     ]
    }
   ],
   "source": [
    "#  If you want standard score normalization (Z-score):\n",
    "Z_standardized = (arr - np.mean(arr)) / np.std(arr)\n",
    "print(Z_standardized)"
   ]
  },
  {
   "cell_type": "code",
   "execution_count": 108,
   "id": "9e78ac9e",
   "metadata": {},
   "outputs": [],
   "source": [
    "# Create a custom dtype that describes a color as four unsigned bytes (RGBA)\n",
    "color = np.dtype([('r', np.ubyte), ('g', np.ubyte), ('b', np.ubyte), ('a', np.ubyte)])"
   ]
  },
  {
   "cell_type": "code",
   "execution_count": 109,
   "id": "5b995d6a",
   "metadata": {},
   "outputs": [
    {
     "name": "stdout",
     "output_type": "stream",
     "text": [
      "[[1. 1. 1.]\n",
      " [1. 1. 1.]\n",
      " [1. 1. 1.]\n",
      " [1. 1. 1.]\n",
      " [1. 1. 1.]] [[1. 1.]\n",
      " [1. 1.]\n",
      " [1. 1.]]\n"
     ]
    },
    {
     "data": {
      "text/plain": [
       "array([[3., 3.],\n",
       "       [3., 3.],\n",
       "       [3., 3.],\n",
       "       [3., 3.],\n",
       "       [3., 3.]])"
      ]
     },
     "execution_count": 109,
     "metadata": {},
     "output_type": "execute_result"
    }
   ],
   "source": [
    "# Multiply a 5x3 matrix by a 3x2 matrix (real matrix product) \n",
    "mat53 = np.ones((5,3))\n",
    "mat32 = np.ones((3,2))\n",
    "\n",
    "# print(mat53 * mat32) this throws an error cuz of different shape\n",
    "\n",
    "print(mat53,mat32)\n",
    "Z = np.matmul(mat53, mat32) # this works as this is matrix multiplication\n",
    "Z"
   ]
  },
  {
   "cell_type": "code",
   "execution_count": 110,
   "id": "3b4d2bf1",
   "metadata": {},
   "outputs": [
    {
     "data": {
      "text/plain": [
       "array([ 0,  1,  2,  3, -1, -1, -1, -1,  8,  9, 10])"
      ]
     },
     "execution_count": 110,
     "metadata": {},
     "output_type": "execute_result"
    }
   ],
   "source": [
    "#  Given a 1D array, negate all elements which are between 3 and 8, in place.\n",
    "Z = np.arange(11)\n",
    "Z[(Z > 3) & (Z < 8)] = -1\n",
    "Z"
   ]
  },
  {
   "cell_type": "code",
   "execution_count": null,
   "id": "f13e3f45",
   "metadata": {},
   "outputs": [
    {
     "name": "stdout",
     "output_type": "stream",
     "text": [
      "10\n",
      "10\n"
     ]
    }
   ],
   "source": [
    "# Output\n",
    "\n",
    "# sum(range(5), -1)\t9\tBuilt-in sum() with start=-1\n",
    "# from numpy import *\t—\tOverrides sum() with NumPy’s\n",
    "# sum(range(5), -1) (NumPy)\t10\tNumPy sum() uses axis=-1\n",
    "\n",
    "print(sum(range(5),-1))\n",
    "from numpy import *\n",
    "print(sum(range(5),-1))\n"
   ]
  }
 ],
 "metadata": {
  "kernelspec": {
   "display_name": "base",
   "language": "python",
   "name": "python3"
  },
  "language_info": {
   "codemirror_mode": {
    "name": "ipython",
    "version": 3
   },
   "file_extension": ".py",
   "mimetype": "text/x-python",
   "name": "python",
   "nbconvert_exporter": "python",
   "pygments_lexer": "ipython3",
   "version": "3.12.4"
  }
 },
 "nbformat": 4,
 "nbformat_minor": 5
}
