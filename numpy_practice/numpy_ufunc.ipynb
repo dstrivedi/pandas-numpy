{
 "cells": [
  {
   "cell_type": "markdown",
   "metadata": {},
   "source": [
    "# numpy ufunc"
   ]
  },
  {
   "cell_type": "markdown",
   "metadata": {},
   "source": [
    "## frompyfunc(function, input, output)"
   ]
  },
  {
   "cell_type": "code",
   "execution_count": 1,
   "metadata": {},
   "outputs": [
    {
     "name": "stdout",
     "output_type": "stream",
     "text": [
      "[5 7 9]\n"
     ]
    }
   ],
   "source": [
    "import numpy as np\n",
    "\n",
    "def myAdd(x, y):\n",
    "    return x + y\n",
    "\n",
    "myAdd = np.frompyfunc(myAdd, 2, 1)\n",
    "\n",
    "print(myAdd([1, 2, 3], [4, 5, 6]))\n",
    "\n"
   ]
  },
  {
   "cell_type": "code",
   "execution_count": 2,
   "metadata": {},
   "outputs": [
    {
     "name": "stdout",
     "output_type": "stream",
     "text": [
      "<class 'numpy.ufunc'>\n"
     ]
    }
   ],
   "source": [
    "print(type(myAdd))"
   ]
  },
  {
   "cell_type": "code",
   "execution_count": 3,
   "metadata": {},
   "outputs": [
    {
     "name": "stdout",
     "output_type": "stream",
     "text": [
      "<class 'numpy._ArrayFunctionDispatcher'>\n"
     ]
    }
   ],
   "source": [
    "print(type(np.concatenate))"
   ]
  },
  {
   "cell_type": "code",
   "execution_count": 108,
   "metadata": {},
   "outputs": [
    {
     "name": "stdout",
     "output_type": "stream",
     "text": [
      "yes\n"
     ]
    }
   ],
   "source": [
    "print(np.where(type(myAdd) == np.ufunc, \"yes\", \"no\"))"
   ]
  },
  {
   "cell_type": "markdown",
   "metadata": {},
   "source": [
    "## Simple Arithmetic - add(), substract(), multiply(), divide(), power(), divmod(), absolute(), mod(), remainder()"
   ]
  },
  {
   "cell_type": "code",
   "execution_count": 27,
   "metadata": {},
   "outputs": [
    {
     "name": "stdout",
     "output_type": "stream",
     "text": [
      "[5 7 9]\n",
      "[[ 6  8]\n",
      " [10 12]]\n",
      "3\n",
      "[3 4 4]\n",
      "[[ 5  7  9]\n",
      " [ 8 10 12]]\n"
     ]
    }
   ],
   "source": [
    "print(np.add([1, 2, 3], [4, 5, 6]))\n",
    "print(np.add([[1, 2], [3, 4]], [[5, 6], [7, 8]]))\n",
    "print(np.add(1,2))\n",
    "print(np.add([1,2,2],2))\n",
    "# print(np.add([1,2,3], [4,5,6], [7,8,9]))\n",
    "# print(np.add([1,2,3], [4,5,6], [7,8,9], [10,11,12]))\n",
    "print(np.add([1,2,3],[[4,5,6], [7,8,9]]))"
   ]
  },
  {
   "cell_type": "code",
   "execution_count": 20,
   "metadata": {},
   "outputs": [
    {
     "name": "stdout",
     "output_type": "stream",
     "text": [
      "[-3 -3 -3]\n",
      "[[-4 -4]\n",
      " [-4 -4]]\n",
      "-1\n",
      "[-1  0  0]\n",
      "[[-3 -3 -3]\n",
      " [-6 -6 -6]]\n"
     ]
    }
   ],
   "source": [
    "print(np.subtract([1, 2, 3], [4, 5, 6]))\n",
    "print(np.subtract([[1, 2], [3, 4]], [[5, 6], [7, 8]]))\n",
    "print(np.subtract(1,2))\n",
    "print(np.subtract([1,2,2],2))\n",
    "# print(np.subtract([1,2,3], [4,5,6], [7,8,9]))\n",
    "print(np.subtract([1,2,3],[[4,5,6], [7,8,9]]))"
   ]
  },
  {
   "cell_type": "code",
   "execution_count": 21,
   "metadata": {},
   "outputs": [
    {
     "name": "stdout",
     "output_type": "stream",
     "text": [
      "[ 4 10 18]\n",
      "[[ 5 12]\n",
      " [21 32]]\n",
      "2\n",
      "[2 4 4]\n",
      "[[ 4 10 18]\n",
      " [ 7 16 27]]\n"
     ]
    }
   ],
   "source": [
    "print(np.multiply([1, 2, 3], [4, 5, 6]))\n",
    "print(np.multiply([[1, 2], [3, 4]], [[5, 6], [7, 8]]))\n",
    "print(np.multiply(1,2))\n",
    "print(np.multiply([1,2,2],2))\n",
    "# print(np.multiply([1,2,3], [4,5,6], [7,8,9]))\n",
    "print(np.multiply([1,2,3],[[4,5,6], [7,8,9]]))"
   ]
  },
  {
   "cell_type": "code",
   "execution_count": 22,
   "metadata": {},
   "outputs": [
    {
     "name": "stdout",
     "output_type": "stream",
     "text": [
      "[0.25 0.4  0.5 ]\n",
      "[[0.2        0.33333333]\n",
      " [0.42857143 0.5       ]]\n",
      "0.5\n",
      "[0.5 1.  1. ]\n",
      "[[0.25       0.4        0.5       ]\n",
      " [0.14285714 0.25       0.33333333]]\n"
     ]
    }
   ],
   "source": [
    "print(np.divide([1, 2, 3], [4, 5, 6]))\n",
    "print(np.divide([[1, 2], [3, 4]], [[5, 6], [7, 8]]))\n",
    "print(np.divide(1,2))\n",
    "print(np.divide([1,2,2],2))\n",
    "# print(np.divide([1,2,3], [4,5,6], [7,8,9]))\n",
    "print(np.divide([1,2,3],[[4,5,6], [7,8,9]]))"
   ]
  },
  {
   "cell_type": "code",
   "execution_count": 26,
   "metadata": {},
   "outputs": [
    {
     "name": "stdout",
     "output_type": "stream",
     "text": [
      "[  1  32 729]\n",
      "[[    1    64]\n",
      " [ 2187 65536]]\n",
      "1\n",
      "[1 4 4]\n",
      "[[    1    32   729]\n",
      " [    1   256 19683]]\n"
     ]
    }
   ],
   "source": [
    "print(np.power([1, 2, 3], [4, 5, 6]))\n",
    "print(np.power([[1, 2], [3, 4]], [[5, 6], [7, 8]]))\n",
    "print(np.power(1,2))\n",
    "print(np.power([1,2,2],2))\n",
    "# print(np.power([1,2,3],[4,5,6], [7,8,9]))\n",
    "print(np.power([1,2,3],[[4,5,6], [7,8,9]]))    "
   ]
  },
  {
   "cell_type": "code",
   "execution_count": 31,
   "metadata": {},
   "outputs": [
    {
     "name": "stdout",
     "output_type": "stream",
     "text": [
      "[1 2 3]\n",
      "[[1 2]\n",
      " [3 4]]\n",
      "1\n",
      "0\n"
     ]
    }
   ],
   "source": [
    "print(np.mod([1, 2, 3], [4, 5, 6]))\n",
    "print(np.mod([[1, 2], [3, 4]], [[5, 6], [7, 8]]))\n",
    "print(np.mod(1,2))\n",
    "print(np.mod(10,5))"
   ]
  },
  {
   "cell_type": "code",
   "execution_count": 32,
   "metadata": {},
   "outputs": [
    {
     "name": "stdout",
     "output_type": "stream",
     "text": [
      "[1 2 3]\n",
      "[[1 2]\n",
      " [3 4]]\n",
      "1\n",
      "0\n"
     ]
    }
   ],
   "source": [
    "print(np.remainder([1, 2, 3], [4, 5, 6]))\n",
    "print(np.remainder([[1, 2], [3, 4]], [[5, 6], [7, 8]]))\n",
    "print(np.remainder(1,2))\n",
    "print(np.remainder(10,5))"
   ]
  },
  {
   "cell_type": "code",
   "execution_count": 34,
   "metadata": {},
   "outputs": [
    {
     "name": "stdout",
     "output_type": "stream",
     "text": [
      "(array([0, 0, 0]), array([1, 2, 3]))\n",
      "(array([[0, 0],\n",
      "       [0, 0]]), array([[1, 2],\n",
      "       [3, 4]]))\n",
      "(0, 1)\n"
     ]
    }
   ],
   "source": [
    "print(np.divmod([1, 2, 3], [4, 5, 6]))\n",
    "print(np.divmod([[1, 2], [3, 4]], [[5, 6], [7, 8]]))\n",
    "print(np.divmod(1,2))"
   ]
  },
  {
   "cell_type": "code",
   "execution_count": 35,
   "metadata": {},
   "outputs": [
    {
     "name": "stdout",
     "output_type": "stream",
     "text": [
      "[0 0 0]\n",
      "[[0 0]\n",
      " [0 0]]\n"
     ]
    }
   ],
   "source": [
    "print(np.floor_divide([1, 2, 3], [4, 5, 6]))\n",
    "print(np.floor_divide([[1, 2], [3, 4]], [[5, 6], [7, 8]]))"
   ]
  },
  {
   "cell_type": "code",
   "execution_count": 36,
   "metadata": {},
   "outputs": [
    {
     "name": "stdout",
     "output_type": "stream",
     "text": [
      "[0.25 0.4  0.5 ]\n",
      "[[0.2        0.33333333]\n",
      " [0.42857143 0.5       ]]\n"
     ]
    }
   ],
   "source": [
    "print(np.true_divide([1, 2, 3], [4, 5, 6]))\n",
    "print(np.true_divide([[1, 2], [3, 4]], [[5, 6], [7, 8]]))"
   ]
  },
  {
   "cell_type": "code",
   "execution_count": 37,
   "metadata": {},
   "outputs": [
    {
     "name": "stdout",
     "output_type": "stream",
     "text": [
      "[1 2 3]\n",
      "[[1 2]\n",
      " [3 4]]\n",
      "1\n",
      "1\n",
      "5.0\n",
      "5.0\n",
      "5.0\n",
      "5.0\n"
     ]
    }
   ],
   "source": [
    "print(np.absolute([1, 2, 3]))\n",
    "print(np.absolute([[1, 2], [3, 4]]))\n",
    "print(np.absolute(1))\n",
    "print(np.absolute(-1))\n",
    "print(np.absolute(3+4j))\n",
    "print(np.absolute(-3+4j))\n",
    "print(np.absolute(3-4j))\n",
    "print(np.absolute(-3-4j))"
   ]
  },
  {
   "cell_type": "markdown",
   "metadata": {},
   "source": [
    "## Rounding decimals = truc(), fix(), around(), ceil(), floor(),"
   ]
  },
  {
   "cell_type": "code",
   "execution_count": 42,
   "metadata": {},
   "outputs": [
    {
     "name": "stdout",
     "output_type": "stream",
     "text": [
      "[1. 2. 3.]\n",
      "[[1. 2.]\n",
      " [3. 4.]]\n",
      "1.0\n",
      "-1.0\n",
      "1.0\n",
      "2.0\n",
      "2.0\n"
     ]
    }
   ],
   "source": [
    "print(np.trunc([1.5, 2.5, 3.5]))\n",
    "print(np.trunc([[1.5, 2.5], [3.5, 4.5]]))\n",
    "print(np.trunc(1.5))\n",
    "print(np.trunc(-1.5))\n",
    "print(np.trunc(1.9))\n",
    "print(np.trunc(2.1))\n",
    "print(np.trunc(2.9))\n"
   ]
  },
  {
   "cell_type": "code",
   "execution_count": 44,
   "metadata": {},
   "outputs": [
    {
     "name": "stdout",
     "output_type": "stream",
     "text": [
      "[1. 2. 3.]\n",
      "[[1. 2.]\n",
      " [3. 4.]]\n",
      "1.0\n",
      "-1.0\n",
      "1.0\n",
      "2.0\n",
      "2.0\n"
     ]
    }
   ],
   "source": [
    "print(np.fix([1.5, 2.5, 3.5]))\n",
    "print(np.fix([[1.5, 2.5], [3.5, 4.5]]))\n",
    "print(np.fix(1.5))\n",
    "print(np.fix(-1.5))\n",
    "print(np.fix(1.9))\n",
    "print(np.fix(2.1))\n",
    "print(np.fix(2.9))"
   ]
  },
  {
   "cell_type": "code",
   "execution_count": 50,
   "metadata": {},
   "outputs": [
    {
     "name": "stdout",
     "output_type": "stream",
     "text": [
      "[2. 2. 4.]\n",
      "3.0\n",
      "2.29\n",
      "2.953\n"
     ]
    }
   ],
   "source": [
    "print(np.around([1.5, 2.5, 3.5]))\n",
    "print(np.around(2.8))\n",
    "print(np.around(2.29340953, decimals=2))\n",
    "print(np.around(2.9533454, decimals=3))"
   ]
  },
  {
   "cell_type": "code",
   "execution_count": 57,
   "metadata": {},
   "outputs": [
    {
     "name": "stdout",
     "output_type": "stream",
     "text": [
      "[1. 2. 3.]\n",
      "1.0\n",
      "2.0\n",
      "2.0\n",
      "[-4.  3.]\n",
      "[-4.  3.]\n"
     ]
    }
   ],
   "source": [
    "print(np.floor([1.5, 2.5, 3.5]))\n",
    "print(np.floor(1.9))\n",
    "print(np.floor(2.1))\n",
    "print(np.floor(2.9))\n",
    "print(np.floor([-3.1666, 3.6667]))\n",
    "print(np.floor([-3.70, 3.70]))"
   ]
  },
  {
   "cell_type": "code",
   "execution_count": 59,
   "metadata": {},
   "outputs": [
    {
     "name": "stdout",
     "output_type": "stream",
     "text": [
      "[2. 3. 4.]\n",
      "2.0\n",
      "3.0\n",
      "3.0\n",
      "[-3.  4.]\n",
      "[-3.  4.]\n",
      "2.0\n"
     ]
    }
   ],
   "source": [
    "print(np.ceil([1.5, 2.5, 3.5]))\n",
    "print(np.ceil(1.9))\n",
    "print(np.ceil(2.1))\n",
    "print(np.ceil(2.9))\n",
    "print(np.ceil([-3.1666, 3.6667]))\n",
    "print(np.ceil([-3.70, 3.70]))\n",
    "print(np.ceil(1.1))"
   ]
  },
  {
   "cell_type": "markdown",
   "metadata": {},
   "source": [
    "## logs"
   ]
  },
  {
   "cell_type": "code",
   "execution_count": 60,
   "metadata": {},
   "outputs": [
    {
     "name": "stdout",
     "output_type": "stream",
     "text": [
      "[      -inf 0.         1.         1.5849625  2.         2.32192809\n",
      " 2.5849625  2.80735492 3.         3.169925  ]\n"
     ]
    },
    {
     "name": "stderr",
     "output_type": "stream",
     "text": [
      "C:\\Users\\Drashti Trivedi\\AppData\\Local\\Temp\\ipykernel_20188\\1394287963.py:2: RuntimeWarning: divide by zero encountered in log2\n",
      "  print(np.log2(arr))\n"
     ]
    }
   ],
   "source": [
    "arr = np.arange(10)\n",
    "print(np.log2(arr))"
   ]
  },
  {
   "cell_type": "code",
   "execution_count": 61,
   "metadata": {},
   "outputs": [
    {
     "name": "stdout",
     "output_type": "stream",
     "text": [
      "[      -inf 0.         0.30103    0.47712125 0.60205999 0.69897\n",
      " 0.77815125 0.84509804 0.90308999 0.95424251]\n"
     ]
    },
    {
     "name": "stderr",
     "output_type": "stream",
     "text": [
      "C:\\Users\\Drashti Trivedi\\AppData\\Local\\Temp\\ipykernel_20188\\1035277533.py:1: RuntimeWarning: divide by zero encountered in log10\n",
      "  print(np.log10(arr))\n"
     ]
    }
   ],
   "source": [
    "print(np.log10(arr))"
   ]
  },
  {
   "cell_type": "code",
   "execution_count": 62,
   "metadata": {},
   "outputs": [
    {
     "name": "stdout",
     "output_type": "stream",
     "text": [
      "[      -inf 0.         0.69314718 1.09861229 1.38629436 1.60943791\n",
      " 1.79175947 1.94591015 2.07944154 2.19722458]\n"
     ]
    },
    {
     "name": "stderr",
     "output_type": "stream",
     "text": [
      "C:\\Users\\Drashti Trivedi\\AppData\\Local\\Temp\\ipykernel_20188\\873111080.py:1: RuntimeWarning: divide by zero encountered in log\n",
      "  print(np.log(arr))\n"
     ]
    }
   ],
   "source": [
    "print(np.log(arr))"
   ]
  },
  {
   "cell_type": "code",
   "execution_count": 63,
   "metadata": {},
   "outputs": [
    {
     "name": "stdout",
     "output_type": "stream",
     "text": [
      "0.5\n"
     ]
    }
   ],
   "source": [
    "from math import log\n",
    "\n",
    "myLog = np.frompyfunc(log, 2, 1)\n",
    "print(myLog(10, 100))"
   ]
  },
  {
   "cell_type": "markdown",
   "metadata": {},
   "source": [
    "## Sum - add vs sum"
   ]
  },
  {
   "cell_type": "code",
   "execution_count": null,
   "metadata": {},
   "outputs": [
    {
     "name": "stdout",
     "output_type": "stream",
     "text": [
      "6\n",
      "10\n",
      "[4 6]\n",
      "[3 7]\n",
      "[8 7]\n",
      "[5 7 9]\n"
     ]
    }
   ],
   "source": [
    "print(np.sum([1, 2, 3]))\n",
    "print(np.sum([[1, 2], [3, 4]]))\n",
    "print(np.sum([[1, 2], [3, 4]], axis=0)) # [[1+3, 2+4]] - column-wise\n",
    "print(np.sum([[1, 2], [3, 4]], axis=1)) # [[1+2][3+4]] - row-wise\n",
    "print(np.sum([[5, 1, 2], [3,2,2,]], axis=1)) # [[5+1+2], [3+2+2]] - row-wise\n",
    "\n",
    "print(np.add([1, 2, 3], [4, 5, 6]))"
   ]
  },
  {
   "cell_type": "markdown",
   "metadata": {},
   "source": [
    "## Cumulative sum \n",
    "\n",
    "Cummulative sum means partially adding the elements in array.\n",
    "\n",
    "E.g. The partial sum of [1, 2, 3, 4] would be [1, 1+2, 1+2+3, 1+2+3+4] = [1, 3, 6, 10].\n",
    "\n",
    "Perfom partial sum with the cumsum() function."
   ]
  },
  {
   "cell_type": "code",
   "execution_count": null,
   "metadata": {},
   "outputs": [
    {
     "name": "stdout",
     "output_type": "stream",
     "text": [
      "[1 3 6]\n",
      "[ 1  3  6 10]\n",
      "[[1 2]\n",
      " [4 6]]\n",
      "[[1 3]\n",
      " [3 7]]\n",
      "[ 1  3  6 10 15 21 28 36]\n",
      "[[5 6 8]\n",
      " [3 5 7]]\n"
     ]
    }
   ],
   "source": [
    "print(np.cumsum([1, 2, 3]))\n",
    "print(np.cumsum([[1, 2], [3, 4]]))\n",
    "print(np.cumsum([[1, 2], [3, 4]], axis=0)) # [[1, 2] [1+3, 2+4]] - column-wise\n",
    "print(np.cumsum([[1, 2], [3, 4]], axis=1)) # [[1, 1+2][3, 3+4]] - row-wise\n",
    "print(np.cumsum([[[1, 2], [3, 4]], [[5, 6], [7, 8]]])) # flat array with sums\n",
    "print(np.cumsum([[5,1,2], [3,2,2,]], axis=1)) # [[5, 5+1, 5+1+2], [3, 3+2, 3+2+2]] - row-wise"
   ]
  },
  {
   "cell_type": "markdown",
   "metadata": {},
   "source": [
    "## prod"
   ]
  },
  {
   "cell_type": "code",
   "execution_count": 75,
   "metadata": {},
   "outputs": [
    {
     "name": "stdout",
     "output_type": "stream",
     "text": [
      "6\n",
      "24\n",
      "[3 8]\n",
      "[ 2 12]\n",
      "40320\n",
      "[10 12]\n"
     ]
    }
   ],
   "source": [
    "print(np.prod([1, 2, 3]))\n",
    "print(np.prod([[1, 2], [3, 4]]))\n",
    "print(np.prod([[1, 2], [3, 4]], axis=0)) # [[1*3, 2*4]] - column-wise\n",
    "print(np.prod([[1, 2], [3, 4]], axis=1)) # [[1*2][3*4]] - row-wise\n",
    "print(np.prod([[[1, 2], [3, 4]], [[5, 6], [7, 8]]])) # flat array with products\n",
    "print(np.prod([[5,1,2], [3,2,2,]], axis=1)) # [[5*1*2], [3*2*2]] - row-wise"
   ]
  },
  {
   "cell_type": "markdown",
   "metadata": {},
   "source": [
    "## Cumulative product - cumprod"
   ]
  },
  {
   "cell_type": "code",
   "execution_count": 79,
   "metadata": {},
   "outputs": [
    {
     "name": "stdout",
     "output_type": "stream",
     "text": [
      "[1 2 6]\n",
      "[ 1  2  6 24]\n",
      "[[1 2]\n",
      " [3 8]]\n",
      "[[ 1  2]\n",
      " [ 3 12]]\n",
      "[    1     2     6    24   120   720  5040 40320]\n",
      "[[ 5  5 10]\n",
      " [ 3  6 12]]\n"
     ]
    }
   ],
   "source": [
    "print(np.cumprod([1, 2, 3]))\n",
    "print(np.cumprod([[1, 2], [3, 4]]))\n",
    "print(np.cumprod([[1, 2], [3, 4]], axis=0)) # [[1, 2] [1*3, 2*4]] - column-wise\n",
    "print(np.cumprod([[1, 2], [3, 4]], axis=1)) # [[1, 1*2][3, 3*4]] - row-wise\n",
    "print(np.cumprod([[[1, 2], [3, 4]], [[5, 6], [7, 8]]])) # flat array with products\n",
    "print(np.cumprod([[5,1,2], [3,2,2,]], axis=1)) # [[5, 5*1, 5*1*2], [3, 3*2, 3*2*2]] - row-wise"
   ]
  },
  {
   "cell_type": "markdown",
   "metadata": {},
   "source": [
    "## differences"
   ]
  },
  {
   "cell_type": "code",
   "execution_count": 84,
   "metadata": {},
   "outputs": [
    {
     "name": "stdout",
     "output_type": "stream",
     "text": [
      "[1 1]\n",
      "[[1]\n",
      " [1]]\n",
      "[[2 2]]\n",
      "[[1]\n",
      " [1]]\n",
      "[[[1]\n",
      "  [1]]\n",
      "\n",
      " [[1]\n",
      "  [1]]]\n",
      "[[-4  1]\n",
      " [-1  0]]\n",
      "[0 0]\n",
      "[0 0]\n",
      "[0]\n"
     ]
    }
   ],
   "source": [
    "print(np.diff([1, 2, 3]))\n",
    "print(np.diff([[1, 2], [3, 4]]))\n",
    "print(np.diff([[1, 2], [3, 4]], axis=0)) # [[1-3, 2-4]] - column-wise\n",
    "print(np.diff([[1, 2], [3, 4]], axis=1)) # [[1-2][3-4]] - row-wise\n",
    "print(np.diff([[[1, 2], [3, 4]], [[5, 6], [7, 8]]])) \n",
    "print(np.diff([[5,1,2], [3,2,2,]], axis=1)) # [[5-1-2], [3-2-2]] - row-wise\n",
    "print(np.diff([1,2,3,4], n=2))\n",
    "print(np.diff([3,4,5,6], n=2))\n",
    "print(np.diff([10,20,30], n=2))"
   ]
  },
  {
   "cell_type": "markdown",
   "metadata": {},
   "source": [
    "## LCM"
   ]
  },
  {
   "cell_type": "code",
   "execution_count": 90,
   "metadata": {},
   "outputs": [
    {
     "name": "stdout",
     "output_type": "stream",
     "text": [
      "[ 4 10  6]\n",
      "[[ 5  6]\n",
      " [21  8]]\n",
      "2\n",
      "10\n",
      "18\n"
     ]
    }
   ],
   "source": [
    "print(np.lcm([1, 2, 3], [4, 5, 6]))\n",
    "print(np.lcm([[1, 2], [3, 4]], [[5, 6], [7, 8]]))\n",
    "print(np.lcm(1,2))\n",
    "print(np.lcm(10,5))\n",
    "print(np.lcm.reduce([3,6,9]))"
   ]
  },
  {
   "cell_type": "markdown",
   "metadata": {},
   "source": [
    "## GCD\n"
   ]
  },
  {
   "cell_type": "code",
   "execution_count": 94,
   "metadata": {},
   "outputs": [
    {
     "name": "stdout",
     "output_type": "stream",
     "text": [
      "10\n",
      "10\n"
     ]
    }
   ],
   "source": [
    "print(np.gcd(10,190))\n",
    "print(np.gcd.reduce([10,190,30]))\n"
   ]
  },
  {
   "cell_type": "markdown",
   "metadata": {},
   "source": [
    "## Set operations"
   ]
  },
  {
   "cell_type": "code",
   "execution_count": 96,
   "metadata": {},
   "outputs": [
    {
     "name": "stdout",
     "output_type": "stream",
     "text": [
      "[1 2 3 4 5]\n",
      "(array([1, 2, 3, 4, 5]), array([3, 2, 2, 2, 1], dtype=int64))\n"
     ]
    }
   ],
   "source": [
    "print(np.unique([1,1,1,2,3,4,2,3,4,5]))\n",
    "print(np.unique([1,1,1,2,3,4,2,3,4,5], return_counts=True))\n"
   ]
  },
  {
   "cell_type": "code",
   "execution_count": 102,
   "metadata": {},
   "outputs": [
    {
     "name": "stdout",
     "output_type": "stream",
     "text": [
      "[1 2 3 4 5 6]\n",
      "[]\n",
      "[1 2 3 4 5 6]\n",
      "[2 3 4 5]\n",
      "[2 3 4 5]\n"
     ]
    }
   ],
   "source": [
    "print(np.union1d([1,2,3], [4,5,6]))\n",
    "print(np.intersect1d([1,2,3], [4,5,6]))\n",
    "print(np.union1d([1,2,3,4,5], [2,3,4,5,6]))\n",
    "print(np.intersect1d([1,2,3,4,5], [2,3,4,5,6]))\n",
    "print(np.intersect1d([1,2,3,4,5], [2,3,4,5,6], assume_unique=True))"
   ]
  },
  {
   "cell_type": "markdown",
   "metadata": {},
   "source": [
    "## setdiff1d - To find only the values in the first set that is NOT present in the seconds set\n",
    "\n",
    "## setxor1d - To find only the values that are NOT present in BOTH sets"
   ]
  },
  {
   "cell_type": "code",
   "execution_count": 104,
   "metadata": {},
   "outputs": [
    {
     "name": "stdout",
     "output_type": "stream",
     "text": [
      "[1]\n",
      "[1 6]\n"
     ]
    }
   ],
   "source": [
    "print(np.setdiff1d([1,2,3,4,5], [2,3,4,5,6], assume_unique=True))\n",
    "print(np.setxor1d([1,2,3,4,5], [2,3,4,5,6], assume_unique=True))"
   ]
  },
  {
   "cell_type": "markdown",
   "metadata": {},
   "source": [
    "## mean, median and standard deviation"
   ]
  },
  {
   "cell_type": "code",
   "execution_count": 107,
   "metadata": {},
   "outputs": [
    {
     "name": "stdout",
     "output_type": "stream",
     "text": [
      "3.0\n",
      "1.4142135623730951\n",
      "3.0\n",
      "3.0\n"
     ]
    }
   ],
   "source": [
    "arr = np.array([1,2,3,4,5])\n",
    "\n",
    "print(arr.mean())\n",
    "print(arr.std())\n",
    "print(np.median(arr))\n",
    "print(np.percentile(arr, 50))\n"
   ]
  },
  {
   "cell_type": "markdown",
   "metadata": {},
   "source": [
    "## Mean Squared Error"
   ]
  },
  {
   "cell_type": "code",
   "execution_count": null,
   "metadata": {},
   "outputs": [],
   "source": [
    "# 1. We have two arrays, our prediction, and actual labels\n",
    "# 2. We take the squared differences and sum them\n",
    "# 3. We then divide by n, which is the length of the array\n",
    "\n",
    "n= len(labels)\n",
    "error = (1/n) * np.sum(np.square(predictions - labels))"
   ]
  },
  {
   "cell_type": "markdown",
   "metadata": {},
   "source": [
    "## arr[:,0] vs arr[:,[0]] "
   ]
  },
  {
   "cell_type": "code",
   "execution_count": 110,
   "metadata": {},
   "outputs": [
    {
     "name": "stdout",
     "output_type": "stream",
     "text": [
      "[1 6]\n"
     ]
    }
   ],
   "source": [
    "arr = np.array([[1,2,3,4,5], [6,7,8,9,10]])\n",
    "new_arr = arr[:,0]\n",
    "print(new_arr)"
   ]
  },
  {
   "cell_type": "code",
   "execution_count": 111,
   "metadata": {},
   "outputs": [
    {
     "name": "stdout",
     "output_type": "stream",
     "text": [
      "[1 2 3 4 5]\n"
     ]
    }
   ],
   "source": [
    "new_arr1 = arr[0,:]\n",
    "print(new_arr1)"
   ]
  },
  {
   "cell_type": "code",
   "execution_count": 112,
   "metadata": {},
   "outputs": [
    {
     "name": "stdout",
     "output_type": "stream",
     "text": [
      "[[1]\n",
      " [6]]\n"
     ]
    }
   ],
   "source": [
    "new_arr2 = arr[:,[0]]\n",
    "print(new_arr2)"
   ]
  },
  {
   "cell_type": "markdown",
   "metadata": {},
   "source": [
    "## bincount()"
   ]
  },
  {
   "cell_type": "code",
   "execution_count": null,
   "metadata": {},
   "outputs": [
    {
     "name": "stdout",
     "output_type": "stream",
     "text": [
      "[2 3 1 1 1 1]\n"
     ]
    }
   ],
   "source": [
    "print(np.bincount([1,1,2,3,4,5,1,0,0])) # 0 -> 2, 1 -> 3, 2 -> 1, 3 -> 1, 4 -> 1, 5 -> 1"
   ]
  },
  {
   "cell_type": "markdown",
   "metadata": {},
   "source": [
    "## mean() vs average()"
   ]
  },
  {
   "cell_type": "code",
   "execution_count": null,
   "metadata": {},
   "outputs": [
    {
     "name": "stdout",
     "output_type": "stream",
     "text": [
      "3.0\n",
      "3.0\n"
     ]
    }
   ],
   "source": [
    "print(np.mean([1,2,3,4,5]))\n",
    "print(np.average([1,2,3,4,5]))\n"
   ]
  }
 ],
 "metadata": {
  "kernelspec": {
   "display_name": "base",
   "language": "python",
   "name": "python3"
  },
  "language_info": {
   "codemirror_mode": {
    "name": "ipython",
    "version": 3
   },
   "file_extension": ".py",
   "mimetype": "text/x-python",
   "name": "python",
   "nbconvert_exporter": "python",
   "pygments_lexer": "ipython3",
   "version": "3.12.4"
  }
 },
 "nbformat": 4,
 "nbformat_minor": 2
}
