{
 "cells": [
  {
   "cell_type": "code",
   "execution_count": 9,
   "metadata": {},
   "outputs": [
    {
     "data": {
      "text/plain": [
       "array([ 1,  5,  6, 20])"
      ]
     },
     "execution_count": 9,
     "metadata": {},
     "output_type": "execute_result"
    }
   ],
   "source": [
    "import numpy as np;\n",
    "\n",
    "arr_int = [1,5,6,20]\n",
    "arr_int = np.array(arr_int)\n",
    "arr_int"
   ]
  },
  {
   "cell_type": "code",
   "execution_count": 14,
   "metadata": {},
   "outputs": [
    {
     "name": "stdout",
     "output_type": "stream",
     "text": [
      "1\n",
      "(4,)\n",
      "4\n",
      "int32\n",
      "<class 'numpy.ndarray'>\n",
      "[1, 5, 6, 20]\n"
     ]
    }
   ],
   "source": [
    "# number of dimensions\n",
    "print(arr_int.ndim)\n",
    "\n",
    "# shape\n",
    "print(arr_int.shape)\n",
    "\n",
    "# size\n",
    "print(arr_int.size)\n",
    "\n",
    "# dtype\n",
    "print(arr_int.dtype)\n",
    "\n",
    "# type\n",
    "print(type(arr_int))\n",
    "\n",
    "# type conversion\n",
    "print(arr_int.tolist())"
   ]
  },
  {
   "cell_type": "code",
   "execution_count": 20,
   "metadata": {},
   "outputs": [
    {
     "name": "stdout",
     "output_type": "stream",
     "text": [
      "[[1. 2. 3.]\n",
      " [4. 5. 6.]\n",
      " [7. 8. 9.]]\n",
      "float64\n",
      "(3, 3)\n",
      "2\n",
      "9\n"
     ]
    }
   ],
   "source": [
    "arr_mix = np.array([[1, 2, 3.0], [4, 5, 6], (7, 8, 9)])\n",
    "print(arr_mix)\n",
    "\n",
    "# dtype\n",
    "print(arr_mix.dtype)\n",
    "\n",
    "# shape\n",
    "print(arr_mix.shape)\n",
    "\n",
    "# dimensions\n",
    "print(arr_mix.ndim) \n",
    "\n",
    "# size  \n",
    "print(arr_mix.size)"
   ]
  },
  {
   "cell_type": "code",
   "execution_count": 30,
   "metadata": {},
   "outputs": [
    {
     "data": {
      "text/plain": [
       "array(['a', 'b', '1'], dtype='<U11')"
      ]
     },
     "execution_count": 30,
     "metadata": {},
     "output_type": "execute_result"
    }
   ],
   "source": [
    "arr_str = np.array([\"a\", \"b\", 1])\n",
    "arr_str"
   ]
  },
  {
   "cell_type": "markdown",
   "metadata": {},
   "source": [
    "### Creating NumPy array using arange(), linspace() and random() functions"
   ]
  },
  {
   "cell_type": "code",
   "execution_count": 24,
   "metadata": {},
   "outputs": [
    {
     "data": {
      "text/plain": [
       "array([0, 1, 2, 3, 4, 5, 6, 7, 8, 9])"
      ]
     },
     "execution_count": 24,
     "metadata": {},
     "output_type": "execute_result"
    }
   ],
   "source": [
    "# 10 is exclusive \n",
    "np.arange(10)"
   ]
  },
  {
   "cell_type": "code",
   "execution_count": 25,
   "metadata": {},
   "outputs": [
    {
     "data": {
      "text/plain": [
       "array([2., 3., 4., 5., 6., 7., 8., 9.])"
      ]
     },
     "execution_count": 25,
     "metadata": {},
     "output_type": "execute_result"
    }
   ],
   "source": [
    "# end is exclusive\n",
    "np.arange(2, 10, dtype=float)"
   ]
  },
  {
   "cell_type": "code",
   "execution_count": 35,
   "metadata": {},
   "outputs": [
    {
     "data": {
      "text/plain": [
       "array([ 0,  1,  3,  5,  6,  8, 10])"
      ]
     },
     "execution_count": 35,
     "metadata": {},
     "output_type": "execute_result"
    }
   ],
   "source": [
    "np.linspace(0, 10, 7, dtype=int)"
   ]
  },
  {
   "cell_type": "code",
   "execution_count": 36,
   "metadata": {},
   "outputs": [
    {
     "data": {
      "text/plain": [
       "array([0, 1, 2, 4, 5, 7, 8])"
      ]
     },
     "execution_count": 36,
     "metadata": {},
     "output_type": "execute_result"
    }
   ],
   "source": [
    "# if endpoint is not included, use endpoint=false\n",
    "np.linspace(0, 10, 7, dtype=int, endpoint=False)"
   ]
  },
  {
   "cell_type": "code",
   "execution_count": 40,
   "metadata": {},
   "outputs": [
    {
     "data": {
      "text/plain": [
       "array([0.95280614, 0.05910838, 0.22239914, 0.81015528, 0.97842231,\n",
       "       0.55869732, 0.4802614 , 0.84027585, 0.61369245, 0.29264213])"
      ]
     },
     "execution_count": 40,
     "metadata": {},
     "output_type": "execute_result"
    }
   ],
   "source": [
    "# 1-dim array\n",
    "np.random.rand(10)"
   ]
  },
  {
   "cell_type": "code",
   "execution_count": 41,
   "metadata": {},
   "outputs": [
    {
     "data": {
      "text/plain": [
       "array([[0.31514847, 0.49437097, 0.61009149],\n",
       "       [0.88641371, 0.66861522, 0.49693125],\n",
       "       [0.98878792, 0.04951731, 0.89137842]])"
      ]
     },
     "execution_count": 41,
     "metadata": {},
     "output_type": "execute_result"
    }
   ],
   "source": [
    "# 2-dim array\n",
    "np.random.rand(3, 3)"
   ]
  },
  {
   "cell_type": "code",
   "execution_count": 53,
   "metadata": {},
   "outputs": [
    {
     "data": {
      "text/plain": [
       "array([9.59174778e-01, 9.54764151e-01, 5.09261086e-01, 5.46802286e-04,\n",
       "       5.92726183e-01, 4.56799640e-01, 1.28504607e-02, 7.66660325e-01,\n",
       "       6.35140482e-01, 9.33073457e-01])"
      ]
     },
     "execution_count": 53,
     "metadata": {},
     "output_type": "execute_result"
    }
   ],
   "source": [
    "# generate random float 0 to 1\n",
    "np.random.rand()"
   ]
  },
  {
   "cell_type": "code",
   "execution_count": 54,
   "metadata": {},
   "outputs": [
    {
     "data": {
      "text/plain": [
       "1"
      ]
     },
     "execution_count": 54,
     "metadata": {},
     "output_type": "execute_result"
    }
   ],
   "source": [
    "# generate random integer 0 to 9\n",
    "np.random.randint(10)"
   ]
  },
  {
   "cell_type": "code",
   "execution_count": 47,
   "metadata": {},
   "outputs": [
    {
     "data": {
      "text/plain": [
       "array([1, 5, 6, 0])"
      ]
     },
     "execution_count": 47,
     "metadata": {},
     "output_type": "execute_result"
    }
   ],
   "source": [
    "# generate 1-dim array of 4 random integers\n",
    "np.random.randint(10, size=4)"
   ]
  },
  {
   "cell_type": "code",
   "execution_count": 55,
   "metadata": {},
   "outputs": [
    {
     "data": {
      "text/plain": [
       "array([[3, 8, 4],\n",
       "       [8, 4, 3],\n",
       "       [0, 7, 3]])"
      ]
     },
     "execution_count": 55,
     "metadata": {},
     "output_type": "execute_result"
    }
   ],
   "source": [
    "# generate 2-dim array of 3 x 3 random integers\n",
    "np.random.randint(10, size=(3, 3))"
   ]
  },
  {
   "cell_type": "markdown",
   "metadata": {},
   "source": [
    "### Creating NumPy arrays of 1s and 0s"
   ]
  },
  {
   "cell_type": "code",
   "execution_count": 62,
   "metadata": {},
   "outputs": [
    {
     "data": {
      "text/plain": [
       "array([[0],\n",
       "       [0],\n",
       "       [0],\n",
       "       [0]])"
      ]
     },
     "execution_count": 62,
     "metadata": {},
     "output_type": "execute_result"
    }
   ],
   "source": [
    "arr_zeros = np.zeros((4,1), dtype=int)\n",
    "arr_zeros"
   ]
  },
  {
   "cell_type": "code",
   "execution_count": 63,
   "metadata": {},
   "outputs": [
    {
     "data": {
      "text/plain": [
       "(4, 1)"
      ]
     },
     "execution_count": 63,
     "metadata": {},
     "output_type": "execute_result"
    }
   ],
   "source": [
    "# shape\n",
    "arr_zeros.shape"
   ]
  },
  {
   "cell_type": "code",
   "execution_count": 74,
   "metadata": {},
   "outputs": [
    {
     "data": {
      "text/plain": [
       "array([[[1, 1],\n",
       "        [1, 1]],\n",
       "\n",
       "       [[1, 1],\n",
       "        [1, 1]]])"
      ]
     },
     "execution_count": 74,
     "metadata": {},
     "output_type": "execute_result"
    }
   ],
   "source": [
    "arr_3dim = np.ones((2, 2, 2), dtype=int)\n",
    "arr_3dim"
   ]
  },
  {
   "cell_type": "code",
   "execution_count": 83,
   "metadata": {},
   "outputs": [
    {
     "data": {
      "text/plain": [
       "array([ 1.,  5.,  6., 20.])"
      ]
     },
     "execution_count": 83,
     "metadata": {},
     "output_type": "execute_result"
    }
   ],
   "source": [
    "# type casting using astype\n",
    "arr_int = arr_int.astype(np.float64)\n",
    "arr_int"
   ]
  },
  {
   "cell_type": "markdown",
   "metadata": {},
   "source": [
    "### Operations with numpy array\n"
   ]
  },
  {
   "cell_type": "code",
   "execution_count": 85,
   "metadata": {},
   "outputs": [
    {
     "data": {
      "text/plain": [
       "array([0, 1, 2, 3, 4, 5, 6, 7, 8, 9])"
      ]
     },
     "execution_count": 85,
     "metadata": {},
     "output_type": "execute_result"
    }
   ],
   "source": [
    "arr_int = np.array(np.arange(0,10))\n",
    "arr_int"
   ]
  },
  {
   "cell_type": "code",
   "execution_count": 86,
   "metadata": {},
   "outputs": [
    {
     "data": {
      "text/plain": [
       "array([ 0,  2,  4,  6,  8, 10, 12, 14, 16, 18])"
      ]
     },
     "execution_count": 86,
     "metadata": {},
     "output_type": "execute_result"
    }
   ],
   "source": [
    "# multiply by 2\n",
    "arr_int * 2"
   ]
  },
  {
   "cell_type": "code",
   "execution_count": 87,
   "metadata": {},
   "outputs": [
    {
     "data": {
      "text/plain": [
       "array([ 3,  4,  5,  6,  7,  8,  9, 10, 11, 12])"
      ]
     },
     "execution_count": 87,
     "metadata": {},
     "output_type": "execute_result"
    }
   ],
   "source": [
    "# add by 3\n",
    "arr_int + 3"
   ]
  },
  {
   "cell_type": "code",
   "execution_count": 88,
   "metadata": {},
   "outputs": [
    {
     "data": {
      "text/plain": [
       "array([ 0,  1,  4,  9, 16, 25, 36, 49, 64, 81])"
      ]
     },
     "execution_count": 88,
     "metadata": {},
     "output_type": "execute_result"
    }
   ],
   "source": [
    "# power by 2\n",
    "arr_int ** 2"
   ]
  },
  {
   "cell_type": "markdown",
   "metadata": {},
   "source": [
    "### Arithmetic operations with numpy arrays"
   ]
  },
  {
   "cell_type": "code",
   "execution_count": 90,
   "metadata": {},
   "outputs": [
    {
     "name": "stdout",
     "output_type": "stream",
     "text": [
      "[[ 5  4  6  1]\n",
      " [ 2  3  8 10]]\n",
      "[[ 10  12   5  17]\n",
      " [ 22  33  88 100]]\n"
     ]
    }
   ],
   "source": [
    "array1 = np.array([[5, 4, 6, 1], [2, 3, 8, 10]])\n",
    "array2 = np.array([[10, 12, 5, 17], [22, 33, 88, 100]])\n",
    "print(array1)\n",
    "print(array2)"
   ]
  },
  {
   "cell_type": "code",
   "execution_count": 93,
   "metadata": {},
   "outputs": [
    {
     "name": "stdout",
     "output_type": "stream",
     "text": [
      "[[ 15  16  11  18]\n",
      " [ 24  36  96 110]]\n",
      "[[ -5  -8   1 -16]\n",
      " [-20 -30 -80 -90]]\n",
      "[[  50   48   30   17]\n",
      " [  44   99  704 1000]]\n",
      "[[0.5        0.33333333 1.2        0.05882353]\n",
      " [0.09090909 0.09090909 0.09090909 0.1       ]]\n",
      "[[0 0 1 0]\n",
      " [0 0 0 0]]\n",
      "[[ 5  4  1  1]\n",
      " [ 2  3  8 10]]\n",
      "[[    9765625    16777216        7776           1]\n",
      " [    4194304 -1504003197           0           0]]\n"
     ]
    }
   ],
   "source": [
    "print(array1 + array2)\n",
    "print(array1 - array2)\n",
    "print(array1 * array2)\n",
    "print(array1 / array2)\n",
    "print(array1 // array2)\n",
    "print(array1 % array2)\n",
    "print(array1 ** array2)"
   ]
  },
  {
   "cell_type": "code",
   "execution_count": 94,
   "metadata": {},
   "outputs": [
    {
     "name": "stdout",
     "output_type": "stream",
     "text": [
      "[[ 15  16  11  18]\n",
      " [ 24  36  96 110]]\n",
      "[[ -5  -8   1 -16]\n",
      " [-20 -30 -80 -90]]\n",
      "[[  50   48   30   17]\n",
      " [  44   99  704 1000]]\n",
      "[[0.5        0.33333333 1.2        0.05882353]\n",
      " [0.09090909 0.09090909 0.09090909 0.1       ]]\n",
      "[[0 0 1 0]\n",
      " [0 0 0 0]]\n",
      "[[ 5  4  1  1]\n",
      " [ 2  3  8 10]]\n",
      "[[    9765625    16777216        7776           1]\n",
      " [    4194304 -1504003197           0           0]]\n"
     ]
    }
   ],
   "source": [
    "print(np.add(array1, array2))\n",
    "print(np.subtract(array1, array2))\n",
    "print(np.multiply(array1, array2))\n",
    "print(np.divide(array1, array2))\n",
    "print(np.floor_divide(array1, array2))\n",
    "print(np.mod(array1, array2))\n",
    "print(np.power(array1, array2))"
   ]
  },
  {
   "cell_type": "code",
   "execution_count": 105,
   "metadata": {},
   "outputs": [
    {
     "ename": "ValueError",
     "evalue": "operands could not be broadcast together with shapes (2,2) (3,) ",
     "output_type": "error",
     "traceback": [
      "\u001b[1;31m---------------------------------------------------------------------------\u001b[0m",
      "\u001b[1;31mValueError\u001b[0m                                Traceback (most recent call last)",
      "Cell \u001b[1;32mIn[105], line 3\u001b[0m\n\u001b[0;32m      1\u001b[0m array4 \u001b[38;5;241m=\u001b[39m np\u001b[38;5;241m.\u001b[39marray([\u001b[38;5;241m2\u001b[39m,\u001b[38;5;241m3\u001b[39m,\u001b[38;5;241m4\u001b[39m])\n\u001b[0;32m      2\u001b[0m array5 \u001b[38;5;241m=\u001b[39m np\u001b[38;5;241m.\u001b[39marray([[\u001b[38;5;241m1\u001b[39m,\u001b[38;5;241m3\u001b[39m],[\u001b[38;5;241m2\u001b[39m,\u001b[38;5;241m3\u001b[39m]])\n\u001b[1;32m----> 3\u001b[0m result \u001b[38;5;241m=\u001b[39m array5 \u001b[38;5;241m+\u001b[39m array4\n\u001b[0;32m      4\u001b[0m result\n",
      "\u001b[1;31mValueError\u001b[0m: operands could not be broadcast together with shapes (2,2) (3,) "
     ]
    }
   ],
   "source": [
    "array4 = np.array([2,3,4])\n",
    "array5 = np.array([[1,3],[2,3]])\n",
    "result = array5 + array4\n",
    "result"
   ]
  },
  {
   "cell_type": "code",
   "execution_count": 137,
   "metadata": {},
   "outputs": [
    {
     "name": "stdout",
     "output_type": "stream",
     "text": [
      "[[1. 1.]\n",
      " [1. 1.]] [2. 2. 2.]\n"
     ]
    },
    {
     "ename": "ValueError",
     "evalue": "operands could not be broadcast together with shapes (2,2) (3,) ",
     "output_type": "error",
     "traceback": [
      "\u001b[1;31m---------------------------------------------------------------------------\u001b[0m",
      "\u001b[1;31mValueError\u001b[0m                                Traceback (most recent call last)",
      "Cell \u001b[1;32mIn[137], line 4\u001b[0m\n\u001b[0;32m      2\u001b[0m y \u001b[38;5;241m=\u001b[39m np\u001b[38;5;241m.\u001b[39mzeros((\u001b[38;5;241m3\u001b[39m)) \u001b[38;5;241m+\u001b[39m \u001b[38;5;241m2\u001b[39m\n\u001b[0;32m      3\u001b[0m \u001b[38;5;28mprint\u001b[39m(x , y)\n\u001b[1;32m----> 4\u001b[0m x \u001b[38;5;241m+\u001b[39m y\n",
      "\u001b[1;31mValueError\u001b[0m: operands could not be broadcast together with shapes (2,2) (3,) "
     ]
    }
   ],
   "source": [
    "x = np.ones((2, 2))\n",
    "y = np.zeros((3)) + 2\n",
    "print(x , y)\n",
    "x + y"
   ]
  },
  {
   "cell_type": "code",
   "execution_count": 141,
   "metadata": {},
   "outputs": [
    {
     "data": {
      "text/plain": [
       "array([[ True, False,  True, False],\n",
       "       [False,  True, False,  True]])"
      ]
     },
     "execution_count": 141,
     "metadata": {},
     "output_type": "execute_result"
    }
   ],
   "source": [
    "array1 = np.array([[5, 4, 6, 1], [2, 3, 8, 10]])\n",
    "array2 = np.array([[0., 4., 1., 12.], [7., 2., 35, 4]])\n",
    "array1 > array2"
   ]
  },
  {
   "cell_type": "code",
   "execution_count": 149,
   "metadata": {},
   "outputs": [
    {
     "data": {
      "text/plain": [
       "array([[7.]])"
      ]
     },
     "execution_count": 149,
     "metadata": {},
     "output_type": "execute_result"
    }
   ],
   "source": [
    "array2[1:,:1]"
   ]
  },
  {
   "cell_type": "code",
   "execution_count": 152,
   "metadata": {},
   "outputs": [
    {
     "data": {
      "text/plain": [
       "array([1, 2, 3, 4])"
      ]
     },
     "execution_count": 152,
     "metadata": {},
     "output_type": "execute_result"
    }
   ],
   "source": [
    "array3 = np.array([1, 2, 3, 4, 5, 6, 7, 8, 9])\n",
    "array3[:4]"
   ]
  }
 ],
 "metadata": {
  "kernelspec": {
   "display_name": "base",
   "language": "python",
   "name": "python3"
  },
  "language_info": {
   "codemirror_mode": {
    "name": "ipython",
    "version": 3
   },
   "file_extension": ".py",
   "mimetype": "text/x-python",
   "name": "python",
   "nbconvert_exporter": "python",
   "pygments_lexer": "ipython3",
   "version": "3.12.4"
  }
 },
 "nbformat": 4,
 "nbformat_minor": 2
}
