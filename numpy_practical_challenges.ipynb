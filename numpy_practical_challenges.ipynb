{
 "cells": [
  {
   "cell_type": "code",
   "execution_count": 1,
   "id": "eeb22d5e",
   "metadata": {},
   "outputs": [
    {
     "name": "stdout",
     "output_type": "stream",
     "text": [
      "1. Basics:\n",
      "[[7. 7. 7. 7. 7.]\n",
      " [7. 0. 0. 0. 7.]\n",
      " [7. 0. 0. 0. 7.]\n",
      " [7. 0. 0. 0. 7.]\n",
      " [7. 7. 7. 7. 7.]]\n",
      "2. Indexing and Slicing - Original:\n",
      "[[ 1  2  3  4  5]\n",
      " [ 6  7  8  9 10]\n",
      " [11 12 13 14 15]\n",
      " [16 17 18 19 20]]\n",
      "Even numbers:\n",
      "[ 2  4  6  8 10 12 14 16 18 20]\n",
      "Modified:\n",
      "[[ 1  2 -1  4  5]\n",
      " [-1  7  8 -1 10]\n",
      " [11 -1 13 14 -1]\n",
      " [16 17 -1 19 20]]\n",
      "3. Array Manipulation - Diagonal: [ 0 11 22 33 44 55 66 77 88 99]\n",
      "Anti-diagonal: [ 9 18 27 36 45 54 63 72 81 90]\n",
      "4. Stacking and Splitting - Vertical:\n",
      "[[1. 1. 1.]\n",
      " [1. 1. 1.]\n",
      " [0. 0. 0.]\n",
      " [0. 0. 0.]]\n",
      "Horizontal:\n",
      "[[1. 1. 1. 0. 0. 0.]\n",
      " [1. 1. 1. 0. 0. 0.]]\n",
      "Split Result:\n",
      "[array([[1., 1., 1.],\n",
      "       [1., 1., 1.]]), array([[0., 0., 0.],\n",
      "       [0., 0., 0.]])]\n",
      "5. Mathematical Operations - Student Averages: [80.         73.33333333 91.66666667]\n",
      "Subject Averages: [78.33333333 87.66666667 79.        ]\n",
      "6. Broadcasting - Normalized:\n",
      "[[-1.  0.  1.]\n",
      " [-1.  0.  1.]]\n",
      "7. Random Number Generation - Heads count: 510\n",
      "8. Set Operations - Common: [4 5]\n",
      "Unique to a: [1 2 3]\n",
      "Union: [1 2 3 4 5 6 7]\n",
      "9. Linear Algebra - Solution: [1. 2.]\n",
      "10. Missing Data:\n",
      "[[1.  2.  7.5]\n",
      " [4.  5.  6. ]\n",
      " [7.  8.  9. ]]\n",
      "11. Advanced Indexing - Array:\n",
      "[[62 16 72 32 83]\n",
      " [76 91 28 12 45]\n",
      " [34  5 81 68 46]\n",
      " [24 65  9 55 29]\n",
      " [ 4 32 64 17 95]]\n",
      "Min Value: 4 at (4, 0)\n",
      "Max Value: 95 at (4, 4)\n",
      "12. Sorting and Searching:\n",
      "[[7 2]\n",
      " [1 3]\n",
      " [5 9]]\n",
      "13. Custom Functions + Vectorization:\n",
      "['Negative' 'Zero' 'Positive' 'Positive' 'Negative']\n",
      "14. Performance - Loop: 500135 Time: 0.12369489669799805\n",
      "Vectorized: 500135 Time: 0.0\n"
     ]
    },
    {
     "ename": "FileNotFoundError",
     "evalue": "[Errno 2] No such file or directory: 'C:\\\\Users\\\\Drashti Trivedi\\\\Documents\\\\Data Science\\\\your_image.jpg'",
     "output_type": "error",
     "traceback": [
      "\u001b[1;31m---------------------------------------------------------------------------\u001b[0m",
      "\u001b[1;31mFileNotFoundError\u001b[0m                         Traceback (most recent call last)",
      "Cell \u001b[1;32mIn[1], line 154\u001b[0m\n\u001b[0;32m    150\u001b[0m \u001b[38;5;28mprint\u001b[39m(\u001b[38;5;124m'\u001b[39m\u001b[38;5;124mVectorized:\u001b[39m\u001b[38;5;124m'\u001b[39m, count_vec, \u001b[38;5;124m'\u001b[39m\u001b[38;5;124mTime:\u001b[39m\u001b[38;5;124m'\u001b[39m, end \u001b[38;5;241m-\u001b[39m start)\n\u001b[0;32m    152\u001b[0m \u001b[38;5;66;03m# Bonus Mini-Project (Image Grayscale)\u001b[39;00m\n\u001b[0;32m    153\u001b[0m \u001b[38;5;66;03m# You will need to replace 'your_image.jpg' with an actual image file path\u001b[39;00m\n\u001b[1;32m--> 154\u001b[0m img \u001b[38;5;241m=\u001b[39m Image\u001b[38;5;241m.\u001b[39mopen(\u001b[38;5;124m'\u001b[39m\u001b[38;5;124myour_image.jpg\u001b[39m\u001b[38;5;124m'\u001b[39m)\n\u001b[0;32m    155\u001b[0m img_np \u001b[38;5;241m=\u001b[39m np\u001b[38;5;241m.\u001b[39marray(img)\n\u001b[0;32m    157\u001b[0m \u001b[38;5;66;03m# Convert to grayscale\u001b[39;00m\n",
      "File \u001b[1;32mc:\\Anaconda\\Lib\\site-packages\\PIL\\Image.py:3277\u001b[0m, in \u001b[0;36mopen\u001b[1;34m(fp, mode, formats)\u001b[0m\n\u001b[0;32m   3274\u001b[0m     filename \u001b[38;5;241m=\u001b[39m os\u001b[38;5;241m.\u001b[39mpath\u001b[38;5;241m.\u001b[39mrealpath(os\u001b[38;5;241m.\u001b[39mfspath(fp))\n\u001b[0;32m   3276\u001b[0m \u001b[38;5;28;01mif\u001b[39;00m filename:\n\u001b[1;32m-> 3277\u001b[0m     fp \u001b[38;5;241m=\u001b[39m builtins\u001b[38;5;241m.\u001b[39mopen(filename, \u001b[38;5;124m\"\u001b[39m\u001b[38;5;124mrb\u001b[39m\u001b[38;5;124m\"\u001b[39m)\n\u001b[0;32m   3278\u001b[0m     exclusive_fp \u001b[38;5;241m=\u001b[39m \u001b[38;5;28;01mTrue\u001b[39;00m\n\u001b[0;32m   3280\u001b[0m \u001b[38;5;28;01mtry\u001b[39;00m:\n",
      "\u001b[1;31mFileNotFoundError\u001b[0m: [Errno 2] No such file or directory: 'C:\\\\Users\\\\Drashti Trivedi\\\\Documents\\\\Data Science\\\\your_image.jpg'"
     ]
    }
   ],
   "source": [
    "import numpy as np\n",
    "import time\n",
    "from PIL import Image\n",
    "\n",
    "# 1. Basics: Arrays and Properties\n",
    "# Create a 5x5 array with 7 on the border and 0 inside\n",
    "arr = np.ones((5,5)) * 7\n",
    "arr[1:-1, 1:-1] = 0\n",
    "print('1. Basics:')\n",
    "print(arr)\n",
    "\n",
    "# 2. Indexing and Slicing\n",
    "arr = np.arange(1, 21).reshape(4, 5)\n",
    "print('2. Indexing and Slicing - Original:')\n",
    "print(arr)\n",
    "\n",
    "# Extract even numbers\n",
    "even_nums = arr[arr % 2 == 0]\n",
    "print('Even numbers:')\n",
    "print(even_nums)\n",
    "\n",
    "# Replace elements divisible by 3 with -1\n",
    "arr[arr % 3 == 0] = -1\n",
    "print('Modified:')\n",
    "print(arr)\n",
    "\n",
    "# 3. Array Manipulation\n",
    "a = np.arange(100).reshape(10,10)\n",
    "print('3. Array Manipulation - Diagonal:', np.diag(a))\n",
    "print('Anti-diagonal:', np.fliplr(a).diagonal())\n",
    "\n",
    "# 4. Stacking and Splitting\n",
    "a = np.ones((2, 3))\n",
    "b = np.zeros((2, 3))\n",
    "\n",
    "v_stacked = np.vstack((a, b))\n",
    "h_stacked = np.hstack((a, b))\n",
    "\n",
    "print('4. Stacking and Splitting - Vertical:')\n",
    "print(v_stacked)\n",
    "print('Horizontal:')\n",
    "print(h_stacked)\n",
    "\n",
    "split_array = np.hsplit(h_stacked, 2)\n",
    "print('Split Result:')\n",
    "print(split_array)\n",
    "\n",
    "# 5. Mathematical Operations\n",
    "scores = np.array([[80, 90, 70],\n",
    "                   [60, 85, 75],\n",
    "                   [95, 88, 92]])\n",
    "\n",
    "# Average per student (row)\n",
    "print('5. Mathematical Operations - Student Averages:', scores.mean(axis=1))\n",
    "\n",
    "# Average per subject (column)\n",
    "print('Subject Averages:', scores.mean(axis=0))\n",
    "\n",
    "# 6. Broadcasting\n",
    "a = np.array([[1, 2, 3],\n",
    "              [4, 5, 6]])\n",
    "\n",
    "# Subtract row-wise mean\n",
    "row_mean = a.mean(axis=1, keepdims=True)\n",
    "normalized = a - row_mean\n",
    "print('6. Broadcasting - Normalized:')\n",
    "print(normalized)\n",
    "\n",
    "# 7. Random Number Generation\n",
    "np.random.seed(42)\n",
    "tosses = np.random.randint(0, 2, 1000)\n",
    "heads = np.sum(tosses == 1)\n",
    "print('7. Random Number Generation - Heads count:', heads)\n",
    "\n",
    "# 8. Set Operations\n",
    "a = np.array([1, 2, 3, 4, 5])\n",
    "b = np.array([4, 5, 6, 7])\n",
    "\n",
    "print('8. Set Operations - Common:', np.intersect1d(a, b))\n",
    "print('Unique to a:', np.setdiff1d(a, b))\n",
    "print('Union:', np.union1d(a, b))\n",
    "\n",
    "# 9. Linear Algebra\n",
    "A = np.array([[2, 3], [1, 2]])\n",
    "b = np.array([8, 5])\n",
    "\n",
    "x = np.linalg.solve(A, b)\n",
    "print('9. Linear Algebra - Solution:', x)\n",
    "\n",
    "# 10. Missing Data\n",
    "data = np.array([[1, 2, np.nan],\n",
    "                 [4, np.nan, 6],\n",
    "                 [7, 8, 9]])\n",
    "\n",
    "# Replace NaN with column mean\n",
    "col_mean = np.nanmean(data, axis=0)\n",
    "inds = np.where(np.isnan(data))\n",
    "data[inds] = np.take(col_mean, inds[1])\n",
    "print('10. Missing Data:')\n",
    "print(data)\n",
    "\n",
    "# 11. Advanced Indexing\n",
    "arr = np.random.randint(0, 100, size=(5, 5))\n",
    "print('11. Advanced Indexing - Array:')\n",
    "print(arr)\n",
    "\n",
    "print('Min Value:', arr.min(), 'at', np.unravel_index(arr.argmin(), arr.shape))\n",
    "print('Max Value:', arr.max(), 'at', np.unravel_index(arr.argmax(), arr.shape))\n",
    "\n",
    "# 12. Sorting and Searching\n",
    "arr = np.array([[1, 3],\n",
    "                [7, 2],\n",
    "                [5, 9]])\n",
    "\n",
    "# Sort by second column\n",
    "sorted_arr = arr[arr[:, 1].argsort()]\n",
    "print('12. Sorting and Searching:')\n",
    "print(sorted_arr)\n",
    "\n",
    "# 13. Custom Functions + Vectorization\n",
    "def classify(x):\n",
    "    if x < 0:\n",
    "        return 'Negative'\n",
    "    elif x == 0:\n",
    "        return 'Zero'\n",
    "    else:\n",
    "        return 'Positive'\n",
    "\n",
    "vec_classify = np.vectorize(classify)\n",
    "data = np.array([-3, 0, 5, 2, -1])\n",
    "print('13. Custom Functions + Vectorization:')\n",
    "print(vec_classify(data))\n",
    "\n",
    "# 14. Performance\n",
    "data = np.random.rand(1000000)\n",
    "\n",
    "# Loop\n",
    "start = time.time()\n",
    "count = 0\n",
    "for i in data:\n",
    "    if i > 0.5:\n",
    "        count += 1\n",
    "end = time.time()\n",
    "print('14. Performance - Loop:', count, 'Time:', end - start)\n",
    "\n",
    "# Vectorized\n",
    "start = time.time()\n",
    "count_vec = np.sum(data > 0.5)\n",
    "end = time.time()\n",
    "print('Vectorized:', count_vec, 'Time:', end - start)\n",
    "\n",
    "# Bonus Mini-Project (Image Grayscale)\n",
    "# You will need to replace 'your_image.jpg' with an actual image file path\n",
    "img = Image.open('your_image.jpg')\n",
    "img_np = np.array(img)\n",
    "\n",
    "# Convert to grayscale\n",
    "gray = np.dot(img_np[...,:3], [0.2989, 0.5870, 0.1140])\n",
    "Image.fromarray(gray.astype(np.uint8)).show()"
   ]
  },
  {
   "cell_type": "code",
   "execution_count": 3,
   "id": "99a10041",
   "metadata": {},
   "outputs": [
    {
     "data": {
      "text/plain": [
       "array([[1, 2],\n",
       "       [3, 4]])"
      ]
     },
     "execution_count": 3,
     "metadata": {},
     "output_type": "execute_result"
    }
   ],
   "source": [
    "a = np.array([1, 2])\n",
    "b = np.array([3, 4])\n",
    "np.vstack((a, b))\n",
    "# np.hstack((a, b))\n"
   ]
  },
  {
   "cell_type": "code",
   "execution_count": 9,
   "id": "b4cef45a",
   "metadata": {},
   "outputs": [
    {
     "data": {
      "text/plain": [
       "array([[1, 2],\n",
       "       [3, 4],\n",
       "       [5, 6],\n",
       "       [7, 8]])"
      ]
     },
     "execution_count": 9,
     "metadata": {},
     "output_type": "execute_result"
    }
   ],
   "source": [
    "a = np.array([[1,2],[3,4]])\n",
    "b = np.array([[5,6],[7,8]])\n",
    "np.vstack((a,b))"
   ]
  },
  {
   "cell_type": "code",
   "execution_count": 5,
   "id": "d851b61d",
   "metadata": {},
   "outputs": [
    {
     "data": {
      "text/plain": [
       "array([[1, 2, 5, 6],\n",
       "       [3, 4, 7, 8]])"
      ]
     },
     "execution_count": 5,
     "metadata": {},
     "output_type": "execute_result"
    }
   ],
   "source": [
    "np.hstack((a,b))"
   ]
  },
  {
   "cell_type": "code",
   "execution_count": 32,
   "id": "4c0780a5",
   "metadata": {},
   "outputs": [
    {
     "data": {
      "text/plain": [
       "array([[0, 0, 0, 0, 0, 0, 0, 0],\n",
       "       [0, 0, 0, 0, 0, 0, 0, 0],\n",
       "       [0, 0, 0, 0, 0, 0, 0, 0],\n",
       "       [0, 0, 0, 0, 0, 0, 0, 0],\n",
       "       [0, 0, 0, 0, 0, 0, 0, 0],\n",
       "       [0, 0, 0, 0, 0, 0, 0, 0],\n",
       "       [0, 0, 0, 0, 0, 0, 0, 0],\n",
       "       [0, 0, 0, 0, 0, 0, 0, 0]])"
      ]
     },
     "execution_count": 32,
     "metadata": {},
     "output_type": "execute_result"
    }
   ],
   "source": [
    "checkboard = np.zeros((8,8), dtype=int)\n",
    "checkboard"
   ]
  },
  {
   "cell_type": "code",
   "execution_count": 33,
   "id": "cd64b0ac",
   "metadata": {},
   "outputs": [
    {
     "data": {
      "text/plain": [
       "array([[0, 0, 0, 0, 0, 0, 0, 0],\n",
       "       [1, 0, 1, 0, 1, 0, 1, 0],\n",
       "       [0, 0, 0, 0, 0, 0, 0, 0],\n",
       "       [1, 0, 1, 0, 1, 0, 1, 0],\n",
       "       [0, 0, 0, 0, 0, 0, 0, 0],\n",
       "       [1, 0, 1, 0, 1, 0, 1, 0],\n",
       "       [0, 0, 0, 0, 0, 0, 0, 0],\n",
       "       [1, 0, 1, 0, 1, 0, 1, 0]])"
      ]
     },
     "execution_count": 33,
     "metadata": {},
     "output_type": "execute_result"
    }
   ],
   "source": [
    "checkboard[1::2,::2] = 1\n",
    "checkboard"
   ]
  },
  {
   "cell_type": "code",
   "execution_count": 35,
   "id": "61e8e340",
   "metadata": {},
   "outputs": [
    {
     "data": {
      "text/plain": [
       "array([[0, 1, 0, 1, 0, 1, 0, 1],\n",
       "       [1, 0, 1, 0, 1, 0, 1, 0],\n",
       "       [0, 1, 0, 1, 0, 1, 0, 1],\n",
       "       [1, 0, 1, 0, 1, 0, 1, 0],\n",
       "       [0, 1, 0, 1, 0, 1, 0, 1],\n",
       "       [1, 0, 1, 0, 1, 0, 1, 0],\n",
       "       [0, 1, 0, 1, 0, 1, 0, 1],\n",
       "       [1, 0, 1, 0, 1, 0, 1, 0]])"
      ]
     },
     "execution_count": 35,
     "metadata": {},
     "output_type": "execute_result"
    }
   ],
   "source": [
    "checkboard[::2, 1::2] = 1\n",
    "checkboard"
   ]
  },
  {
   "cell_type": "code",
   "execution_count": 42,
   "id": "b26f4e43",
   "metadata": {},
   "outputs": [
    {
     "data": {
      "text/plain": [
       "array([0, 2, 3, 1, 2], dtype=int64)"
      ]
     },
     "execution_count": 42,
     "metadata": {},
     "output_type": "execute_result"
    }
   ],
   "source": [
    "arr = np.array([1,2,3,4,2,1,2,4])\n",
    "counts = np.bincount(arr)\n",
    "counts"
   ]
  },
  {
   "cell_type": "code",
   "execution_count": 43,
   "id": "ae64dc4b",
   "metadata": {},
   "outputs": [
    {
     "data": {
      "text/plain": [
       "2"
      ]
     },
     "execution_count": 43,
     "metadata": {},
     "output_type": "execute_result"
    }
   ],
   "source": [
    "most_freq = np.argmax(counts)\n",
    "most_freq"
   ]
  },
  {
   "cell_type": "code",
   "execution_count": 70,
   "id": "be3828d8",
   "metadata": {},
   "outputs": [
    {
     "data": {
      "text/plain": [
       "array([[0, 0, 0, 0, 0],\n",
       "       [0, 0, 0, 0, 0],\n",
       "       [0, 0, 0, 0, 0],\n",
       "       [0, 0, 0, 0, 0],\n",
       "       [0, 0, 0, 0, 0]])"
      ]
     },
     "execution_count": 70,
     "metadata": {},
     "output_type": "execute_result"
    }
   ],
   "source": [
    "arr = np.zeros((5,5), dtype=int)\n",
    "arr"
   ]
  },
  {
   "cell_type": "code",
   "execution_count": 74,
   "id": "6cac3def",
   "metadata": {},
   "outputs": [
    {
     "data": {
      "text/plain": [
       "array([[1, 1, 1, 1, 1],\n",
       "       [1, 0, 0, 0, 1],\n",
       "       [1, 0, 0, 0, 1],\n",
       "       [1, 0, 0, 0, 1],\n",
       "       [1, 1, 1, 1, 1]])"
      ]
     },
     "execution_count": 74,
     "metadata": {},
     "output_type": "execute_result"
    }
   ],
   "source": [
    "arr[0, :] = 1\n",
    "arr[:,0] = 1\n",
    "arr[-1,:] = 1\n",
    "arr[:, -1] = 1\n",
    "arr"
   ]
  },
  {
   "cell_type": "code",
   "execution_count": 75,
   "id": "724be3d8",
   "metadata": {},
   "outputs": [
    {
     "data": {
      "text/plain": [
       "array([[0, 0, 0, 0, 0],\n",
       "       [0, 0, 0, 0, 0],\n",
       "       [0, 0, 0, 0, 0],\n",
       "       [0, 0, 0, 0, 0],\n",
       "       [0, 0, 0, 0, 0]])"
      ]
     },
     "execution_count": 75,
     "metadata": {},
     "output_type": "execute_result"
    }
   ],
   "source": [
    "arr = np.zeros((5,5), dtype=int)\n",
    "arr"
   ]
  },
  {
   "cell_type": "code",
   "execution_count": null,
   "id": "f97b2abb",
   "metadata": {},
   "outputs": [
    {
     "name": "stdout",
     "output_type": "stream",
     "text": [
      "[[0 0 0 0 0 0 0]\n",
      " [0 0 0 0 0 0 0]\n",
      " [0 0 0 0 0 0 0]\n",
      " [0 0 0 0 0 0 0]\n",
      " [0 0 0 0 0 0 0]\n",
      " [0 0 0 0 0 0 0]\n",
      " [0 0 0 0 0 0 0]]\n"
     ]
    }
   ],
   "source": [
    "print(np.pad(arr, pad_width=1, mode='constant', constant_values=1)) \n"
   ]
  }
 ],
 "metadata": {
  "kernelspec": {
   "display_name": "base",
   "language": "python",
   "name": "python3"
  },
  "language_info": {
   "codemirror_mode": {
    "name": "ipython",
    "version": 3
   },
   "file_extension": ".py",
   "mimetype": "text/x-python",
   "name": "python",
   "nbconvert_exporter": "python",
   "pygments_lexer": "ipython3",
   "version": "3.12.4"
  }
 },
 "nbformat": 4,
 "nbformat_minor": 5
}
