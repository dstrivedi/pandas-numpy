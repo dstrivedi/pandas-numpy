{
 "cells": [
  {
   "cell_type": "markdown",
   "id": "ba0f1cfe",
   "metadata": {},
   "source": [
    "### Create a DataFrame with columns \"Name\", \"Age\", \"City\" for 5 people. Filter to show only people older than 25."
   ]
  },
  {
   "cell_type": "code",
   "execution_count": null,
   "id": "211bcc02",
   "metadata": {},
   "outputs": [
    {
     "name": "stdout",
     "output_type": "stream",
     "text": [
      "[0    False\n",
      "1     True\n",
      "2     True\n",
      "3     True\n",
      "4    False\n",
      "Name: Age, dtype: bool]\n",
      "1        Bob\n",
      "2    Charlie\n",
      "3      David\n",
      "Name: Name, dtype: object\n"
     ]
    }
   ],
   "source": [
    "import pandas as pd\n",
    "\n",
    "# Solution\n",
    "data = {\n",
    "    \"Name\": [\"Alice\", \"Bob\", \"Charlie\", \"David\", \"Eve\"],\n",
    "    \"Age\": [24, 32, 28, 45, 22],\n",
    "    \"City\": [\"NY\", \"LA\", \"Chicago\", \"Miami\", \"Boston\"]\n",
    "}\n",
    "\n",
    "df = pd.DataFrame(data)\n",
    "dfGT25 = [df['Age'] > 25]\n",
    "print(dfGT25)\n",
    "dfGT25_data = df[df['Age'] > 25]\n",
    "print(dfGT25_data)"
   ]
  },
  {
   "cell_type": "markdown",
   "id": "85445d52",
   "metadata": {},
   "source": [
    "###  Given a DataFrame with missing values, fill numeric columns with their mean and categorical columns with \"Unknown\"."
   ]
  },
  {
   "cell_type": "code",
   "execution_count": null,
   "id": "4e101bd2",
   "metadata": {},
   "outputs": [
    {
     "data": {
      "text/html": [
       "<div>\n",
       "<style scoped>\n",
       "    .dataframe tbody tr th:only-of-type {\n",
       "        vertical-align: middle;\n",
       "    }\n",
       "\n",
       "    .dataframe tbody tr th {\n",
       "        vertical-align: top;\n",
       "    }\n",
       "\n",
       "    .dataframe thead th {\n",
       "        text-align: right;\n",
       "    }\n",
       "</style>\n",
       "<table border=\"1\" class=\"dataframe\">\n",
       "  <thead>\n",
       "    <tr style=\"text-align: right;\">\n",
       "      <th></th>\n",
       "      <th>A</th>\n",
       "      <th>B</th>\n",
       "    </tr>\n",
       "  </thead>\n",
       "  <tbody>\n",
       "    <tr>\n",
       "      <th>0</th>\n",
       "      <td>1.000000</td>\n",
       "      <td>X</td>\n",
       "    </tr>\n",
       "    <tr>\n",
       "      <th>1</th>\n",
       "      <td>2.000000</td>\n",
       "      <td>Unknown</td>\n",
       "    </tr>\n",
       "    <tr>\n",
       "      <th>2</th>\n",
       "      <td>2.333333</td>\n",
       "      <td>Y</td>\n",
       "    </tr>\n",
       "    <tr>\n",
       "      <th>3</th>\n",
       "      <td>4.000000</td>\n",
       "      <td>Z</td>\n",
       "    </tr>\n",
       "  </tbody>\n",
       "</table>\n",
       "</div>"
      ],
      "text/plain": [
       "          A        B\n",
       "0  1.000000        X\n",
       "1  2.000000  Unknown\n",
       "2  2.333333        Y\n",
       "3  4.000000        Z"
      ]
     },
     "execution_count": 15,
     "metadata": {},
     "output_type": "execute_result"
    }
   ],
   "source": [
    "\n",
    "# Sample data with missing values\n",
    "df = pd.DataFrame({\n",
    "    \"A\": [1, 2, None, 4],\n",
    "    \"B\": [\"X\", None, \"Y\", \"Z\"]\n",
    "})\n",
    "df['A'] = df['A'].fillna(df['A'].mean(), inplace=True)\n",
    "df['B'] = df['B'].fillna('Unknown', inplace=True)\n",
    "df"
   ]
  },
  {
   "cell_type": "markdown",
   "id": "6ccdb539",
   "metadata": {},
   "source": [
    "### For a sales DataFrame, calculate total and average sales by region."
   ]
  },
  {
   "cell_type": "code",
   "execution_count": 18,
   "id": "7658ea1c",
   "metadata": {},
   "outputs": [
    {
     "name": "stdout",
     "output_type": "stream",
     "text": [
      "        sum   mean\n",
      "Region            \n",
      "East    550  275.0\n",
      "North   250  125.0\n",
      "South   200  200.0\n"
     ]
    }
   ],
   "source": [
    "sales = pd.DataFrame({\n",
    "    \"Region\": [\"North\", \"South\", \"North\", \"East\", \"East\"],\n",
    "    \"Sales\": [100, 200, 150, 300, 250]\n",
    "})\n",
    "\n",
    "result = sales.groupby('Region')['Sales'].agg(['sum', 'mean'])\n",
    "print(result)"
   ]
  },
  {
   "cell_type": "markdown",
   "id": "32daf454",
   "metadata": {},
   "source": [
    "### Given a DataFrame with dates, extract the month and find the count of records per month."
   ]
  },
  {
   "cell_type": "code",
   "execution_count": 27,
   "id": "295e5be4",
   "metadata": {},
   "outputs": [
    {
     "name": "stdout",
     "output_type": "stream",
     "text": [
      "Month Name\n",
      "April       10\n",
      "February    28\n",
      "January     31\n",
      "March       31\n",
      "Name: Value, dtype: int64\n",
      "Month Name\n",
      "January     31\n",
      "March       31\n",
      "February    28\n",
      "April       10\n",
      "Name: count, dtype: int64\n"
     ]
    }
   ],
   "source": [
    "df = pd.DataFrame({\n",
    "    \"Date\": pd.date_range(start=\"2023-01-01\", periods=100, freq=\"D\"),\n",
    "    \"Value\": range(100)\n",
    "})\n",
    "\n",
    "df['Month'] = df['Date'].dt.month\n",
    "df['Month Name'] = df['Date'].dt.month_name()\n",
    "result = df.groupby('Month Name')['Value'].count()\n",
    "result1 = df['Month Name'].value_counts()\n",
    "print(result)\n",
    "print(result1)"
   ]
  },
  {
   "cell_type": "markdown",
   "id": "5181162e",
   "metadata": {},
   "source": [
    "## Series.copy(deep=True)"
   ]
  },
  {
   "cell_type": "code",
   "execution_count": 28,
   "id": "f985d448",
   "metadata": {},
   "outputs": [
    {
     "data": {
      "text/plain": [
       "0    1\n",
       "1    2\n",
       "2    3\n",
       "3    4\n",
       "4    5\n",
       "dtype: int64"
      ]
     },
     "execution_count": 28,
     "metadata": {},
     "output_type": "execute_result"
    }
   ],
   "source": [
    "series = pd.Series([1,2,3,4,5])\n",
    "series"
   ]
  },
  {
   "cell_type": "code",
   "execution_count": 29,
   "id": "2eafffd4",
   "metadata": {},
   "outputs": [
    {
     "data": {
      "text/plain": [
       "0    1\n",
       "1    2\n",
       "2    3\n",
       "3    4\n",
       "4    5\n",
       "dtype: int64"
      ]
     },
     "execution_count": 29,
     "metadata": {},
     "output_type": "execute_result"
    }
   ],
   "source": [
    "copied = series.copy()\n",
    "copied"
   ]
  },
  {
   "cell_type": "code",
   "execution_count": 30,
   "id": "e236df28",
   "metadata": {},
   "outputs": [
    {
     "data": {
      "text/plain": [
       "0     1\n",
       "1    10\n",
       "2     3\n",
       "3     4\n",
       "4     5\n",
       "dtype: int64"
      ]
     },
     "execution_count": 30,
     "metadata": {},
     "output_type": "execute_result"
    }
   ],
   "source": [
    "copied[1] = 10\n",
    "copied"
   ]
  },
  {
   "cell_type": "code",
   "execution_count": 31,
   "id": "a0cd73d4",
   "metadata": {},
   "outputs": [
    {
     "data": {
      "text/plain": [
       "0    1\n",
       "1    2\n",
       "2    3\n",
       "3    4\n",
       "4    5\n",
       "dtype: int64"
      ]
     },
     "execution_count": 31,
     "metadata": {},
     "output_type": "execute_result"
    }
   ],
   "source": [
    "series"
   ]
  },
  {
   "cell_type": "code",
   "execution_count": 32,
   "id": "a7a88858",
   "metadata": {},
   "outputs": [
    {
     "data": {
      "text/plain": [
       "0    1\n",
       "1    2\n",
       "2    3\n",
       "3    4\n",
       "4    5\n",
       "dtype: int64"
      ]
     },
     "execution_count": 32,
     "metadata": {},
     "output_type": "execute_result"
    }
   ],
   "source": [
    "shallow_copy = series.copy(deep=False)\n",
    "shallow_copy"
   ]
  },
  {
   "cell_type": "code",
   "execution_count": 33,
   "id": "a5972bed",
   "metadata": {},
   "outputs": [
    {
     "data": {
      "text/plain": [
       "0     1\n",
       "1    20\n",
       "2     3\n",
       "3     4\n",
       "4     5\n",
       "dtype: int64"
      ]
     },
     "execution_count": 33,
     "metadata": {},
     "output_type": "execute_result"
    }
   ],
   "source": [
    "shallow_copy[1] = 20\n",
    "shallow_copy"
   ]
  },
  {
   "cell_type": "code",
   "execution_count": 34,
   "id": "3403eace",
   "metadata": {},
   "outputs": [
    {
     "data": {
      "text/plain": [
       "0     1\n",
       "1    20\n",
       "2     3\n",
       "3     4\n",
       "4     5\n",
       "dtype: int64"
      ]
     },
     "execution_count": 34,
     "metadata": {},
     "output_type": "execute_result"
    }
   ],
   "source": [
    "series"
   ]
  }
 ],
 "metadata": {
  "kernelspec": {
   "display_name": "base",
   "language": "python",
   "name": "python3"
  },
  "language_info": {
   "codemirror_mode": {
    "name": "ipython",
    "version": 3
   },
   "file_extension": ".py",
   "mimetype": "text/x-python",
   "name": "python",
   "nbconvert_exporter": "python",
   "pygments_lexer": "ipython3",
   "version": "3.12.4"
  }
 },
 "nbformat": 4,
 "nbformat_minor": 5
}
